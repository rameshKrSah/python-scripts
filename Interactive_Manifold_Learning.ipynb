{
  "cells": [
    {
      "cell_type": "markdown",
      "metadata": {
        "id": "view-in-github",
        "colab_type": "text"
      },
      "source": [
        "<a href=\"https://colab.research.google.com/github/rameshKrSah/useful_functions/blob/main/Interactive_Manifold_Learning.ipynb\" target=\"_parent\"><img src=\"https://colab.research.google.com/assets/colab-badge.svg\" alt=\"Open In Colab\"/></a>"
      ]
    },
    {
      "cell_type": "markdown",
      "id": "9ce3a4bc",
      "metadata": {
        "id": "9ce3a4bc"
      },
      "source": [
        "\n",
        "1. Name and properties of compounds in small clusters of manifold plots\n",
        "2. Use clustering algorithm to find clusters\n",
        "3. Plot molecules based on how large they are. Use features such as molecular weight, volume, number of atoms. What defines the size of molecules?\n",
        "\n",
        "4. EDA - find class specific features\n",
        "5. General toxicity vs. specific toxicity\n"
      ]
    },
    {
      "cell_type": "code",
      "source": [
        "from google.colab import drive\n",
        "drive.mount('/gdrive')\n",
        "%cd /gdrive"
      ],
      "metadata": {
        "colab": {
          "base_uri": "https://localhost:8080/"
        },
        "id": "bCnPE8V5AbN-",
        "outputId": "48d4a45f-2a7e-440c-f80e-4b26886a93e8"
      },
      "id": "bCnPE8V5AbN-",
      "execution_count": 1,
      "outputs": [
        {
          "output_type": "stream",
          "name": "stdout",
          "text": [
            "Mounted at /gdrive\n",
            "/gdrive\n"
          ]
        }
      ]
    },
    {
      "cell_type": "code",
      "execution_count": 2,
      "id": "e7e91a24",
      "metadata": {
        "id": "e7e91a24"
      },
      "outputs": [],
      "source": [
        "import os\n",
        "import numpy as np\n",
        "import pandas as pd\n",
        "import matplotlib.pyplot as plt"
      ]
    },
    {
      "cell_type": "code",
      "source": [
        "os.listdir('My Drive/Colab Notebooks/Others/')"
      ],
      "metadata": {
        "colab": {
          "base_uri": "https://localhost:8080/"
        },
        "id": "enjOuJ7DAd04",
        "outputId": "256963b3-b511-43cf-a7b0-a3ae64ae20ae"
      },
      "id": "enjOuJ7DAd04",
      "execution_count": 8,
      "outputs": [
        {
          "output_type": "execute_result",
          "data": {
            "text/plain": [
              "['Interactive Manifold Learning.ipynb',\n",
              " 'Master and Emissary MINIST',\n",
              " 'Sensor Transformer for Human Activity Recognition',\n",
              " 'MHEALTH Model Training and Evaluation.ipynb',\n",
              " 'Paper - Manifold Learning.ipynb',\n",
              " 'total_df.csv']"
            ]
          },
          "metadata": {},
          "execution_count": 8
        }
      ]
    },
    {
      "cell_type": "code",
      "execution_count": 13,
      "id": "723ae5be",
      "metadata": {
        "id": "723ae5be"
      },
      "outputs": [],
      "source": [
        "from sklearn import manifold\n",
        "from sklearn.utils import shuffle\n",
        "from sklearn.decomposition import PCA\n",
        "from sklearn.preprocessing import StandardScaler"
      ]
    },
    {
      "cell_type": "code",
      "execution_count": 5,
      "id": "9d667b20",
      "metadata": {
        "id": "9d667b20"
      },
      "outputs": [],
      "source": [
        "from collections import OrderedDict\n",
        "from functools import partial"
      ]
    },
    {
      "cell_type": "code",
      "execution_count": null,
      "id": "7bde99d1",
      "metadata": {
        "id": "7bde99d1"
      },
      "outputs": [],
      "source": [
        "import rdkit.Chem as Chem\n",
        "from rdkit.Chem import AllChem\n",
        "\n",
        "def smiles_to_fps(data, fp_length, fp_radius):\n",
        "    return stringlist2intarray(np.array([smile_to_fp(s, fp_length, fp_radius) for s in data]))\n",
        "\n",
        "def smile_to_fp(s, fp_length, fp_radius):\n",
        "    m = Chem.MolFromSmiles(s)\n",
        "    return (AllChem.GetMorganFingerprintAsBitVect(\n",
        "        m, fp_radius, nBits=fp_length)).ToBitString()\n",
        "\n",
        "def stringlist2intarray(A):\n",
        "    '''This function will convert from a list of strings \"10010101\" into in integer numpy array.'''\n",
        "    return np.array([list(s) for s in A], dtype=int)"
      ]
    },
    {
      "cell_type": "code",
      "execution_count": 10,
      "id": "8e5eec47",
      "metadata": {
        "id": "8e5eec47"
      },
      "outputs": [],
      "source": [
        "# load the feature dataset\n",
        "features_df = pd.read_csv(\"My Drive/Colab Notebooks/Others/total_df.csv\", index_col=[0])"
      ]
    },
    {
      "cell_type": "code",
      "execution_count": 11,
      "id": "c119f4ec",
      "metadata": {
        "colab": {
          "base_uri": "https://localhost:8080/",
          "height": 235
        },
        "id": "c119f4ec",
        "outputId": "3eb0ae1a-94f8-4eea-94c3-d282aa81db95"
      },
      "outputs": [
        {
          "output_type": "execute_result",
          "data": {
            "text/html": [
              "\n",
              "  <div id=\"df-77382b5e-f767-498e-a5c8-7c4ece093ad7\">\n",
              "    <div class=\"colab-df-container\">\n",
              "      <div>\n",
              "<style scoped>\n",
              "    .dataframe tbody tr th:only-of-type {\n",
              "        vertical-align: middle;\n",
              "    }\n",
              "\n",
              "    .dataframe tbody tr th {\n",
              "        vertical-align: top;\n",
              "    }\n",
              "\n",
              "    .dataframe thead th {\n",
              "        text-align: right;\n",
              "    }\n",
              "</style>\n",
              "<table border=\"1\" class=\"dataframe\">\n",
              "  <thead>\n",
              "    <tr style=\"text-align: right;\">\n",
              "      <th></th>\n",
              "      <th>AWeight</th>\n",
              "      <th>PC1</th>\n",
              "      <th>PC2</th>\n",
              "      <th>PC3</th>\n",
              "      <th>PC4</th>\n",
              "      <th>PC5</th>\n",
              "      <th>PC6</th>\n",
              "      <th>Weight</th>\n",
              "      <th>naccr</th>\n",
              "      <th>naro</th>\n",
              "      <th>...</th>\n",
              "      <th>Smin8</th>\n",
              "      <th>Smin9</th>\n",
              "      <th>Hy</th>\n",
              "      <th>LogP</th>\n",
              "      <th>LogP2</th>\n",
              "      <th>MR</th>\n",
              "      <th>TPSA</th>\n",
              "      <th>UI</th>\n",
              "      <th>class_label</th>\n",
              "      <th>compound</th>\n",
              "    </tr>\n",
              "  </thead>\n",
              "  <tbody>\n",
              "    <tr>\n",
              "      <th>0</th>\n",
              "      <td>13.557</td>\n",
              "      <td>42</td>\n",
              "      <td>63</td>\n",
              "      <td>87</td>\n",
              "      <td>113</td>\n",
              "      <td>143</td>\n",
              "      <td>169</td>\n",
              "      <td>542.268</td>\n",
              "      <td>15</td>\n",
              "      <td>0</td>\n",
              "      <td>...</td>\n",
              "      <td>-0.910</td>\n",
              "      <td>0.0</td>\n",
              "      <td>-2.794</td>\n",
              "      <td>-8.368</td>\n",
              "      <td>70.018</td>\n",
              "      <td>133.941</td>\n",
              "      <td>339.59</td>\n",
              "      <td>1.585</td>\n",
              "      <td>1</td>\n",
              "      <td>Dihydrostreptomycin</td>\n",
              "    </tr>\n",
              "    <tr>\n",
              "      <th>1</th>\n",
              "      <td>13.159</td>\n",
              "      <td>35</td>\n",
              "      <td>52</td>\n",
              "      <td>69</td>\n",
              "      <td>85</td>\n",
              "      <td>105</td>\n",
              "      <td>118</td>\n",
              "      <td>434.259</td>\n",
              "      <td>12</td>\n",
              "      <td>0</td>\n",
              "      <td>...</td>\n",
              "      <td>-0.062</td>\n",
              "      <td>0.0</td>\n",
              "      <td>-3.210</td>\n",
              "      <td>-3.327</td>\n",
              "      <td>11.072</td>\n",
              "      <td>119.931</td>\n",
              "      <td>199.73</td>\n",
              "      <td>0.000</td>\n",
              "      <td>1</td>\n",
              "      <td>Gentamicin</td>\n",
              "    </tr>\n",
              "    <tr>\n",
              "      <th>2</th>\n",
              "      <td>13.531</td>\n",
              "      <td>45</td>\n",
              "      <td>67</td>\n",
              "      <td>94</td>\n",
              "      <td>118</td>\n",
              "      <td>150</td>\n",
              "      <td>175</td>\n",
              "      <td>568.282</td>\n",
              "      <td>19</td>\n",
              "      <td>0</td>\n",
              "      <td>...</td>\n",
              "      <td>-0.646</td>\n",
              "      <td>0.0</td>\n",
              "      <td>-2.953</td>\n",
              "      <td>-8.895</td>\n",
              "      <td>79.126</td>\n",
              "      <td>138.356</td>\n",
              "      <td>353.11</td>\n",
              "      <td>0.000</td>\n",
              "      <td>1</td>\n",
              "      <td>Neomycin</td>\n",
              "    </tr>\n",
              "    <tr>\n",
              "      <th>3</th>\n",
              "      <td>14.267</td>\n",
              "      <td>38</td>\n",
              "      <td>49</td>\n",
              "      <td>46</td>\n",
              "      <td>47</td>\n",
              "      <td>48</td>\n",
              "      <td>49</td>\n",
              "      <td>556.405</td>\n",
              "      <td>10</td>\n",
              "      <td>12</td>\n",
              "      <td>...</td>\n",
              "      <td>-0.576</td>\n",
              "      <td>0.0</td>\n",
              "      <td>-3.117</td>\n",
              "      <td>0.616</td>\n",
              "      <td>0.379</td>\n",
              "      <td>146.760</td>\n",
              "      <td>267.40</td>\n",
              "      <td>4.248</td>\n",
              "      <td>1</td>\n",
              "      <td>Pentamidine isethionate</td>\n",
              "    </tr>\n",
              "    <tr>\n",
              "      <th>4</th>\n",
              "      <td>14.934</td>\n",
              "      <td>29</td>\n",
              "      <td>42</td>\n",
              "      <td>57</td>\n",
              "      <td>70</td>\n",
              "      <td>87</td>\n",
              "      <td>97</td>\n",
              "      <td>418.161</td>\n",
              "      <td>3</td>\n",
              "      <td>12</td>\n",
              "      <td>...</td>\n",
              "      <td>0.410</td>\n",
              "      <td>0.0</td>\n",
              "      <td>-3.949</td>\n",
              "      <td>1.735</td>\n",
              "      <td>3.010</td>\n",
              "      <td>107.083</td>\n",
              "      <td>35.53</td>\n",
              "      <td>3.807</td>\n",
              "      <td>1</td>\n",
              "      <td>Propantheline bromide</td>\n",
              "    </tr>\n",
              "  </tbody>\n",
              "</table>\n",
              "<p>5 rows × 404 columns</p>\n",
              "</div>\n",
              "      <button class=\"colab-df-convert\" onclick=\"convertToInteractive('df-77382b5e-f767-498e-a5c8-7c4ece093ad7')\"\n",
              "              title=\"Convert this dataframe to an interactive table.\"\n",
              "              style=\"display:none;\">\n",
              "        \n",
              "  <svg xmlns=\"http://www.w3.org/2000/svg\" height=\"24px\"viewBox=\"0 0 24 24\"\n",
              "       width=\"24px\">\n",
              "    <path d=\"M0 0h24v24H0V0z\" fill=\"none\"/>\n",
              "    <path d=\"M18.56 5.44l.94 2.06.94-2.06 2.06-.94-2.06-.94-.94-2.06-.94 2.06-2.06.94zm-11 1L8.5 8.5l.94-2.06 2.06-.94-2.06-.94L8.5 2.5l-.94 2.06-2.06.94zm10 10l.94 2.06.94-2.06 2.06-.94-2.06-.94-.94-2.06-.94 2.06-2.06.94z\"/><path d=\"M17.41 7.96l-1.37-1.37c-.4-.4-.92-.59-1.43-.59-.52 0-1.04.2-1.43.59L10.3 9.45l-7.72 7.72c-.78.78-.78 2.05 0 2.83L4 21.41c.39.39.9.59 1.41.59.51 0 1.02-.2 1.41-.59l7.78-7.78 2.81-2.81c.8-.78.8-2.07 0-2.86zM5.41 20L4 18.59l7.72-7.72 1.47 1.35L5.41 20z\"/>\n",
              "  </svg>\n",
              "      </button>\n",
              "      \n",
              "  <style>\n",
              "    .colab-df-container {\n",
              "      display:flex;\n",
              "      flex-wrap:wrap;\n",
              "      gap: 12px;\n",
              "    }\n",
              "\n",
              "    .colab-df-convert {\n",
              "      background-color: #E8F0FE;\n",
              "      border: none;\n",
              "      border-radius: 50%;\n",
              "      cursor: pointer;\n",
              "      display: none;\n",
              "      fill: #1967D2;\n",
              "      height: 32px;\n",
              "      padding: 0 0 0 0;\n",
              "      width: 32px;\n",
              "    }\n",
              "\n",
              "    .colab-df-convert:hover {\n",
              "      background-color: #E2EBFA;\n",
              "      box-shadow: 0px 1px 2px rgba(60, 64, 67, 0.3), 0px 1px 3px 1px rgba(60, 64, 67, 0.15);\n",
              "      fill: #174EA6;\n",
              "    }\n",
              "\n",
              "    [theme=dark] .colab-df-convert {\n",
              "      background-color: #3B4455;\n",
              "      fill: #D2E3FC;\n",
              "    }\n",
              "\n",
              "    [theme=dark] .colab-df-convert:hover {\n",
              "      background-color: #434B5C;\n",
              "      box-shadow: 0px 1px 3px 1px rgba(0, 0, 0, 0.15);\n",
              "      filter: drop-shadow(0px 1px 2px rgba(0, 0, 0, 0.3));\n",
              "      fill: #FFFFFF;\n",
              "    }\n",
              "  </style>\n",
              "\n",
              "      <script>\n",
              "        const buttonEl =\n",
              "          document.querySelector('#df-77382b5e-f767-498e-a5c8-7c4ece093ad7 button.colab-df-convert');\n",
              "        buttonEl.style.display =\n",
              "          google.colab.kernel.accessAllowed ? 'block' : 'none';\n",
              "\n",
              "        async function convertToInteractive(key) {\n",
              "          const element = document.querySelector('#df-77382b5e-f767-498e-a5c8-7c4ece093ad7');\n",
              "          const dataTable =\n",
              "            await google.colab.kernel.invokeFunction('convertToInteractive',\n",
              "                                                     [key], {});\n",
              "          if (!dataTable) return;\n",
              "\n",
              "          const docLinkHtml = 'Like what you see? Visit the ' +\n",
              "            '<a target=\"_blank\" href=https://colab.research.google.com/notebooks/data_table.ipynb>data table notebook</a>'\n",
              "            + ' to learn more about interactive tables.';\n",
              "          element.innerHTML = '';\n",
              "          dataTable['output_type'] = 'display_data';\n",
              "          await google.colab.output.renderOutput(dataTable, element);\n",
              "          const docLink = document.createElement('div');\n",
              "          docLink.innerHTML = docLinkHtml;\n",
              "          element.appendChild(docLink);\n",
              "        }\n",
              "      </script>\n",
              "    </div>\n",
              "  </div>\n",
              "  "
            ],
            "text/plain": [
              "   AWeight  PC1  PC2  PC3  PC4  PC5  PC6   Weight  naccr  naro  ...  Smin8  \\\n",
              "0   13.557   42   63   87  113  143  169  542.268     15     0  ... -0.910   \n",
              "1   13.159   35   52   69   85  105  118  434.259     12     0  ... -0.062   \n",
              "2   13.531   45   67   94  118  150  175  568.282     19     0  ... -0.646   \n",
              "3   14.267   38   49   46   47   48   49  556.405     10    12  ... -0.576   \n",
              "4   14.934   29   42   57   70   87   97  418.161      3    12  ...  0.410   \n",
              "\n",
              "   Smin9     Hy   LogP   LogP2       MR    TPSA     UI  class_label  \\\n",
              "0    0.0 -2.794 -8.368  70.018  133.941  339.59  1.585            1   \n",
              "1    0.0 -3.210 -3.327  11.072  119.931  199.73  0.000            1   \n",
              "2    0.0 -2.953 -8.895  79.126  138.356  353.11  0.000            1   \n",
              "3    0.0 -3.117  0.616   0.379  146.760  267.40  4.248            1   \n",
              "4    0.0 -3.949  1.735   3.010  107.083   35.53  3.807            1   \n",
              "\n",
              "                  compound  \n",
              "0      Dihydrostreptomycin  \n",
              "1               Gentamicin  \n",
              "2                 Neomycin  \n",
              "3  Pentamidine isethionate  \n",
              "4    Propantheline bromide  \n",
              "\n",
              "[5 rows x 404 columns]"
            ]
          },
          "metadata": {},
          "execution_count": 11
        }
      ],
      "source": [
        "features_df.head()"
      ]
    },
    {
      "cell_type": "code",
      "execution_count": 14,
      "id": "10fee997",
      "metadata": {
        "id": "10fee997"
      },
      "outputs": [],
      "source": [
        "index = features_df.index\n",
        "features_df = shuffle(features_df, random_state=43)\n",
        "features_df.index = index"
      ]
    },
    {
      "cell_type": "code",
      "execution_count": 15,
      "id": "49effa6e",
      "metadata": {
        "colab": {
          "base_uri": "https://localhost:8080/",
          "height": 235
        },
        "id": "49effa6e",
        "outputId": "589c816f-9bc3-436d-f966-0c310354e15b"
      },
      "outputs": [
        {
          "output_type": "execute_result",
          "data": {
            "text/html": [
              "\n",
              "  <div id=\"df-c7882364-f3ee-4b88-9b0f-cc683754e5f1\">\n",
              "    <div class=\"colab-df-container\">\n",
              "      <div>\n",
              "<style scoped>\n",
              "    .dataframe tbody tr th:only-of-type {\n",
              "        vertical-align: middle;\n",
              "    }\n",
              "\n",
              "    .dataframe tbody tr th {\n",
              "        vertical-align: top;\n",
              "    }\n",
              "\n",
              "    .dataframe thead th {\n",
              "        text-align: right;\n",
              "    }\n",
              "</style>\n",
              "<table border=\"1\" class=\"dataframe\">\n",
              "  <thead>\n",
              "    <tr style=\"text-align: right;\">\n",
              "      <th></th>\n",
              "      <th>AWeight</th>\n",
              "      <th>PC1</th>\n",
              "      <th>PC2</th>\n",
              "      <th>PC3</th>\n",
              "      <th>PC4</th>\n",
              "      <th>PC5</th>\n",
              "      <th>PC6</th>\n",
              "      <th>Weight</th>\n",
              "      <th>naccr</th>\n",
              "      <th>naro</th>\n",
              "      <th>...</th>\n",
              "      <th>Smin8</th>\n",
              "      <th>Smin9</th>\n",
              "      <th>Hy</th>\n",
              "      <th>LogP</th>\n",
              "      <th>LogP2</th>\n",
              "      <th>MR</th>\n",
              "      <th>TPSA</th>\n",
              "      <th>UI</th>\n",
              "      <th>class_label</th>\n",
              "      <th>compound</th>\n",
              "    </tr>\n",
              "  </thead>\n",
              "  <tbody>\n",
              "    <tr>\n",
              "      <th>0</th>\n",
              "      <td>12.618</td>\n",
              "      <td>27</td>\n",
              "      <td>45</td>\n",
              "      <td>64</td>\n",
              "      <td>98</td>\n",
              "      <td>130</td>\n",
              "      <td>163</td>\n",
              "      <td>290.217</td>\n",
              "      <td>4</td>\n",
              "      <td>0</td>\n",
              "      <td>...</td>\n",
              "      <td>0.680</td>\n",
              "      <td>0.0</td>\n",
              "      <td>-3.540</td>\n",
              "      <td>1.158</td>\n",
              "      <td>1.341</td>\n",
              "      <td>82.799</td>\n",
              "      <td>90.35</td>\n",
              "      <td>1.585</td>\n",
              "      <td>0</td>\n",
              "      <td>Saxagliptin</td>\n",
              "    </tr>\n",
              "    <tr>\n",
              "      <th>1</th>\n",
              "      <td>13.467</td>\n",
              "      <td>41</td>\n",
              "      <td>67</td>\n",
              "      <td>91</td>\n",
              "      <td>124</td>\n",
              "      <td>164</td>\n",
              "      <td>213</td>\n",
              "      <td>498.297</td>\n",
              "      <td>2</td>\n",
              "      <td>6</td>\n",
              "      <td>...</td>\n",
              "      <td>0.475</td>\n",
              "      <td>0.0</td>\n",
              "      <td>-3.801</td>\n",
              "      <td>6.576</td>\n",
              "      <td>43.245</td>\n",
              "      <td>124.022</td>\n",
              "      <td>58.20</td>\n",
              "      <td>3.322</td>\n",
              "      <td>0</td>\n",
              "      <td>Dutasteride</td>\n",
              "    </tr>\n",
              "    <tr>\n",
              "      <th>2</th>\n",
              "      <td>14.611</td>\n",
              "      <td>32</td>\n",
              "      <td>46</td>\n",
              "      <td>62</td>\n",
              "      <td>83</td>\n",
              "      <td>103</td>\n",
              "      <td>118</td>\n",
              "      <td>438.338</td>\n",
              "      <td>10</td>\n",
              "      <td>5</td>\n",
              "      <td>...</td>\n",
              "      <td>-0.790</td>\n",
              "      <td>0.0</td>\n",
              "      <td>-2.617</td>\n",
              "      <td>-0.545</td>\n",
              "      <td>0.297</td>\n",
              "      <td>106.533</td>\n",
              "      <td>184.51</td>\n",
              "      <td>3.700</td>\n",
              "      <td>0</td>\n",
              "      <td>Cefixime</td>\n",
              "    </tr>\n",
              "    <tr>\n",
              "      <th>3</th>\n",
              "      <td>13.936</td>\n",
              "      <td>29</td>\n",
              "      <td>42</td>\n",
              "      <td>56</td>\n",
              "      <td>71</td>\n",
              "      <td>87</td>\n",
              "      <td>105</td>\n",
              "      <td>376.269</td>\n",
              "      <td>11</td>\n",
              "      <td>10</td>\n",
              "      <td>...</td>\n",
              "      <td>0.277</td>\n",
              "      <td>0.0</td>\n",
              "      <td>-2.642</td>\n",
              "      <td>-3.257</td>\n",
              "      <td>10.607</td>\n",
              "      <td>96.281</td>\n",
              "      <td>185.46</td>\n",
              "      <td>3.585</td>\n",
              "      <td>0</td>\n",
              "      <td>S-adenosylmethionine</td>\n",
              "    </tr>\n",
              "    <tr>\n",
              "      <th>4</th>\n",
              "      <td>14.679</td>\n",
              "      <td>29</td>\n",
              "      <td>42</td>\n",
              "      <td>56</td>\n",
              "      <td>74</td>\n",
              "      <td>92</td>\n",
              "      <td>103</td>\n",
              "      <td>396.321</td>\n",
              "      <td>8</td>\n",
              "      <td>5</td>\n",
              "      <td>...</td>\n",
              "      <td>-0.408</td>\n",
              "      <td>0.0</td>\n",
              "      <td>-2.642</td>\n",
              "      <td>-0.048</td>\n",
              "      <td>0.002</td>\n",
              "      <td>97.498</td>\n",
              "      <td>162.92</td>\n",
              "      <td>3.585</td>\n",
              "      <td>0</td>\n",
              "      <td>Ceftibuten</td>\n",
              "    </tr>\n",
              "  </tbody>\n",
              "</table>\n",
              "<p>5 rows × 404 columns</p>\n",
              "</div>\n",
              "      <button class=\"colab-df-convert\" onclick=\"convertToInteractive('df-c7882364-f3ee-4b88-9b0f-cc683754e5f1')\"\n",
              "              title=\"Convert this dataframe to an interactive table.\"\n",
              "              style=\"display:none;\">\n",
              "        \n",
              "  <svg xmlns=\"http://www.w3.org/2000/svg\" height=\"24px\"viewBox=\"0 0 24 24\"\n",
              "       width=\"24px\">\n",
              "    <path d=\"M0 0h24v24H0V0z\" fill=\"none\"/>\n",
              "    <path d=\"M18.56 5.44l.94 2.06.94-2.06 2.06-.94-2.06-.94-.94-2.06-.94 2.06-2.06.94zm-11 1L8.5 8.5l.94-2.06 2.06-.94-2.06-.94L8.5 2.5l-.94 2.06-2.06.94zm10 10l.94 2.06.94-2.06 2.06-.94-2.06-.94-.94-2.06-.94 2.06-2.06.94z\"/><path d=\"M17.41 7.96l-1.37-1.37c-.4-.4-.92-.59-1.43-.59-.52 0-1.04.2-1.43.59L10.3 9.45l-7.72 7.72c-.78.78-.78 2.05 0 2.83L4 21.41c.39.39.9.59 1.41.59.51 0 1.02-.2 1.41-.59l7.78-7.78 2.81-2.81c.8-.78.8-2.07 0-2.86zM5.41 20L4 18.59l7.72-7.72 1.47 1.35L5.41 20z\"/>\n",
              "  </svg>\n",
              "      </button>\n",
              "      \n",
              "  <style>\n",
              "    .colab-df-container {\n",
              "      display:flex;\n",
              "      flex-wrap:wrap;\n",
              "      gap: 12px;\n",
              "    }\n",
              "\n",
              "    .colab-df-convert {\n",
              "      background-color: #E8F0FE;\n",
              "      border: none;\n",
              "      border-radius: 50%;\n",
              "      cursor: pointer;\n",
              "      display: none;\n",
              "      fill: #1967D2;\n",
              "      height: 32px;\n",
              "      padding: 0 0 0 0;\n",
              "      width: 32px;\n",
              "    }\n",
              "\n",
              "    .colab-df-convert:hover {\n",
              "      background-color: #E2EBFA;\n",
              "      box-shadow: 0px 1px 2px rgba(60, 64, 67, 0.3), 0px 1px 3px 1px rgba(60, 64, 67, 0.15);\n",
              "      fill: #174EA6;\n",
              "    }\n",
              "\n",
              "    [theme=dark] .colab-df-convert {\n",
              "      background-color: #3B4455;\n",
              "      fill: #D2E3FC;\n",
              "    }\n",
              "\n",
              "    [theme=dark] .colab-df-convert:hover {\n",
              "      background-color: #434B5C;\n",
              "      box-shadow: 0px 1px 3px 1px rgba(0, 0, 0, 0.15);\n",
              "      filter: drop-shadow(0px 1px 2px rgba(0, 0, 0, 0.3));\n",
              "      fill: #FFFFFF;\n",
              "    }\n",
              "  </style>\n",
              "\n",
              "      <script>\n",
              "        const buttonEl =\n",
              "          document.querySelector('#df-c7882364-f3ee-4b88-9b0f-cc683754e5f1 button.colab-df-convert');\n",
              "        buttonEl.style.display =\n",
              "          google.colab.kernel.accessAllowed ? 'block' : 'none';\n",
              "\n",
              "        async function convertToInteractive(key) {\n",
              "          const element = document.querySelector('#df-c7882364-f3ee-4b88-9b0f-cc683754e5f1');\n",
              "          const dataTable =\n",
              "            await google.colab.kernel.invokeFunction('convertToInteractive',\n",
              "                                                     [key], {});\n",
              "          if (!dataTable) return;\n",
              "\n",
              "          const docLinkHtml = 'Like what you see? Visit the ' +\n",
              "            '<a target=\"_blank\" href=https://colab.research.google.com/notebooks/data_table.ipynb>data table notebook</a>'\n",
              "            + ' to learn more about interactive tables.';\n",
              "          element.innerHTML = '';\n",
              "          dataTable['output_type'] = 'display_data';\n",
              "          await google.colab.output.renderOutput(dataTable, element);\n",
              "          const docLink = document.createElement('div');\n",
              "          docLink.innerHTML = docLinkHtml;\n",
              "          element.appendChild(docLink);\n",
              "        }\n",
              "      </script>\n",
              "    </div>\n",
              "  </div>\n",
              "  "
            ],
            "text/plain": [
              "   AWeight  PC1  PC2  PC3  PC4  PC5  PC6   Weight  naccr  naro  ...  Smin8  \\\n",
              "0   12.618   27   45   64   98  130  163  290.217      4     0  ...  0.680   \n",
              "1   13.467   41   67   91  124  164  213  498.297      2     6  ...  0.475   \n",
              "2   14.611   32   46   62   83  103  118  438.338     10     5  ... -0.790   \n",
              "3   13.936   29   42   56   71   87  105  376.269     11    10  ...  0.277   \n",
              "4   14.679   29   42   56   74   92  103  396.321      8     5  ... -0.408   \n",
              "\n",
              "   Smin9     Hy   LogP   LogP2       MR    TPSA     UI  class_label  \\\n",
              "0    0.0 -3.540  1.158   1.341   82.799   90.35  1.585            0   \n",
              "1    0.0 -3.801  6.576  43.245  124.022   58.20  3.322            0   \n",
              "2    0.0 -2.617 -0.545   0.297  106.533  184.51  3.700            0   \n",
              "3    0.0 -2.642 -3.257  10.607   96.281  185.46  3.585            0   \n",
              "4    0.0 -2.642 -0.048   0.002   97.498  162.92  3.585            0   \n",
              "\n",
              "               compound  \n",
              "0           Saxagliptin  \n",
              "1           Dutasteride  \n",
              "2              Cefixime  \n",
              "3  S-adenosylmethionine  \n",
              "4            Ceftibuten  \n",
              "\n",
              "[5 rows x 404 columns]"
            ]
          },
          "metadata": {},
          "execution_count": 15
        }
      ],
      "source": [
        "features_df.head()"
      ]
    },
    {
      "cell_type": "code",
      "execution_count": 16,
      "id": "fa22a3a5",
      "metadata": {
        "id": "fa22a3a5"
      },
      "outputs": [],
      "source": [
        "feature_compound_name = features_df['compound'].values\n",
        "class_label_name = ['Ototoxic' if y == 1.0 else 'Non-toxic' for y in features_df['class_label'].values]\n",
        "Y_feature = features_df['class_label'].values\n",
        "X_feature = features_df.drop(columns=['class_label', 'compound']).values"
      ]
    },
    {
      "cell_type": "code",
      "execution_count": 17,
      "id": "9a1df527",
      "metadata": {
        "id": "9a1df527"
      },
      "outputs": [],
      "source": [
        "X_feature = StandardScaler().fit_transform(X_feature)"
      ]
    },
    {
      "cell_type": "code",
      "execution_count": 18,
      "id": "6b87a67e",
      "metadata": {
        "colab": {
          "base_uri": "https://localhost:8080/"
        },
        "id": "6b87a67e",
        "outputId": "fd698656-b082-425d-8949-7dbfaf389f63"
      },
      "outputs": [
        {
          "output_type": "execute_result",
          "data": {
            "text/plain": [
              "((274,), (274, 402))"
            ]
          },
          "metadata": {},
          "execution_count": 18
        }
      ],
      "source": [
        "Y_feature.shape, X_feature.shape"
      ]
    },
    {
      "cell_type": "code",
      "execution_count": 19,
      "id": "c3810122",
      "metadata": {
        "id": "c3810122"
      },
      "outputs": [],
      "source": [
        "import plotly.express as px"
      ]
    },
    {
      "cell_type": "code",
      "execution_count": 20,
      "id": "3c4b9367",
      "metadata": {
        "id": "3c4b9367"
      },
      "outputs": [],
      "source": [
        "def run_manifold(X, Y, name, n_components=2):\n",
        "    # setup manifold methods\n",
        "    methods = OrderedDict()\n",
        "#     methods['MDS'] = manifold.MDS(n_components, max_iter=100, n_init=1)\n",
        "    methods['t-SNE'] = manifold.TSNE(n_components=n_components, init='pca', random_state=0)\n",
        "#     methods['PCA'] = PCA(n_components=n_components)\n",
        "    \n",
        "    for i, (label, method) in enumerate(methods.items()):\n",
        "        Y_ = method.fit_transform(X)\n",
        "        if n_components == 2:\n",
        "            fig = px.scatter(Y_, x=0, y=1, color=class_label_name, hover_name=feature_compound_name, \n",
        "                            title=f'Manifold method {label}', labels={'0': 'PC 1', '1': 'PC 2'})\n",
        "        elif n_components == 3:\n",
        "            fig = px.scatter_3d(Y_, x=0, y=1, z=2, color=class_label_name, hover_name=feature_compound_name, \n",
        "                        title=f'Manifold method {label}', labels={'0': 'PC 1', '1': 'PC 2', '2': 'PC 3'})\n",
        "        fig.show()"
      ]
    },
    {
      "cell_type": "code",
      "execution_count": 21,
      "id": "56e731ed",
      "metadata": {
        "colab": {
          "base_uri": "https://localhost:8080/",
          "height": 631
        },
        "id": "56e731ed",
        "outputId": "e0144fcf-dd1e-4fd3-8143-8a50c73a5724"
      },
      "outputs": [
        {
          "output_type": "stream",
          "name": "stderr",
          "text": [
            "/usr/local/lib/python3.7/dist-packages/sklearn/manifold/_t_sne.py:793: FutureWarning: The default learning rate in TSNE will change from 200.0 to 'auto' in 1.2.\n",
            "  FutureWarning,\n",
            "/usr/local/lib/python3.7/dist-packages/sklearn/manifold/_t_sne.py:986: FutureWarning: The PCA initialization in TSNE will change to have the standard deviation of PC1 equal to 1e-4 in 1.2. This will ensure better convergence.\n",
            "  FutureWarning,\n"
          ]
        },
        {
          "output_type": "display_data",
          "data": {
            "text/html": [
              "<html>\n",
              "<head><meta charset=\"utf-8\" /></head>\n",
              "<body>\n",
              "    <div>            <script src=\"https://cdnjs.cloudflare.com/ajax/libs/mathjax/2.7.5/MathJax.js?config=TeX-AMS-MML_SVG\"></script><script type=\"text/javascript\">if (window.MathJax) {MathJax.Hub.Config({SVG: {font: \"STIX-Web\"}});}</script>                <script type=\"text/javascript\">window.PlotlyConfig = {MathJaxConfig: 'local'};</script>\n",
              "        <script src=\"https://cdn.plot.ly/plotly-2.8.3.min.js\"></script>                <div id=\"37cbaf18-6289-4d28-8d84-3872e5f602ee\" class=\"plotly-graph-div\" style=\"height:525px; width:100%;\"></div>            <script type=\"text/javascript\">                                    window.PLOTLYENV=window.PLOTLYENV || {};                                    if (document.getElementById(\"37cbaf18-6289-4d28-8d84-3872e5f602ee\")) {                    Plotly.newPlot(                        \"37cbaf18-6289-4d28-8d84-3872e5f602ee\",                        [{\"hovertemplate\":\"<b>%{hovertext}</b><br><br>color=Non-toxic<br>PC 1=%{x}<br>PC 2=%{y}<extra></extra>\",\"hovertext\":[\"Saxagliptin\",\"Dutasteride\",\"Cefixime\",\"S-adenosylmethionine\",\"Ceftibuten\",\"Oxitriptan\",\"Niacin\",\"Acetohydroxamic acid\",\"Cetrorelix\",\"Tymazoline\",\"Chenodeoxycholic acid\",\"Ergocalciferol\",\"Liotrix\",\"Doxacurium chloride\",\"Pipotiazine\",\"Aminocaproic acid\",\"Decamethonium\",\"Isopropamide\",\"Sodium tetradecyl sulfate\",\"Dobutamine\",\"Ethionamide\",\"Phenacemide\",\"Aminolevulinic acid\",\"Vapreotide\",\"Vecuronium\",\"Dihydrotachysterol\",\"Fosaprepitant\",\"Degarelix\",\"Dalfopristin\",\"Heptabarbital\",\"Marimastat\",\"Voglibose\",\"Anidulafungin\",\"Pyrazinamide\",\"Daunorubicin\",\"Menadione\",\"Cefamandole\",\"Succinic acid\",\"Isothipendyl\",\"Micafungin\",\"Fosamprenavir\",\"Epirubicin\",\"Aminosalicylic acid\",\"Naphazoline\",\"Gadofosveset trisodium\",\"Cloxacillin\",\"Isometheptene\",\"Arformoterol\",\"Anisindione\",\"Methotrimeprazine\",\"Idarubicin\",\"Prednicarbate\",\"Azelaic acid\",\"Riboflavin\",\"Flucloxacillin\",\"Rimonabant\",\"Ceforanide\",\"Difluprednate\",\"Novobiocin\",\"Piperacillin\",\"Clobetasol\",\"Iodixanol\",\"Deslanoside\",\"Flumethasone pivalate\",\"Cefmenoxime\",\"Hydroxyurea\",\"L-cysteine\",\"Gonadorelin\",\"Levosimendan\",\"Pipecuronium\",\"Metaraminol\",\"Desmopressin\",\"Cycrimine\",\"Biperiden\",\"Alfacalcidol\",\"Lucanthone\",\"Leucovorin\",\"Meropenem\",\"Pargyline\",\"Pentolinium\",\"Hexafluronium\",\"Cefmetazole\",\"Miglitol\",\"Hydrocortamate\",\"Sulfacetamide\",\"Salicylamide\",\"Fluticasone propionate\",\"Acetophenazine\",\"Formoterol\",\"Cromoglicic acid\",\"Ixabepilone\",\"Pivampicillin\",\"Ethanolamine oleate\",\"Cefepime\",\"Antipyrine\",\"Saprisartan\",\"Promazine\",\"Levothyroxine\",\"Erythrityl tetranitrate\",\"Acepromazine\",\"Azidocillin\",\"Alpha-linolenic acid\",\"Bethanechol\",\"Halobetasol propionate\",\"Ciclopirox\",\"Ivacaftor\",\"Norgestimate\",\"Oxymetazoline\",\"Procaterol\",\"Sitaxentan\",\"Cefditoren\",\"Econazole\",\"Spectinomycin\",\"Fluphenazine\",\"Methyl aminolevulinate\",\"Isoflurophate\",\"Ethambutol\",\"Trabectedin\",\"Xanthophyll\",\"L-methionine\",\"Carbidopa\",\"Milrinone\",\"Beclometasone dipropionate\",\"Antrafenine\",\"Cefotetan\",\"Dactinomycin\",\"Azlocillin\",\"Tipranavir\",\"Cefonicid\",\"Carphenazine\",\"Amifostine\",\"Ethopropazine\",\"Docosanol\",\"Tolnaftate\",\"Benzonatate\",\"Colistimethate\",\"Betazole\",\"Gamma-homolinolenic acid\",\"Carglumic acid\",\"Enoxaparin\",\"Levonordefrin\",\"Clocortolone\",\"Mifepristone\",\"Succinylcholine\",\"Cholecalciferol\",\"Quinupristin\",\"Dexamethasone\",\"Diphemanil methylsulfate\",\"Cisatracurium besylate\",\"L-ornithine\",\"Pivmecillinam\",\"Triflupromazine\",\"Rocuronium\",\"Nafcillin\",\"Methoxyflurane\",\"Picrotoxin\",\"Hydralazine\",\"Creatine\",\"Halothane\",\"Plerixafor\",\"Gallamine triethiodide\",\"Propylhexedrine\",\"Methantheline\",\"Propiomazine\",\"Glucosamine\",\"L-asparagine\",\"Bimatoprost\",\"Selegiline\",\"Pyridoxal\",\"Thioproperazine\",\"Carmustine\",\"Phenindamine\",\"Meticillin\",\"Ceruletide\",\"Metixene\",\"Dicloxacillin\",\"Pentosan polysulfate\",\"Ticagrelor\",\"Tolazoline\",\"Fusidic acid\",\"Valrubicin\",\"Cefotiam\",\"Cefazolin\",\"Miconazole\",\"Diatrizoate\",\"Procyclidine\",\"Cefoperazone\",\"Hetacillin\",\"Tyloxapol\",\"Mivacurium\",\"Dimethyl sulfoxide\",\"Amrinone\",\"Butoconazole\",\"Terlipressin\",\"Pentagastrin\",\"Ceftazidime\",\"Tetrahydrofolic acid\",\"Suprofen\",\"Masoprocol\",\"Propericiazine\",\"Natamycin\",\"gadoteridol\",\"Demecarium\",\"Icatibant\",\"Hexobarbital\",\"Amdinocillin\",\"Antazoline\",\"Retapamulin\"],\"legendgroup\":\"Non-toxic\",\"marker\":{\"color\":\"#636efa\",\"symbol\":\"circle\"},\"mode\":\"markers\",\"name\":\"Non-toxic\",\"orientation\":\"v\",\"showlegend\":true,\"x\":[0.013343123719096184,0.28616905212402344,5.749420642852783,6.6766862869262695,5.016002178192139,-10.130322456359863,-7.113653182983398,-11.428671836853027,15.902608871459961,-5.146384239196777,2.3842875957489014,3.0365099906921387,-6.412868976593018,-14.358192443847656,-0.8352158069610596,-9.03549575805664,-14.26125431060791,-11.890942573547363,-15.43508243560791,-3.17295503616333,-18.529420852661133,-8.435098648071289,-10.27574634552002,13.13381576538086,-14.911738395690918,2.278197765350342,-1.2562847137451172,16.056825637817383,10.960466384887695,-1.9593355655670166,-4.319869041442871,-11.668655395507812,14.23974895477295,-6.823050498962402,8.747649192810059,-3.2042343616485596,7.8747453689575195,-11.540407180786133,-4.018670558929443,14.953390121459961,-5.202825546264648,8.884113311767578,-8.80879020690918,-7.014530658721924,-18.451486587524414,13.89786148071289,-3.219602346420288,-1.890087366104126,-2.8620753288269043,-2.9806370735168457,8.453043937683105,4.6330342292785645,-8.23926830291748,6.2156147956848145,14.488197326660156,-23.370166778564453,7.893003940582275,7.7655720710754395,10.446720123291016,4.499840259552002,6.815512657165527,-6.026445388793945,11.894546508789062,7.637631893157959,7.733364582061768,-12.937378883361816,-10.00813102722168,13.943915367126465,-0.42900627851486206,-14.861733436584473,-6.442500114440918,15.59354305267334,-3.421082019805908,-2.8509116172790527,2.9332051277160645,2.3278889656066895,8.867165565490723,3.203125238418579,-8.453666687011719,-14.269587516784668,-12.489139556884766,10.434491157531738,-11.432311058044434,4.230369567871094,-8.290019989013672,-8.127253532409668,8.29563045501709,-1.6241437196731567,-1.890087366104126,9.484875679016113,4.229569911956787,4.720994472503662,0.12904132902622223,6.916954517364502,-5.214521884918213,-12.223904609680176,-4.152015209197998,-7.093188285827637,-17.567546844482422,-2.717311143875122,2.0228521823883057,0.5536807179450989,-13.701050758361816,7.637059211730957,-4.671458721160889,-9.770241737365723,-8.535151481628418,-4.948892116546631,-9.760619163513184,14.705717086791992,6.279218673706055,-22.96067237854004,2.331880807876587,-2.304696798324585,-10.287663459777832,-6.271917343139648,-4.597877502441406,11.426153182983398,2.653346538543701,-9.083931922912598,-7.488762378692627,-0.7250001430511475,5.255112648010254,-1.019432544708252,8.962310791015625,14.434353828430176,4.045501232147217,9.393741607666016,7.300783157348633,-1.5841023921966553,-6.082284450531006,-4.02868127822876,-1.2852455377578735,-18.5302677154541,-8.003829002380371,17.97146987915039,-10.249568939208984,0.5683956146240234,-10.495282173156738,16.449302673339844,-6.717435836791992,6.6359639167785645,1.2440035343170166,-13.912054061889648,3.0487542152404785,12.914637565612793,6.817234516143799,-11.212235450744629,-14.523822784423828,-9.665229797363281,1.3609782457351685,-2.4011600017547607,4.771928787231445,3.3415169715881348,-12.056859016418457,9.687561988830566,-4.901317119598389,-7.505664825439453,-12.184685707092285,-4.382401943206787,-13.607881546020508,-3.726963758468628,-12.043437957763672,-2.7873103618621826,-11.731719017028809,-11.0062255859375,-0.7978860139846802,-8.454648971557617,-6.430220127105713,-1.4304600954055786,-11.162644386291504,-5.344244003295898,3.692502021789551,14.560929298400879,-4.814316749572754,14.080497741699219,16.57958221435547,8.01496696472168,-6.206597805023193,3.8328285217285156,9.13247013092041,7.886643886566162,8.26189136505127,-22.992422103881836,-7.280862331390381,-3.4236438274383545,8.5494966506958,3.247938394546509,0.060190144926309586,-14.312211036682129,-12.539009094238281,-10.097735404968262,-22.478967666625977,15.607934951782227,11.657346725463867,7.702124118804932,8.857732772827148,3.2660248279571533,-3.250744104385376,0.08555059134960175,7.348870277404785,-16.700939178466797,-13.12603759765625,15.9291410446167,-1.9841089248657227,1.375049114227295,-6.056715488433838,4.514030933380127],\"xaxis\":\"x\",\"y\":[16.904094696044922,-12.343868255615234,-15.52109146118164,-9.784346580505371,-16.281978607177734,0.4422193169593811,6.639169216156006,9.108174324035645,-7.478386402130127,-0.8470115661621094,3.0414328575134277,9.637049674987793,-19.013805389404297,-10.96137523651123,-6.551576137542725,7.784202575683594,-1.473370909690857,-5.341134071350098,4.901970386505127,0.327802836894989,-3.0009372234344482,4.406581878662109,7.803934574127197,-8.169150352478027,-5.73889684677124,5.152434825897217,-14.032947540283203,-7.038399696350098,7.7671613693237305,4.627795219421387,4.982893466949463,4.535703659057617,-5.634016036987305,7.809560775756836,-0.6176378726959229,3.031899929046631,-11.571436882019043,8.062390327453613,-7.887005805969238,-5.422615051269531,15.725543022155762,-0.45402443408966064,5.758790493011475,-2.263967275619507,4.470402717590332,9.225570678710938,7.372845649719238,0.27950364351272583,2.459524631500244,-5.907887935638428,-0.5996592044830322,3.31854248046875,7.90308952331543,-8.87628173828125,8.827604293823242,-0.22100554406642914,-12.112385749816895,3.2640316486358643,8.634697914123535,-4.7446699142456055,4.993525505065918,-18.355735778808594,-1.2585958242416382,3.661017894744873,-15.572126388549805,7.705186367034912,10.154396057128906,-8.352542877197266,18.58745765686035,-5.787015438079834,4.068332195281982,-8.852036476135254,-3.195446729660034,-2.7227160930633545,10.13343620300293,-17.030561447143555,-6.976747512817383,-3.059849262237549,-11.640661239624023,-1.600099802017212,-4.360147476196289,-12.425564765930176,5.087167263031006,2.5897445678710938,3.5907936096191406,5.698301315307617,3.830855369567871,-7.248114585876465,0.27950364351272583,11.544151306152344,-17.61469268798828,-3.495640993118286,7.366600513458252,-17.13240623474121,1.925974726676941,16.394311904907227,-6.552310466766357,-17.96371841430664,12.718481063842773,-6.704891681671143,-3.8525519371032715,5.733537673950195,1.8378766775131226,4.80314826965332,2.2735867500305176,-0.6939082741737366,-12.335176467895508,-0.63094562292099,-0.4834238588809967,10.886174201965332,-16.6956729888916,0.4269965589046478,0.374670147895813,-11.038986206054688,8.595014572143555,15.150476455688477,6.240653038024902,-4.33476448059082,6.194743633270264,8.997184753417969,4.818286418914795,17.322397232055664,4.5469255447387695,-12.559990882873535,-12.759424209594727,-4.320596218109131,-4.577780246734619,2.8122169971466064,-12.26897144317627,-7.458096981048584,15.239335060119629,-7.068387508392334,6.437346935272217,-3.0162975788116455,-7.990145206451416,-7.1752166748046875,2.1222658157348633,5.7706522941589355,6.4771904945373535,-1.2520262002944946,4.187454700469971,5.38640832901001,15.732053756713867,1.154622197151184,9.940056800842285,-5.088157653808594,3.8875813484191895,-6.700560092926025,-11.777379035949707,7.37507438659668,-2.1693367958068848,-10.960770606994629,10.432308197021484,-5.827391147613525,14.221723556518555,-2.5935399532318115,9.679557800292969,10.87511920928955,15.569777488708496,-4.176143646240234,-7.387779235839844,7.382839202880859,-5.73950719833374,-7.134446144104004,5.797173500061035,7.174929141998291,0.1416890174150467,-11.653822898864746,5.978993892669678,-6.215058326721191,12.432663917541504,-5.721368789672852,-3.741931915283203,-7.602849960327148,-6.924356937408447,9.202898979187012,-0.6434426307678223,-10.294533729553223,-2.054762601852417,3.2627854347229004,1.755272626876831,-14.673145294189453,-14.740440368652344,0.4926856458187103,-17.766613006591797,-3.191300868988037,-11.848152160644531,-4.578638076782227,8.822249412536621,-10.754813194274902,9.963857650756836,1.9197611808776855,0.008241958916187286,-8.585282325744629,-7.778761386871338,-16.180471420288086,-6.981154918670654,-16.58022117614746,1.0478016138076782,16.84634017944336,0.703862726688385,5.3684983253479,-5.833780765533447,-9.759467124938965,4.618783473968506,-2.328216314315796,-2.3631680011749268,10.10981273651123],\"yaxis\":\"y\",\"type\":\"scatter\"},{\"hovertemplate\":\"<b>%{hovertext}</b><br><br>color=Ototoxic<br>PC 1=%{x}<br>PC 2=%{y}<extra></extra>\",\"hovertext\":[\"mefloquine\",\"deferoxamine\",\"Isradipine\",\"quercetin\",\"Pomiferin\",\"Rosolic acid\",\"Copper sulfate\",\"Hydrocodone\",\"Cyclosporine\",\"benzylpenicillin\",\"Neomycin\",\"2-Hyroxypropyl-beta-cyclodextrin\",\"Wedelolactone\",\"Dihydrostreptomycin\",\"Erythromycin\",\"Lopinavir\",\"chlorhexidine\",\"exjade\",\"vindesine\",\"Taxifolin\",\"Oxaliplatin\",\"Guaiazulene\",\"Gentamicin\",\"Quinine Sulfate\",\"Heroin\",\"Nimodipine\",\"Simvastatin\",\"Carboplatin\",\"Poly-L-lysine\",\"Staurosporine\",\"Chlorothiazide\",\"Dibekacin\",\"Homobutein\",\"toluene\",\"Lapatinib\",\"Imatinib\",\"Morin\",\"Capreomycin\",\"Remdesivir\",\"Propantheline bromide\",\"Ethacrynic acid\",\"Tobramycin\",\"Candesartan\",\"Chloroquine\",\"3,3'-iminodipropionitrile\",\"Deferoxamine\",\"vinblastine sulfate\",\"Vancomycin\",\"Vincamine\",\"salicylate\",\"Chloramphenicol\",\"amikacin\",\"nitrogen mustard\",\"Acetaminophen\",\"Kanamycin\",\"Chlortetracycline\",\"furosemide\",\"Sclerotiorin\",\"Clioquinol \",\"Pentamidine isethionate\",\"spermine\",\"bumetanide\",\"Ticarcillin\",\"Styrene\",\"trichloroethylene\",\"isorhamnetin\"],\"legendgroup\":\"Ototoxic\",\"marker\":{\"color\":\"#EF553B\",\"symbol\":\"circle\"},\"mode\":\"markers\",\"name\":\"Ototoxic\",\"orientation\":\"v\",\"showlegend\":true,\"x\":[-0.5533487796783447,4.448648929595947,12.349797248840332,10.953346252441406,10.456843376159668,-1.5417325496673584,-15.72205924987793,-1.225250005722046,13.761563301086426,2.8534467220306396,14.244636535644531,13.5855073928833,9.776740074157715,15.225271224975586,10.870071411132812,6.087860107421875,-7.042593955993652,5.74091100692749,19.365461349487305,-0.047017842531204224,-16.997596740722656,-7.605735778808594,12.25695514678955,0.4426177144050598,-0.8923985362052917,-16.858814239501953,3.484163284301758,-16.800325393676758,-9.355642318725586,3.08225154876709,-9.33525276184082,13.127371788024902,-1.0338178873062134,-7.836942195892334,15.497490882873535,-0.09101389348506927,10.948999404907227,17.3228759765625,-3.794743061065674,-11.94288444519043,0.9643470048904419,13.594499588012695,5.630344867706299,-4.07471227645874,-0.4850959777832031,4.4486894607543945,19.389448165893555,16.008020401000977,2.8388166427612305,-7.9115986824035645,-16.78835678100586,14.128068923950195,-11.932266235351562,-6.236876010894775,13.541275024414062,7.697753429412842,13.569864273071289,4.3825554847717285,-8.174588203430176,-6.978517055511475,-4.442570686340332,-7.160710334777832,4.181648254394531,-8.81256103515625,-12.124035835266113,10.68170166015625],\"xaxis\":\"x\",\"y\":[-12.634256362915039,-0.5363010764122009,9.222280502319336,11.68452262878418,9.779487609863281,2.318617582321167,7.589903831481934,-3.9812638759613037,-3.785463571548462,-4.32429838180542,1.651265263557434,-0.7904782295227051,12.063311576843262,2.14029598236084,-0.9886436462402344,-4.720050811767578,-0.6747444868087769,-10.163423538208008,-3.572587490081787,2.028665781021118,6.861559867858887,-4.761230945587158,1.8273168802261353,9.555296897888184,-3.659966468811035,11.971421241760254,3.940833330154419,6.902778625488281,7.043805122375488,-8.518464088439941,12.524124145507812,2.2291018962860107,2.0564746856689453,-4.530190467834473,10.022327423095703,-8.360976219177246,11.740401268005371,-9.280197143554688,16.440792083740234,-7.361077308654785,11.572535514831543,2.2375755310058594,-8.996826171875,10.339299201965332,18.646499633789062,-0.5363112092018127,-3.560112714767456,-5.682497978210449,-7.682371616363525,6.754275321960449,12.080979347229004,0.9276910424232483,12.45856761932373,5.124608993530273,1.5672376155853271,-1.3843905925750732,11.373651504516602,5.310445308685303,-17.045019149780273,11.504549980163574,7.677718639373779,2.0790224075317383,-16.393177032470703,-3.8735709190368652,13.049735069274902,11.081954956054688],\"yaxis\":\"y\",\"type\":\"scatter\"}],                        {\"template\":{\"data\":{\"bar\":[{\"error_x\":{\"color\":\"#2a3f5f\"},\"error_y\":{\"color\":\"#2a3f5f\"},\"marker\":{\"line\":{\"color\":\"#E5ECF6\",\"width\":0.5},\"pattern\":{\"fillmode\":\"overlay\",\"size\":10,\"solidity\":0.2}},\"type\":\"bar\"}],\"barpolar\":[{\"marker\":{\"line\":{\"color\":\"#E5ECF6\",\"width\":0.5},\"pattern\":{\"fillmode\":\"overlay\",\"size\":10,\"solidity\":0.2}},\"type\":\"barpolar\"}],\"carpet\":[{\"aaxis\":{\"endlinecolor\":\"#2a3f5f\",\"gridcolor\":\"white\",\"linecolor\":\"white\",\"minorgridcolor\":\"white\",\"startlinecolor\":\"#2a3f5f\"},\"baxis\":{\"endlinecolor\":\"#2a3f5f\",\"gridcolor\":\"white\",\"linecolor\":\"white\",\"minorgridcolor\":\"white\",\"startlinecolor\":\"#2a3f5f\"},\"type\":\"carpet\"}],\"choropleth\":[{\"colorbar\":{\"outlinewidth\":0,\"ticks\":\"\"},\"type\":\"choropleth\"}],\"contour\":[{\"colorbar\":{\"outlinewidth\":0,\"ticks\":\"\"},\"colorscale\":[[0.0,\"#0d0887\"],[0.1111111111111111,\"#46039f\"],[0.2222222222222222,\"#7201a8\"],[0.3333333333333333,\"#9c179e\"],[0.4444444444444444,\"#bd3786\"],[0.5555555555555556,\"#d8576b\"],[0.6666666666666666,\"#ed7953\"],[0.7777777777777778,\"#fb9f3a\"],[0.8888888888888888,\"#fdca26\"],[1.0,\"#f0f921\"]],\"type\":\"contour\"}],\"contourcarpet\":[{\"colorbar\":{\"outlinewidth\":0,\"ticks\":\"\"},\"type\":\"contourcarpet\"}],\"heatmap\":[{\"colorbar\":{\"outlinewidth\":0,\"ticks\":\"\"},\"colorscale\":[[0.0,\"#0d0887\"],[0.1111111111111111,\"#46039f\"],[0.2222222222222222,\"#7201a8\"],[0.3333333333333333,\"#9c179e\"],[0.4444444444444444,\"#bd3786\"],[0.5555555555555556,\"#d8576b\"],[0.6666666666666666,\"#ed7953\"],[0.7777777777777778,\"#fb9f3a\"],[0.8888888888888888,\"#fdca26\"],[1.0,\"#f0f921\"]],\"type\":\"heatmap\"}],\"heatmapgl\":[{\"colorbar\":{\"outlinewidth\":0,\"ticks\":\"\"},\"colorscale\":[[0.0,\"#0d0887\"],[0.1111111111111111,\"#46039f\"],[0.2222222222222222,\"#7201a8\"],[0.3333333333333333,\"#9c179e\"],[0.4444444444444444,\"#bd3786\"],[0.5555555555555556,\"#d8576b\"],[0.6666666666666666,\"#ed7953\"],[0.7777777777777778,\"#fb9f3a\"],[0.8888888888888888,\"#fdca26\"],[1.0,\"#f0f921\"]],\"type\":\"heatmapgl\"}],\"histogram\":[{\"marker\":{\"pattern\":{\"fillmode\":\"overlay\",\"size\":10,\"solidity\":0.2}},\"type\":\"histogram\"}],\"histogram2d\":[{\"colorbar\":{\"outlinewidth\":0,\"ticks\":\"\"},\"colorscale\":[[0.0,\"#0d0887\"],[0.1111111111111111,\"#46039f\"],[0.2222222222222222,\"#7201a8\"],[0.3333333333333333,\"#9c179e\"],[0.4444444444444444,\"#bd3786\"],[0.5555555555555556,\"#d8576b\"],[0.6666666666666666,\"#ed7953\"],[0.7777777777777778,\"#fb9f3a\"],[0.8888888888888888,\"#fdca26\"],[1.0,\"#f0f921\"]],\"type\":\"histogram2d\"}],\"histogram2dcontour\":[{\"colorbar\":{\"outlinewidth\":0,\"ticks\":\"\"},\"colorscale\":[[0.0,\"#0d0887\"],[0.1111111111111111,\"#46039f\"],[0.2222222222222222,\"#7201a8\"],[0.3333333333333333,\"#9c179e\"],[0.4444444444444444,\"#bd3786\"],[0.5555555555555556,\"#d8576b\"],[0.6666666666666666,\"#ed7953\"],[0.7777777777777778,\"#fb9f3a\"],[0.8888888888888888,\"#fdca26\"],[1.0,\"#f0f921\"]],\"type\":\"histogram2dcontour\"}],\"mesh3d\":[{\"colorbar\":{\"outlinewidth\":0,\"ticks\":\"\"},\"type\":\"mesh3d\"}],\"parcoords\":[{\"line\":{\"colorbar\":{\"outlinewidth\":0,\"ticks\":\"\"}},\"type\":\"parcoords\"}],\"pie\":[{\"automargin\":true,\"type\":\"pie\"}],\"scatter\":[{\"marker\":{\"colorbar\":{\"outlinewidth\":0,\"ticks\":\"\"}},\"type\":\"scatter\"}],\"scatter3d\":[{\"line\":{\"colorbar\":{\"outlinewidth\":0,\"ticks\":\"\"}},\"marker\":{\"colorbar\":{\"outlinewidth\":0,\"ticks\":\"\"}},\"type\":\"scatter3d\"}],\"scattercarpet\":[{\"marker\":{\"colorbar\":{\"outlinewidth\":0,\"ticks\":\"\"}},\"type\":\"scattercarpet\"}],\"scattergeo\":[{\"marker\":{\"colorbar\":{\"outlinewidth\":0,\"ticks\":\"\"}},\"type\":\"scattergeo\"}],\"scattergl\":[{\"marker\":{\"colorbar\":{\"outlinewidth\":0,\"ticks\":\"\"}},\"type\":\"scattergl\"}],\"scattermapbox\":[{\"marker\":{\"colorbar\":{\"outlinewidth\":0,\"ticks\":\"\"}},\"type\":\"scattermapbox\"}],\"scatterpolar\":[{\"marker\":{\"colorbar\":{\"outlinewidth\":0,\"ticks\":\"\"}},\"type\":\"scatterpolar\"}],\"scatterpolargl\":[{\"marker\":{\"colorbar\":{\"outlinewidth\":0,\"ticks\":\"\"}},\"type\":\"scatterpolargl\"}],\"scatterternary\":[{\"marker\":{\"colorbar\":{\"outlinewidth\":0,\"ticks\":\"\"}},\"type\":\"scatterternary\"}],\"surface\":[{\"colorbar\":{\"outlinewidth\":0,\"ticks\":\"\"},\"colorscale\":[[0.0,\"#0d0887\"],[0.1111111111111111,\"#46039f\"],[0.2222222222222222,\"#7201a8\"],[0.3333333333333333,\"#9c179e\"],[0.4444444444444444,\"#bd3786\"],[0.5555555555555556,\"#d8576b\"],[0.6666666666666666,\"#ed7953\"],[0.7777777777777778,\"#fb9f3a\"],[0.8888888888888888,\"#fdca26\"],[1.0,\"#f0f921\"]],\"type\":\"surface\"}],\"table\":[{\"cells\":{\"fill\":{\"color\":\"#EBF0F8\"},\"line\":{\"color\":\"white\"}},\"header\":{\"fill\":{\"color\":\"#C8D4E3\"},\"line\":{\"color\":\"white\"}},\"type\":\"table\"}]},\"layout\":{\"annotationdefaults\":{\"arrowcolor\":\"#2a3f5f\",\"arrowhead\":0,\"arrowwidth\":1},\"autotypenumbers\":\"strict\",\"coloraxis\":{\"colorbar\":{\"outlinewidth\":0,\"ticks\":\"\"}},\"colorscale\":{\"diverging\":[[0,\"#8e0152\"],[0.1,\"#c51b7d\"],[0.2,\"#de77ae\"],[0.3,\"#f1b6da\"],[0.4,\"#fde0ef\"],[0.5,\"#f7f7f7\"],[0.6,\"#e6f5d0\"],[0.7,\"#b8e186\"],[0.8,\"#7fbc41\"],[0.9,\"#4d9221\"],[1,\"#276419\"]],\"sequential\":[[0.0,\"#0d0887\"],[0.1111111111111111,\"#46039f\"],[0.2222222222222222,\"#7201a8\"],[0.3333333333333333,\"#9c179e\"],[0.4444444444444444,\"#bd3786\"],[0.5555555555555556,\"#d8576b\"],[0.6666666666666666,\"#ed7953\"],[0.7777777777777778,\"#fb9f3a\"],[0.8888888888888888,\"#fdca26\"],[1.0,\"#f0f921\"]],\"sequentialminus\":[[0.0,\"#0d0887\"],[0.1111111111111111,\"#46039f\"],[0.2222222222222222,\"#7201a8\"],[0.3333333333333333,\"#9c179e\"],[0.4444444444444444,\"#bd3786\"],[0.5555555555555556,\"#d8576b\"],[0.6666666666666666,\"#ed7953\"],[0.7777777777777778,\"#fb9f3a\"],[0.8888888888888888,\"#fdca26\"],[1.0,\"#f0f921\"]]},\"colorway\":[\"#636efa\",\"#EF553B\",\"#00cc96\",\"#ab63fa\",\"#FFA15A\",\"#19d3f3\",\"#FF6692\",\"#B6E880\",\"#FF97FF\",\"#FECB52\"],\"font\":{\"color\":\"#2a3f5f\"},\"geo\":{\"bgcolor\":\"white\",\"lakecolor\":\"white\",\"landcolor\":\"#E5ECF6\",\"showlakes\":true,\"showland\":true,\"subunitcolor\":\"white\"},\"hoverlabel\":{\"align\":\"left\"},\"hovermode\":\"closest\",\"mapbox\":{\"style\":\"light\"},\"paper_bgcolor\":\"white\",\"plot_bgcolor\":\"#E5ECF6\",\"polar\":{\"angularaxis\":{\"gridcolor\":\"white\",\"linecolor\":\"white\",\"ticks\":\"\"},\"bgcolor\":\"#E5ECF6\",\"radialaxis\":{\"gridcolor\":\"white\",\"linecolor\":\"white\",\"ticks\":\"\"}},\"scene\":{\"xaxis\":{\"backgroundcolor\":\"#E5ECF6\",\"gridcolor\":\"white\",\"gridwidth\":2,\"linecolor\":\"white\",\"showbackground\":true,\"ticks\":\"\",\"zerolinecolor\":\"white\"},\"yaxis\":{\"backgroundcolor\":\"#E5ECF6\",\"gridcolor\":\"white\",\"gridwidth\":2,\"linecolor\":\"white\",\"showbackground\":true,\"ticks\":\"\",\"zerolinecolor\":\"white\"},\"zaxis\":{\"backgroundcolor\":\"#E5ECF6\",\"gridcolor\":\"white\",\"gridwidth\":2,\"linecolor\":\"white\",\"showbackground\":true,\"ticks\":\"\",\"zerolinecolor\":\"white\"}},\"shapedefaults\":{\"line\":{\"color\":\"#2a3f5f\"}},\"ternary\":{\"aaxis\":{\"gridcolor\":\"white\",\"linecolor\":\"white\",\"ticks\":\"\"},\"baxis\":{\"gridcolor\":\"white\",\"linecolor\":\"white\",\"ticks\":\"\"},\"bgcolor\":\"#E5ECF6\",\"caxis\":{\"gridcolor\":\"white\",\"linecolor\":\"white\",\"ticks\":\"\"}},\"title\":{\"x\":0.05},\"xaxis\":{\"automargin\":true,\"gridcolor\":\"white\",\"linecolor\":\"white\",\"ticks\":\"\",\"title\":{\"standoff\":15},\"zerolinecolor\":\"white\",\"zerolinewidth\":2},\"yaxis\":{\"automargin\":true,\"gridcolor\":\"white\",\"linecolor\":\"white\",\"ticks\":\"\",\"title\":{\"standoff\":15},\"zerolinecolor\":\"white\",\"zerolinewidth\":2}}},\"xaxis\":{\"anchor\":\"y\",\"domain\":[0.0,1.0],\"title\":{\"text\":\"PC 1\"}},\"yaxis\":{\"anchor\":\"x\",\"domain\":[0.0,1.0],\"title\":{\"text\":\"PC 2\"}},\"legend\":{\"title\":{\"text\":\"color\"},\"tracegroupgap\":0},\"title\":{\"text\":\"Manifold method t-SNE\"}},                        {\"responsive\": true}                    ).then(function(){\n",
              "                            \n",
              "var gd = document.getElementById('37cbaf18-6289-4d28-8d84-3872e5f602ee');\n",
              "var x = new MutationObserver(function (mutations, observer) {{\n",
              "        var display = window.getComputedStyle(gd).display;\n",
              "        if (!display || display === 'none') {{\n",
              "            console.log([gd, 'removed!']);\n",
              "            Plotly.purge(gd);\n",
              "            observer.disconnect();\n",
              "        }}\n",
              "}});\n",
              "\n",
              "// Listen for the removal of the full notebook cells\n",
              "var notebookContainer = gd.closest('#notebook-container');\n",
              "if (notebookContainer) {{\n",
              "    x.observe(notebookContainer, {childList: true});\n",
              "}}\n",
              "\n",
              "// Listen for the clearing of the current output cell\n",
              "var outputEl = gd.closest('.output');\n",
              "if (outputEl) {{\n",
              "    x.observe(outputEl, {childList: true});\n",
              "}}\n",
              "\n",
              "                        })                };                            </script>        </div>\n",
              "</body>\n",
              "</html>"
            ]
          },
          "metadata": {}
        }
      ],
      "source": [
        "run_manifold(X_feature, Y_feature, \"PyBioMed Features\", n_components=2)"
      ]
    },
    {
      "cell_type": "markdown",
      "id": "8c4c6d2b",
      "metadata": {
        "id": "8c4c6d2b"
      },
      "source": [
        "### Clustering using the t-SNE components. \n",
        "\n",
        "Note that t-SNE components changes upon successive runs. "
      ]
    },
    {
      "cell_type": "code",
      "execution_count": 22,
      "id": "76b2f685",
      "metadata": {
        "colab": {
          "base_uri": "https://localhost:8080/"
        },
        "id": "76b2f685",
        "outputId": "eebda42b-8536-41b7-d726-fb9499d6e1f8"
      },
      "outputs": [
        {
          "output_type": "stream",
          "name": "stderr",
          "text": [
            "/usr/local/lib/python3.7/dist-packages/sklearn/manifold/_t_sne.py:793: FutureWarning:\n",
            "\n",
            "The default learning rate in TSNE will change from 200.0 to 'auto' in 1.2.\n",
            "\n",
            "/usr/local/lib/python3.7/dist-packages/sklearn/manifold/_t_sne.py:986: FutureWarning:\n",
            "\n",
            "The PCA initialization in TSNE will change to have the standard deviation of PC1 equal to 1e-4 in 1.2. This will ensure better convergence.\n",
            "\n"
          ]
        }
      ],
      "source": [
        "sne_components = manifold.TSNE(n_components=2, init='pca', random_state=0).fit_transform(X_feature)"
      ]
    },
    {
      "cell_type": "code",
      "execution_count": 23,
      "id": "0b58a249",
      "metadata": {
        "id": "0b58a249"
      },
      "outputs": [],
      "source": [
        "from sklearn.cluster import KMeans\n",
        "from sklearn.metrics.pairwise import pairwise_distances_argmin"
      ]
    },
    {
      "cell_type": "code",
      "execution_count": 24,
      "id": "8ce2eb11",
      "metadata": {
        "colab": {
          "base_uri": "https://localhost:8080/"
        },
        "id": "8ce2eb11",
        "outputId": "7224b946-ec24-4d0c-d2d3-f26e8dc9ebfe"
      },
      "outputs": [
        {
          "output_type": "execute_result",
          "data": {
            "text/plain": [
              "KMeans(n_clusters=20, random_state=0)"
            ]
          },
          "metadata": {},
          "execution_count": 24
        }
      ],
      "source": [
        "# run clustering\n",
        "n_clusters=20\n",
        "kmeans = KMeans(init='k-means++', n_clusters=n_clusters, n_init=10, random_state=0)\n",
        "kmeans.fit(sne_components)"
      ]
    },
    {
      "cell_type": "code",
      "execution_count": 25,
      "id": "5537790e",
      "metadata": {
        "id": "5537790e"
      },
      "outputs": [],
      "source": [
        "# we want to have same colors for the same clusters. \n",
        "# let's pair the cluster centers per closest one. \n",
        "kmeans_cluster_center = kmeans.cluster_centers_\n",
        "kmeans_labels = pairwise_distances_argmin(sne_components, kmeans_cluster_center)"
      ]
    },
    {
      "cell_type": "code",
      "execution_count": 26,
      "id": "7d9a3848",
      "metadata": {
        "id": "7d9a3848"
      },
      "outputs": [],
      "source": [
        "kmeans_labels_str = [\"Cluster \"+str(p) for p in kmeans_labels]"
      ]
    },
    {
      "cell_type": "code",
      "execution_count": 27,
      "id": "02587905",
      "metadata": {
        "colab": {
          "base_uri": "https://localhost:8080/",
          "height": 542
        },
        "id": "02587905",
        "outputId": "814911a6-1e9e-4ed5-a2fa-0bc71e261ff6"
      },
      "outputs": [
        {
          "output_type": "display_data",
          "data": {
            "text/html": [
              "<html>\n",
              "<head><meta charset=\"utf-8\" /></head>\n",
              "<body>\n",
              "    <div>            <script src=\"https://cdnjs.cloudflare.com/ajax/libs/mathjax/2.7.5/MathJax.js?config=TeX-AMS-MML_SVG\"></script><script type=\"text/javascript\">if (window.MathJax) {MathJax.Hub.Config({SVG: {font: \"STIX-Web\"}});}</script>                <script type=\"text/javascript\">window.PlotlyConfig = {MathJaxConfig: 'local'};</script>\n",
              "        <script src=\"https://cdn.plot.ly/plotly-2.8.3.min.js\"></script>                <div id=\"3ce540d3-7eaf-48cd-a5b8-8fcf6d3caa31\" class=\"plotly-graph-div\" style=\"height:525px; width:100%;\"></div>            <script type=\"text/javascript\">                                    window.PLOTLYENV=window.PLOTLYENV || {};                                    if (document.getElementById(\"3ce540d3-7eaf-48cd-a5b8-8fcf6d3caa31\")) {                    Plotly.newPlot(                        \"3ce540d3-7eaf-48cd-a5b8-8fcf6d3caa31\",                        [{\"hovertemplate\":\"<b>%{hovertext}</b><br><br>color=Cluster 13<br>PC 1=%{x}<br>PC 2=%{y}<extra></extra>\",\"hovertext\":[\"Saxagliptin Non-toxic\",\"Levosimendan Non-toxic\",\"Milrinone Non-toxic\",\"Mifepristone Non-toxic\",\"Ethacrynic acid Ototoxic\",\"3,3'-iminodipropionitrile Ototoxic\",\"Propericiazine Non-toxic\"],\"legendgroup\":\"Cluster 13\",\"marker\":{\"color\":\"#636efa\",\"symbol\":\"circle\"},\"mode\":\"markers\",\"name\":\"Cluster 13\",\"orientation\":\"v\",\"showlegend\":true,\"x\":[0.013343123719096184,-0.42900627851486206,-0.7250001430511475,1.2440035343170166,0.9643470048904419,-0.4850959777832031,0.08555059134960175],\"xaxis\":\"x\",\"y\":[16.904094696044922,18.58745765686035,17.322397232055664,15.732053756713867,11.572535514831543,18.646499633789062,16.84634017944336],\"yaxis\":\"y\",\"type\":\"scatter\"},{\"hovertemplate\":\"<b>%{hovertext}</b><br><br>color=Cluster 2<br>PC 1=%{x}<br>PC 2=%{y}<extra></extra>\",\"hovertext\":[\"Dutasteride Non-toxic\",\"mefloquine Ototoxic\",\"Pipotiazine Non-toxic\",\"Fosaprepitant Non-toxic\",\"Acetophenazine Non-toxic\",\"Staurosporine Ototoxic\",\"Fluphenazine Non-toxic\",\"Imatinib Ototoxic\",\"Antrafenine Non-toxic\",\"Carphenazine Non-toxic\",\"Triflupromazine Non-toxic\",\"Vincamine Ototoxic\",\"Propiomazine Non-toxic\",\"Thioproperazine Non-toxic\"],\"legendgroup\":\"Cluster 2\",\"marker\":{\"color\":\"#EF553B\",\"symbol\":\"circle\"},\"mode\":\"markers\",\"name\":\"Cluster 2\",\"orientation\":\"v\",\"showlegend\":true,\"x\":[0.28616905212402344,-0.5533487796783447,-0.8352158069610596,-1.2562847137451172,-1.6241437196731567,3.08225154876709,-2.304696798324585,-0.09101389348506927,-1.019432544708252,-1.5841023921966553,-2.4011600017547607,2.8388166427612305,-2.7873103618621826,-1.4304600954055786],\"xaxis\":\"x\",\"y\":[-12.343868255615234,-12.634256362915039,-6.551576137542725,-14.032947540283203,-7.248114585876465,-8.518464088439941,-11.038986206054688,-8.360976219177246,-12.559990882873535,-7.458096981048584,-10.960770606994629,-7.682371616363525,-7.134446144104004,-6.215058326721191],\"yaxis\":\"y\",\"type\":\"scatter\"},{\"hovertemplate\":\"<b>%{hovertext}</b><br><br>color=Cluster 6<br>PC 1=%{x}<br>PC 2=%{y}<extra></extra>\",\"hovertext\":[\"Cefixime Non-toxic\",\"Ceftibuten Non-toxic\",\"Cefmenoxime Non-toxic\",\"Lucanthone Non-toxic\",\"Ixabepilone Non-toxic\",\"Cefepime Non-toxic\",\"Cefditoren Non-toxic\",\"Cefotiam Non-toxic\",\"Cefazolin Non-toxic\",\"Ticarcillin Ototoxic\",\"Ceftazidime Non-toxic\",\"Suprofen Non-toxic\"],\"legendgroup\":\"Cluster 6\",\"marker\":{\"color\":\"#00cc96\",\"symbol\":\"circle\"},\"mode\":\"markers\",\"name\":\"Cluster 6\",\"orientation\":\"v\",\"showlegend\":true,\"x\":[5.749420642852783,5.016002178192139,7.733364582061768,2.3278889656066895,4.229569911956787,6.916954517364502,6.279218673706055,7.886643886566162,8.26189136505127,4.181648254394531,7.702124118804932,3.2660248279571533],\"xaxis\":\"x\",\"y\":[-15.52109146118164,-16.281978607177734,-15.572126388549805,-17.030561447143555,-17.61469268798828,-17.13240623474121,-16.6956729888916,-14.673145294189453,-14.740440368652344,-16.393177032470703,-16.180471420288086,-16.58022117614746],\"yaxis\":\"y\",\"type\":\"scatter\"},{\"hovertemplate\":\"<b>%{hovertext}</b><br><br>color=Cluster 18<br>PC 1=%{x}<br>PC 2=%{y}<extra></extra>\",\"hovertext\":[\"S-adenosylmethionine Non-toxic\",\"Cefamandole Non-toxic\",\"Riboflavin Non-toxic\",\"Ceforanide Non-toxic\",\"exjade Ototoxic\",\"Leucovorin Non-toxic\",\"Cefmetazole Non-toxic\",\"Cefotetan Non-toxic\",\"Cefonicid Non-toxic\",\"Candesartan Ototoxic\",\"Ticagrelor Non-toxic\",\"Cefoperazone Non-toxic\",\"Tetrahydrofolic acid Non-toxic\"],\"legendgroup\":\"Cluster 18\",\"marker\":{\"color\":\"#ab63fa\",\"symbol\":\"circle\"},\"mode\":\"markers\",\"name\":\"Cluster 18\",\"orientation\":\"v\",\"showlegend\":true,\"x\":[6.6766862869262695,7.8747453689575195,6.2156147956848145,7.893003940582275,5.74091100692749,8.867165565490723,10.434491157531738,8.962310791015625,7.300783157348633,5.630344867706299,8.01496696472168,8.5494966506958,8.857732772827148],\"xaxis\":\"x\",\"y\":[-9.784346580505371,-11.571436882019043,-8.87628173828125,-12.112385749816895,-10.163423538208008,-6.976747512817383,-12.425564765930176,-12.759424209594727,-12.26897144317627,-8.996826171875,-10.294533729553223,-11.848152160644531,-6.981154918670654],\"yaxis\":\"y\",\"type\":\"scatter\"},{\"hovertemplate\":\"<b>%{hovertext}</b><br><br>color=Cluster 0<br>PC 1=%{x}<br>PC 2=%{y}<extra></extra>\",\"hovertext\":[\"Oxitriptan Non-toxic\",\"Decamethonium Non-toxic\",\"Pentolinium Non-toxic\",\"Bethanechol Non-toxic\",\"Ivacaftor Non-toxic\",\"Procaterol Non-toxic\",\"Betazole Non-toxic\",\"Succinylcholine Non-toxic\",\"Amrinone Non-toxic\"],\"legendgroup\":\"Cluster 0\",\"marker\":{\"color\":\"#FFA15A\",\"symbol\":\"circle\"},\"mode\":\"markers\",\"name\":\"Cluster 0\",\"orientation\":\"v\",\"showlegend\":true,\"x\":[-10.130322456359863,-14.26125431060791,-14.269587516784668,-13.701050758361816,-9.770241737365723,-9.760619163513184,-10.249568939208984,-13.912054061889648,-10.097735404968262],\"xaxis\":\"x\",\"y\":[0.4422193169593811,-1.473370909690857,-1.600099802017212,1.8378766775131226,-0.6939082741737366,-0.4834238588809967,2.1222658157348633,1.154622197151184,1.9197611808776855],\"yaxis\":\"y\",\"type\":\"scatter\"},{\"hovertemplate\":\"<b>%{hovertext}</b><br><br>color=Cluster 19<br>PC 1=%{x}<br>PC 2=%{y}<extra></extra>\",\"hovertext\":[\"Niacin Non-toxic\",\"Acetohydroxamic acid Non-toxic\",\"Aminocaproic acid Non-toxic\",\"Phenacemide Non-toxic\",\"Aminolevulinic acid Non-toxic\",\"Voglibose Non-toxic\",\"Pyrazinamide Non-toxic\",\"Succinic acid Non-toxic\",\"Aminosalicylic acid Non-toxic\",\"Azelaic acid Non-toxic\",\"L-cysteine Non-toxic\",\"Metaraminol Non-toxic\",\"Miglitol Non-toxic\",\"Sulfacetamide Non-toxic\",\"Salicylamide Non-toxic\",\"Poly-L-lysine Ototoxic\",\"Methyl aminolevulinate Non-toxic\",\"L-methionine Non-toxic\",\"Carbidopa Non-toxic\",\"Carglumic acid Non-toxic\",\"Levonordefrin Non-toxic\",\"L-ornithine Non-toxic\",\"salicylate Ototoxic\",\"Glucosamine Non-toxic\",\"Acetaminophen Ototoxic\",\"L-asparagine Non-toxic\",\"Pyridoxal Non-toxic\"],\"legendgroup\":\"Cluster 19\",\"marker\":{\"color\":\"#19d3f3\",\"symbol\":\"circle\"},\"mode\":\"markers\",\"name\":\"Cluster 19\",\"orientation\":\"v\",\"showlegend\":true,\"x\":[-7.113653182983398,-11.428671836853027,-9.03549575805664,-8.435098648071289,-10.27574634552002,-11.668655395507812,-6.823050498962402,-11.540407180786133,-8.80879020690918,-8.23926830291748,-10.00813102722168,-6.442500114440918,-11.432311058044434,-8.290019989013672,-8.127253532409668,-9.355642318725586,-10.287663459777832,-9.083931922912598,-7.488762378692627,-10.495282173156738,-6.717435836791992,-9.665229797363281,-7.9115986824035645,-11.731719017028809,-6.236876010894775,-11.0062255859375,-6.430220127105713],\"xaxis\":\"x\",\"y\":[6.639169216156006,9.108174324035645,7.784202575683594,4.406581878662109,7.803934574127197,4.535703659057617,7.809560775756836,8.062390327453613,5.758790493011475,7.90308952331543,10.154396057128906,4.068332195281982,5.087167263031006,3.5907936096191406,5.698301315307617,7.043805122375488,8.595014572143555,8.997184753417969,4.818286418914795,6.4771904945373535,4.187454700469971,7.37507438659668,6.754275321960449,5.797173500061035,5.124608993530273,7.174929141998291,5.978993892669678],\"yaxis\":\"y\",\"type\":\"scatter\"},{\"hovertemplate\":\"<b>%{hovertext}</b><br><br>color=Cluster 5<br>PC 1=%{x}<br>PC 2=%{y}<extra></extra>\",\"hovertext\":[\"Cetrorelix Non-toxic\",\"Vapreotide Non-toxic\",\"Degarelix Non-toxic\",\"Anidulafungin Non-toxic\",\"Cyclosporine Ototoxic\",\"Micafungin Non-toxic\",\"Gonadorelin Non-toxic\",\"Desmopressin Non-toxic\",\"vindesine Ototoxic\",\"Trabectedin Non-toxic\",\"Dactinomycin Non-toxic\",\"Colistimethate Non-toxic\",\"Capreomycin Ototoxic\",\"Quinupristin Non-toxic\",\"vinblastine sulfate Ototoxic\",\"Vancomycin Ototoxic\",\"Ceruletide Non-toxic\",\"Terlipressin Non-toxic\",\"Pentagastrin Non-toxic\",\"Icatibant Non-toxic\"],\"legendgroup\":\"Cluster 5\",\"marker\":{\"color\":\"#FF6692\",\"symbol\":\"circle\"},\"mode\":\"markers\",\"name\":\"Cluster 5\",\"orientation\":\"v\",\"showlegend\":true,\"x\":[15.902608871459961,13.13381576538086,16.056825637817383,14.23974895477295,13.761563301086426,14.953390121459961,13.943915367126465,15.59354305267334,19.365461349487305,11.426153182983398,14.434353828430176,17.97146987915039,17.3228759765625,12.914637565612793,19.389448165893555,16.008020401000977,14.560929298400879,15.607934951782227,11.657346725463867,15.9291410446167],\"xaxis\":\"x\",\"y\":[-7.478386402130127,-8.169150352478027,-7.038399696350098,-5.634016036987305,-3.785463571548462,-5.422615051269531,-8.352542877197266,-8.852036476135254,-3.572587490081787,-4.33476448059082,-4.320596218109131,-7.1752166748046875,-9.280197143554688,-5.088157653808594,-3.560112714767456,-5.682497978210449,-7.602849960327148,-8.585282325744629,-7.778761386871338,-9.759467124938965],\"yaxis\":\"y\",\"type\":\"scatter\"},{\"hovertemplate\":\"<b>%{hovertext}</b><br><br>color=Cluster 4<br>PC 1=%{x}<br>PC 2=%{y}<extra></extra>\",\"hovertext\":[\"Tymazoline Non-toxic\",\"Dobutamine Non-toxic\",\"Rosolic acid Ototoxic\",\"Menadione Non-toxic\",\"Arformoterol Non-toxic\",\"Anisindione Non-toxic\",\"chlorhexidine Ototoxic\",\"Taxifolin Ototoxic\",\"Formoterol Non-toxic\",\"Antipyrine Non-toxic\",\"Ciclopirox Non-toxic\",\"Oxymetazoline Non-toxic\",\"Homobutein Ototoxic\",\"Bimatoprost Non-toxic\",\"bumetanide Ototoxic\",\"Masoprocol Non-toxic\"],\"legendgroup\":\"Cluster 4\",\"marker\":{\"color\":\"#B6E880\",\"symbol\":\"circle\"},\"mode\":\"markers\",\"name\":\"Cluster 4\",\"orientation\":\"v\",\"showlegend\":true,\"x\":[-5.146384239196777,-3.17295503616333,-1.5417325496673584,-3.2042343616485596,-1.890087366104126,-2.8620753288269043,-7.042593955993652,-0.047017842531204224,-1.890087366104126,-5.214521884918213,-4.671458721160889,-4.948892116546631,-1.0338178873062134,-0.7978860139846802,-7.160710334777832,-3.250744104385376],\"xaxis\":\"x\",\"y\":[-0.8470115661621094,0.327802836894989,2.318617582321167,3.031899929046631,0.27950364351272583,2.459524631500244,-0.6747444868087769,2.028665781021118,0.27950364351272583,1.925974726676941,2.2735867500305176,-0.63094562292099,2.0564746856689453,0.1416890174150467,2.0790224075317383,1.0478016138076782],\"yaxis\":\"y\",\"type\":\"scatter\"},{\"hovertemplate\":\"<b>%{hovertext}</b><br><br>color=Cluster 17<br>PC 1=%{x}<br>PC 2=%{y}<extra></extra>\",\"hovertext\":[\"Chenodeoxycholic acid Non-toxic\",\"Ergocalciferol Non-toxic\",\"Dihydrotachysterol Non-toxic\",\"Prednicarbate Non-toxic\",\"Difluprednate Non-toxic\",\"Clobetasol Non-toxic\",\"Flumethasone pivalate Non-toxic\",\"Alfacalcidol Non-toxic\",\"Hydrocortamate Non-toxic\",\"Fluticasone propionate Non-toxic\",\"Halobetasol propionate Non-toxic\",\"Simvastatin Ototoxic\",\"Xanthophyll Non-toxic\",\"Beclometasone dipropionate Non-toxic\",\"Clocortolone Non-toxic\",\"Cholecalciferol Non-toxic\",\"Dexamethasone Non-toxic\",\"Rocuronium Non-toxic\",\"Sclerotiorin Ototoxic\",\"Fusidic acid Non-toxic\",\"Retapamulin Non-toxic\"],\"legendgroup\":\"Cluster 17\",\"marker\":{\"color\":\"#FF97FF\",\"symbol\":\"circle\"},\"mode\":\"markers\",\"name\":\"Cluster 17\",\"orientation\":\"v\",\"showlegend\":true,\"x\":[2.3842875957489014,3.0365099906921387,2.278197765350342,4.6330342292785645,7.7655720710754395,6.815512657165527,7.637631893157959,2.9332051277160645,4.230369567871094,8.29563045501709,7.637059211730957,3.484163284301758,2.653346538543701,5.255112648010254,6.6359639167785645,3.0487542152404785,6.817234516143799,4.771928787231445,4.3825554847717285,3.8328285217285156,4.514030933380127],\"xaxis\":\"x\",\"y\":[3.0414328575134277,9.637049674987793,5.152434825897217,3.31854248046875,3.2640316486358643,4.993525505065918,3.661017894744873,10.13343620300293,2.5897445678710938,3.830855369567871,4.80314826965332,3.940833330154419,6.194743633270264,4.5469255447387695,5.38640832901001,9.940056800842285,3.8875813484191895,10.432308197021484,5.310445308685303,3.2627854347229004,10.10981273651123],\"yaxis\":\"y\",\"type\":\"scatter\"},{\"hovertemplate\":\"<b>%{hovertext}</b><br><br>color=Cluster 16<br>PC 1=%{x}<br>PC 2=%{y}<extra></extra>\",\"hovertext\":[\"Liotrix Non-toxic\",\"Iodixanol Non-toxic\",\"Pargyline Non-toxic\",\"Levothyroxine Non-toxic\",\"Norgestimate Non-toxic\",\"Selegiline Non-toxic\",\"Clioquinol  Ototoxic\",\"Diatrizoate Non-toxic\"],\"legendgroup\":\"Cluster 16\",\"marker\":{\"color\":\"#FECB52\",\"symbol\":\"circle\"},\"mode\":\"markers\",\"name\":\"Cluster 16\",\"orientation\":\"v\",\"showlegend\":true,\"x\":[-6.412868976593018,-6.026445388793945,-8.453666687011719,-7.093188285827637,-8.535151481628418,-8.454648971557617,-8.174588203430176,-7.280862331390381],\"xaxis\":\"x\",\"y\":[-19.013805389404297,-18.355735778808594,-11.640661239624023,-17.96371841430664,-12.335176467895508,-11.653822898864746,-17.045019149780273,-17.766613006591797],\"yaxis\":\"y\",\"type\":\"scatter\"},{\"hovertemplate\":\"<b>%{hovertext}</b><br><br>color=Cluster 15<br>PC 1=%{x}<br>PC 2=%{y}<extra></extra>\",\"hovertext\":[\"Doxacurium chloride Non-toxic\",\"Isopropamide Non-toxic\",\"Vecuronium Non-toxic\",\"Pipecuronium Non-toxic\",\"Hexafluronium Non-toxic\",\"Propantheline bromide Ototoxic\",\"Diphemanil methylsulfate Non-toxic\",\"Cisatracurium besylate Non-toxic\",\"Gallamine triethiodide Non-toxic\",\"Methantheline Non-toxic\",\"Mivacurium Non-toxic\",\"Demecarium Non-toxic\"],\"legendgroup\":\"Cluster 15\",\"marker\":{\"color\":\"#636efa\",\"symbol\":\"circle\"},\"mode\":\"markers\",\"name\":\"Cluster 15\",\"orientation\":\"v\",\"showlegend\":true,\"x\":[-14.358192443847656,-11.890942573547363,-14.911738395690918,-14.861733436584473,-12.489139556884766,-11.94288444519043,-11.212235450744629,-14.523822784423828,-13.607881546020508,-12.043437957763672,-14.312211036682129,-13.12603759765625],\"xaxis\":\"x\",\"y\":[-10.96137523651123,-5.341134071350098,-5.73889684677124,-5.787015438079834,-4.360147476196289,-7.361077308654785,-6.700560092926025,-11.777379035949707,-7.387779235839844,-5.73950719833374,-10.754813194274902,-5.833780765533447],\"yaxis\":\"y\",\"type\":\"scatter\"},{\"hovertemplate\":\"<b>%{hovertext}</b><br><br>color=Cluster 9<br>PC 1=%{x}<br>PC 2=%{y}<extra></extra>\",\"hovertext\":[\"deferoxamine Ototoxic\",\"benzylpenicillin Ototoxic\",\"Lopinavir Ototoxic\",\"Piperacillin Non-toxic\",\"Meropenem Non-toxic\",\"Pivampicillin Non-toxic\",\"Heroin Ototoxic\",\"Azidocillin Non-toxic\",\"Spectinomycin Non-toxic\",\"Azlocillin Non-toxic\",\"Pivmecillinam Non-toxic\",\"Deferoxamine Ototoxic\",\"Nafcillin Non-toxic\",\"Meticillin Non-toxic\",\"Hetacillin Non-toxic\",\"Amdinocillin Non-toxic\"],\"legendgroup\":\"Cluster 9\",\"marker\":{\"color\":\"#EF553B\",\"symbol\":\"circle\"},\"mode\":\"markers\",\"name\":\"Cluster 9\",\"orientation\":\"v\",\"showlegend\":true,\"x\":[4.448648929595947,2.8534467220306396,6.087860107421875,4.499840259552002,3.203125238418579,4.720994472503662,-0.8923985362052917,2.0228521823883057,2.331880807876587,4.045501232147217,1.3609782457351685,4.4486894607543945,3.3415169715881348,3.692502021789551,3.247938394546509,1.375049114227295],\"xaxis\":\"x\",\"y\":[-0.5363010764122009,-4.32429838180542,-4.720050811767578,-4.7446699142456055,-3.059849262237549,-3.495640993118286,-3.659966468811035,-3.8525519371032715,0.374670147895813,-4.577780246734619,-2.1693367958068848,-0.5363112092018127,-5.827391147613525,-3.741931915283203,-4.578638076782227,-2.328216314315796],\"yaxis\":\"y\",\"type\":\"scatter\"},{\"hovertemplate\":\"<b>%{hovertext}</b><br><br>color=Cluster 11<br>PC 1=%{x}<br>PC 2=%{y}<extra></extra>\",\"hovertext\":[\"Sodium tetradecyl sulfate Non-toxic\",\"Copper sulfate Ototoxic\",\"Gadofosveset trisodium Non-toxic\",\"Hydroxyurea Non-toxic\",\"Oxaliplatin Ototoxic\",\"Carboplatin Ototoxic\",\"gadoteridol Non-toxic\"],\"legendgroup\":\"Cluster 11\",\"marker\":{\"color\":\"#00cc96\",\"symbol\":\"circle\"},\"mode\":\"markers\",\"name\":\"Cluster 11\",\"orientation\":\"v\",\"showlegend\":true,\"x\":[-15.43508243560791,-15.72205924987793,-18.451486587524414,-12.937378883361816,-16.997596740722656,-16.800325393676758,-16.700939178466797],\"xaxis\":\"x\",\"y\":[4.901970386505127,7.589903831481934,4.470402717590332,7.705186367034912,6.861559867858887,6.902778625488281,5.3684983253479],\"yaxis\":\"y\",\"type\":\"scatter\"},{\"hovertemplate\":\"<b>%{hovertext}</b><br><br>color=Cluster 14<br>PC 1=%{x}<br>PC 2=%{y}<extra></extra>\",\"hovertext\":[\"Ethionamide Non-toxic\",\"Rimonabant Non-toxic\",\"Econazole Non-toxic\",\"Tolnaftate Non-toxic\",\"Miconazole Non-toxic\",\"Butoconazole Non-toxic\"],\"legendgroup\":\"Cluster 14\",\"marker\":{\"color\":\"#ab63fa\",\"symbol\":\"circle\"},\"mode\":\"markers\",\"name\":\"Cluster 14\",\"orientation\":\"v\",\"showlegend\":true,\"x\":[-18.529420852661133,-23.370166778564453,-22.96067237854004,-18.5302677154541,-22.992422103881836,-22.478967666625977],\"xaxis\":\"x\",\"y\":[-3.0009372234344482,-0.22100554406642914,0.4269965589046478,-3.0162975788116455,0.4926856458187103,0.008241958916187286],\"yaxis\":\"y\",\"type\":\"scatter\"},{\"hovertemplate\":\"<b>%{hovertext}</b><br><br>color=Cluster 3<br>PC 1=%{x}<br>PC 2=%{y}<extra></extra>\",\"hovertext\":[\"Isradipine Ototoxic\",\"quercetin Ototoxic\",\"Pomiferin Ototoxic\",\"Dalfopristin Non-toxic\",\"Wedelolactone Ototoxic\",\"Cloxacillin Non-toxic\",\"Flucloxacillin Non-toxic\",\"Novobiocin Non-toxic\",\"Cromoglicic acid Non-toxic\",\"Sitaxentan Non-toxic\",\"Lapatinib Ototoxic\",\"Morin Ototoxic\",\"furosemide Ototoxic\",\"Dicloxacillin Non-toxic\",\"isorhamnetin Ototoxic\"],\"legendgroup\":\"Cluster 3\",\"marker\":{\"color\":\"#FFA15A\",\"symbol\":\"circle\"},\"mode\":\"markers\",\"name\":\"Cluster 3\",\"orientation\":\"v\",\"showlegend\":true,\"x\":[12.349797248840332,10.953346252441406,10.456843376159668,10.960466384887695,9.776740074157715,13.89786148071289,14.488197326660156,10.446720123291016,9.484875679016113,14.705717086791992,15.497490882873535,10.948999404907227,13.569864273071289,14.080497741699219,10.68170166015625],\"xaxis\":\"x\",\"y\":[9.222280502319336,11.68452262878418,9.779487609863281,7.7671613693237305,12.063311576843262,9.225570678710938,8.827604293823242,8.634697914123535,11.544151306152344,10.886174201965332,10.022327423095703,11.740401268005371,11.373651504516602,9.202898979187012,11.081954956054688],\"yaxis\":\"y\",\"type\":\"scatter\"},{\"hovertemplate\":\"<b>%{hovertext}</b><br><br>color=Cluster 10<br>PC 1=%{x}<br>PC 2=%{y}<extra></extra>\",\"hovertext\":[\"Hydrocodone Ototoxic\",\"Isothipendyl Non-toxic\",\"Naphazoline Non-toxic\",\"Methotrimeprazine Non-toxic\",\"Cycrimine Non-toxic\",\"Biperiden Non-toxic\",\"Guaiazulene Ototoxic\",\"Promazine Non-toxic\",\"Acepromazine Non-toxic\",\"toluene Ototoxic\",\"Ethopropazine Non-toxic\",\"Benzonatate Non-toxic\",\"Plerixafor Non-toxic\",\"Phenindamine Non-toxic\",\"Metixene Non-toxic\",\"Tolazoline Non-toxic\",\"Procyclidine Non-toxic\",\"Styrene Ototoxic\",\"Antazoline Non-toxic\"],\"legendgroup\":\"Cluster 10\",\"marker\":{\"color\":\"#19d3f3\",\"symbol\":\"circle\"},\"mode\":\"markers\",\"name\":\"Cluster 10\",\"orientation\":\"v\",\"showlegend\":true,\"x\":[-1.225250005722046,-4.018670558929443,-7.014530658721924,-2.9806370735168457,-3.421082019805908,-2.8509116172790527,-7.605735778808594,-4.152015209197998,-2.717311143875122,-7.836942195892334,-4.02868127822876,-8.003829002380371,-4.382401943206787,-5.344244003295898,-4.814316749572754,-6.206597805023193,-3.4236438274383545,-8.81256103515625,-6.056715488433838],\"xaxis\":\"x\",\"y\":[-3.9812638759613037,-7.887005805969238,-2.263967275619507,-5.907887935638428,-3.195446729660034,-2.7227160930633545,-4.761230945587158,-6.552310466766357,-6.704891681671143,-4.530190467834473,-7.068387508392334,-7.990145206451416,-4.176143646240234,-5.721368789672852,-6.924356937408447,-2.054762601852417,-3.191300868988037,-3.8735709190368652,-2.3631680011749268],\"yaxis\":\"y\",\"type\":\"scatter\"},{\"hovertemplate\":\"<b>%{hovertext}</b><br><br>color=Cluster 8<br>PC 1=%{x}<br>PC 2=%{y}<extra></extra>\",\"hovertext\":[\"Heptabarbital Non-toxic\",\"Marimastat Non-toxic\",\"Isometheptene Non-toxic\",\"Ethanolamine oleate Non-toxic\",\"Quinine Sulfate Ototoxic\",\"Alpha-linolenic acid Non-toxic\",\"Ethambutol Non-toxic\",\"Docosanol Non-toxic\",\"Gamma-homolinolenic acid Non-toxic\",\"Chloroquine Ototoxic\",\"Hydralazine Non-toxic\",\"Propylhexedrine Non-toxic\",\"spermine Ototoxic\",\"Tyloxapol Non-toxic\",\"Hexobarbital Non-toxic\"],\"legendgroup\":\"Cluster 8\",\"marker\":{\"color\":\"#FF6692\",\"symbol\":\"circle\"},\"mode\":\"markers\",\"name\":\"Cluster 8\",\"orientation\":\"v\",\"showlegend\":true,\"x\":[-1.9593355655670166,-4.319869041442871,-3.219602346420288,0.12904132902622223,0.4426177144050598,0.5536807179450989,-4.597877502441406,-1.2852455377578735,0.5683956146240234,-4.07471227645874,-4.901317119598389,-3.726963758468628,-4.442570686340332,0.060190144926309586,-1.9841089248657227],\"xaxis\":\"x\",\"y\":[4.627795219421387,4.982893466949463,7.372845649719238,7.366600513458252,9.555296897888184,5.733537673950195,6.240653038024902,6.437346935272217,5.7706522941589355,10.339299201965332,9.679557800292969,7.382839202880859,7.677718639373779,8.822249412536621,4.618783473968506],\"yaxis\":\"y\",\"type\":\"scatter\"},{\"hovertemplate\":\"<b>%{hovertext}</b><br><br>color=Cluster 1<br>PC 1=%{x}<br>PC 2=%{y}<extra></extra>\",\"hovertext\":[\"Daunorubicin Non-toxic\",\"Neomycin Ototoxic\",\"Epirubicin Non-toxic\",\"2-Hyroxypropyl-beta-cyclodextrin Ototoxic\",\"Dihydrostreptomycin Ototoxic\",\"Idarubicin Non-toxic\",\"Erythromycin Ototoxic\",\"Deslanoside Non-toxic\",\"Gentamicin Ototoxic\",\"Dibekacin Ototoxic\",\"Tipranavir Non-toxic\",\"Enoxaparin Non-toxic\",\"Tobramycin Ototoxic\",\"Picrotoxin Non-toxic\",\"amikacin Ototoxic\",\"Kanamycin Ototoxic\",\"Chlortetracycline Ototoxic\",\"Pentosan polysulfate Non-toxic\",\"Valrubicin Non-toxic\",\"Natamycin Non-toxic\"],\"legendgroup\":\"Cluster 1\",\"marker\":{\"color\":\"#B6E880\",\"symbol\":\"circle\"},\"mode\":\"markers\",\"name\":\"Cluster 1\",\"orientation\":\"v\",\"showlegend\":true,\"x\":[8.747649192810059,14.244636535644531,8.884113311767578,13.5855073928833,15.225271224975586,8.453043937683105,10.870071411132812,11.894546508789062,12.25695514678955,13.127371788024902,9.393741607666016,16.449302673339844,13.594499588012695,9.687561988830566,14.128068923950195,13.541275024414062,7.697753429412842,16.57958221435547,9.13247013092041,7.348870277404785],\"xaxis\":\"x\",\"y\":[-0.6176378726959229,1.651265263557434,-0.45402443408966064,-0.7904782295227051,2.14029598236084,-0.5996592044830322,-0.9886436462402344,-1.2585958242416382,1.8273168802261353,2.2291018962860107,2.8122169971466064,-1.2520262002944946,2.2375755310058594,-2.5935399532318115,0.9276910424232483,1.5672376155853271,-1.3843905925750732,-0.6434426307678223,1.755272626876831,0.703862726688385],\"yaxis\":\"y\",\"type\":\"scatter\"},{\"hovertemplate\":\"<b>%{hovertext}</b><br><br>color=Cluster 12<br>PC 1=%{x}<br>PC 2=%{y}<extra></extra>\",\"hovertext\":[\"Fosamprenavir Non-toxic\",\"Chlorothiazide Ototoxic\",\"Isoflurophate Non-toxic\",\"Amifostine Non-toxic\",\"Remdesivir Ototoxic\",\"Creatine Non-toxic\",\"Pentamidine isethionate Ototoxic\"],\"legendgroup\":\"Cluster 12\",\"marker\":{\"color\":\"#FF97FF\",\"symbol\":\"circle\"},\"mode\":\"markers\",\"name\":\"Cluster 12\",\"orientation\":\"v\",\"showlegend\":true,\"x\":[-5.202825546264648,-9.33525276184082,-6.271917343139648,-6.082284450531006,-3.794743061065674,-7.505664825439453,-6.978517055511475],\"xaxis\":\"x\",\"y\":[15.725543022155762,12.524124145507812,15.150476455688477,15.239335060119629,16.440792083740234,10.87511920928955,11.504549980163574],\"yaxis\":\"y\",\"type\":\"scatter\"},{\"hovertemplate\":\"<b>%{hovertext}</b><br><br>color=Cluster 7<br>PC 1=%{x}<br>PC 2=%{y}<extra></extra>\",\"hovertext\":[\"Saprisartan Non-toxic\",\"Nimodipine Ototoxic\",\"Erythrityl tetranitrate Non-toxic\",\"Methoxyflurane Non-toxic\",\"Halothane Non-toxic\",\"Chloramphenicol Ototoxic\",\"nitrogen mustard Ototoxic\",\"Carmustine Non-toxic\",\"Dimethyl sulfoxide Non-toxic\",\"trichloroethylene Ototoxic\"],\"legendgroup\":\"Cluster 7\",\"marker\":{\"color\":\"#FECB52\",\"symbol\":\"circle\"},\"mode\":\"markers\",\"name\":\"Cluster 7\",\"orientation\":\"v\",\"showlegend\":true,\"x\":[-12.223904609680176,-16.858814239501953,-17.567546844482422,-12.056859016418457,-12.184685707092285,-16.78835678100586,-11.932266235351562,-11.162644386291504,-12.539009094238281,-12.124035835266113],\"xaxis\":\"x\",\"y\":[16.394311904907227,11.971421241760254,12.718481063842773,14.221723556518555,15.569777488708496,12.080979347229004,12.45856761932373,12.432663917541504,9.963857650756836,13.049735069274902],\"yaxis\":\"y\",\"type\":\"scatter\"}],                        {\"template\":{\"data\":{\"bar\":[{\"error_x\":{\"color\":\"#2a3f5f\"},\"error_y\":{\"color\":\"#2a3f5f\"},\"marker\":{\"line\":{\"color\":\"#E5ECF6\",\"width\":0.5},\"pattern\":{\"fillmode\":\"overlay\",\"size\":10,\"solidity\":0.2}},\"type\":\"bar\"}],\"barpolar\":[{\"marker\":{\"line\":{\"color\":\"#E5ECF6\",\"width\":0.5},\"pattern\":{\"fillmode\":\"overlay\",\"size\":10,\"solidity\":0.2}},\"type\":\"barpolar\"}],\"carpet\":[{\"aaxis\":{\"endlinecolor\":\"#2a3f5f\",\"gridcolor\":\"white\",\"linecolor\":\"white\",\"minorgridcolor\":\"white\",\"startlinecolor\":\"#2a3f5f\"},\"baxis\":{\"endlinecolor\":\"#2a3f5f\",\"gridcolor\":\"white\",\"linecolor\":\"white\",\"minorgridcolor\":\"white\",\"startlinecolor\":\"#2a3f5f\"},\"type\":\"carpet\"}],\"choropleth\":[{\"colorbar\":{\"outlinewidth\":0,\"ticks\":\"\"},\"type\":\"choropleth\"}],\"contour\":[{\"colorbar\":{\"outlinewidth\":0,\"ticks\":\"\"},\"colorscale\":[[0.0,\"#0d0887\"],[0.1111111111111111,\"#46039f\"],[0.2222222222222222,\"#7201a8\"],[0.3333333333333333,\"#9c179e\"],[0.4444444444444444,\"#bd3786\"],[0.5555555555555556,\"#d8576b\"],[0.6666666666666666,\"#ed7953\"],[0.7777777777777778,\"#fb9f3a\"],[0.8888888888888888,\"#fdca26\"],[1.0,\"#f0f921\"]],\"type\":\"contour\"}],\"contourcarpet\":[{\"colorbar\":{\"outlinewidth\":0,\"ticks\":\"\"},\"type\":\"contourcarpet\"}],\"heatmap\":[{\"colorbar\":{\"outlinewidth\":0,\"ticks\":\"\"},\"colorscale\":[[0.0,\"#0d0887\"],[0.1111111111111111,\"#46039f\"],[0.2222222222222222,\"#7201a8\"],[0.3333333333333333,\"#9c179e\"],[0.4444444444444444,\"#bd3786\"],[0.5555555555555556,\"#d8576b\"],[0.6666666666666666,\"#ed7953\"],[0.7777777777777778,\"#fb9f3a\"],[0.8888888888888888,\"#fdca26\"],[1.0,\"#f0f921\"]],\"type\":\"heatmap\"}],\"heatmapgl\":[{\"colorbar\":{\"outlinewidth\":0,\"ticks\":\"\"},\"colorscale\":[[0.0,\"#0d0887\"],[0.1111111111111111,\"#46039f\"],[0.2222222222222222,\"#7201a8\"],[0.3333333333333333,\"#9c179e\"],[0.4444444444444444,\"#bd3786\"],[0.5555555555555556,\"#d8576b\"],[0.6666666666666666,\"#ed7953\"],[0.7777777777777778,\"#fb9f3a\"],[0.8888888888888888,\"#fdca26\"],[1.0,\"#f0f921\"]],\"type\":\"heatmapgl\"}],\"histogram\":[{\"marker\":{\"pattern\":{\"fillmode\":\"overlay\",\"size\":10,\"solidity\":0.2}},\"type\":\"histogram\"}],\"histogram2d\":[{\"colorbar\":{\"outlinewidth\":0,\"ticks\":\"\"},\"colorscale\":[[0.0,\"#0d0887\"],[0.1111111111111111,\"#46039f\"],[0.2222222222222222,\"#7201a8\"],[0.3333333333333333,\"#9c179e\"],[0.4444444444444444,\"#bd3786\"],[0.5555555555555556,\"#d8576b\"],[0.6666666666666666,\"#ed7953\"],[0.7777777777777778,\"#fb9f3a\"],[0.8888888888888888,\"#fdca26\"],[1.0,\"#f0f921\"]],\"type\":\"histogram2d\"}],\"histogram2dcontour\":[{\"colorbar\":{\"outlinewidth\":0,\"ticks\":\"\"},\"colorscale\":[[0.0,\"#0d0887\"],[0.1111111111111111,\"#46039f\"],[0.2222222222222222,\"#7201a8\"],[0.3333333333333333,\"#9c179e\"],[0.4444444444444444,\"#bd3786\"],[0.5555555555555556,\"#d8576b\"],[0.6666666666666666,\"#ed7953\"],[0.7777777777777778,\"#fb9f3a\"],[0.8888888888888888,\"#fdca26\"],[1.0,\"#f0f921\"]],\"type\":\"histogram2dcontour\"}],\"mesh3d\":[{\"colorbar\":{\"outlinewidth\":0,\"ticks\":\"\"},\"type\":\"mesh3d\"}],\"parcoords\":[{\"line\":{\"colorbar\":{\"outlinewidth\":0,\"ticks\":\"\"}},\"type\":\"parcoords\"}],\"pie\":[{\"automargin\":true,\"type\":\"pie\"}],\"scatter\":[{\"marker\":{\"colorbar\":{\"outlinewidth\":0,\"ticks\":\"\"}},\"type\":\"scatter\"}],\"scatter3d\":[{\"line\":{\"colorbar\":{\"outlinewidth\":0,\"ticks\":\"\"}},\"marker\":{\"colorbar\":{\"outlinewidth\":0,\"ticks\":\"\"}},\"type\":\"scatter3d\"}],\"scattercarpet\":[{\"marker\":{\"colorbar\":{\"outlinewidth\":0,\"ticks\":\"\"}},\"type\":\"scattercarpet\"}],\"scattergeo\":[{\"marker\":{\"colorbar\":{\"outlinewidth\":0,\"ticks\":\"\"}},\"type\":\"scattergeo\"}],\"scattergl\":[{\"marker\":{\"colorbar\":{\"outlinewidth\":0,\"ticks\":\"\"}},\"type\":\"scattergl\"}],\"scattermapbox\":[{\"marker\":{\"colorbar\":{\"outlinewidth\":0,\"ticks\":\"\"}},\"type\":\"scattermapbox\"}],\"scatterpolar\":[{\"marker\":{\"colorbar\":{\"outlinewidth\":0,\"ticks\":\"\"}},\"type\":\"scatterpolar\"}],\"scatterpolargl\":[{\"marker\":{\"colorbar\":{\"outlinewidth\":0,\"ticks\":\"\"}},\"type\":\"scatterpolargl\"}],\"scatterternary\":[{\"marker\":{\"colorbar\":{\"outlinewidth\":0,\"ticks\":\"\"}},\"type\":\"scatterternary\"}],\"surface\":[{\"colorbar\":{\"outlinewidth\":0,\"ticks\":\"\"},\"colorscale\":[[0.0,\"#0d0887\"],[0.1111111111111111,\"#46039f\"],[0.2222222222222222,\"#7201a8\"],[0.3333333333333333,\"#9c179e\"],[0.4444444444444444,\"#bd3786\"],[0.5555555555555556,\"#d8576b\"],[0.6666666666666666,\"#ed7953\"],[0.7777777777777778,\"#fb9f3a\"],[0.8888888888888888,\"#fdca26\"],[1.0,\"#f0f921\"]],\"type\":\"surface\"}],\"table\":[{\"cells\":{\"fill\":{\"color\":\"#EBF0F8\"},\"line\":{\"color\":\"white\"}},\"header\":{\"fill\":{\"color\":\"#C8D4E3\"},\"line\":{\"color\":\"white\"}},\"type\":\"table\"}]},\"layout\":{\"annotationdefaults\":{\"arrowcolor\":\"#2a3f5f\",\"arrowhead\":0,\"arrowwidth\":1},\"autotypenumbers\":\"strict\",\"coloraxis\":{\"colorbar\":{\"outlinewidth\":0,\"ticks\":\"\"}},\"colorscale\":{\"diverging\":[[0,\"#8e0152\"],[0.1,\"#c51b7d\"],[0.2,\"#de77ae\"],[0.3,\"#f1b6da\"],[0.4,\"#fde0ef\"],[0.5,\"#f7f7f7\"],[0.6,\"#e6f5d0\"],[0.7,\"#b8e186\"],[0.8,\"#7fbc41\"],[0.9,\"#4d9221\"],[1,\"#276419\"]],\"sequential\":[[0.0,\"#0d0887\"],[0.1111111111111111,\"#46039f\"],[0.2222222222222222,\"#7201a8\"],[0.3333333333333333,\"#9c179e\"],[0.4444444444444444,\"#bd3786\"],[0.5555555555555556,\"#d8576b\"],[0.6666666666666666,\"#ed7953\"],[0.7777777777777778,\"#fb9f3a\"],[0.8888888888888888,\"#fdca26\"],[1.0,\"#f0f921\"]],\"sequentialminus\":[[0.0,\"#0d0887\"],[0.1111111111111111,\"#46039f\"],[0.2222222222222222,\"#7201a8\"],[0.3333333333333333,\"#9c179e\"],[0.4444444444444444,\"#bd3786\"],[0.5555555555555556,\"#d8576b\"],[0.6666666666666666,\"#ed7953\"],[0.7777777777777778,\"#fb9f3a\"],[0.8888888888888888,\"#fdca26\"],[1.0,\"#f0f921\"]]},\"colorway\":[\"#636efa\",\"#EF553B\",\"#00cc96\",\"#ab63fa\",\"#FFA15A\",\"#19d3f3\",\"#FF6692\",\"#B6E880\",\"#FF97FF\",\"#FECB52\"],\"font\":{\"color\":\"#2a3f5f\"},\"geo\":{\"bgcolor\":\"white\",\"lakecolor\":\"white\",\"landcolor\":\"#E5ECF6\",\"showlakes\":true,\"showland\":true,\"subunitcolor\":\"white\"},\"hoverlabel\":{\"align\":\"left\"},\"hovermode\":\"closest\",\"mapbox\":{\"style\":\"light\"},\"paper_bgcolor\":\"white\",\"plot_bgcolor\":\"#E5ECF6\",\"polar\":{\"angularaxis\":{\"gridcolor\":\"white\",\"linecolor\":\"white\",\"ticks\":\"\"},\"bgcolor\":\"#E5ECF6\",\"radialaxis\":{\"gridcolor\":\"white\",\"linecolor\":\"white\",\"ticks\":\"\"}},\"scene\":{\"xaxis\":{\"backgroundcolor\":\"#E5ECF6\",\"gridcolor\":\"white\",\"gridwidth\":2,\"linecolor\":\"white\",\"showbackground\":true,\"ticks\":\"\",\"zerolinecolor\":\"white\"},\"yaxis\":{\"backgroundcolor\":\"#E5ECF6\",\"gridcolor\":\"white\",\"gridwidth\":2,\"linecolor\":\"white\",\"showbackground\":true,\"ticks\":\"\",\"zerolinecolor\":\"white\"},\"zaxis\":{\"backgroundcolor\":\"#E5ECF6\",\"gridcolor\":\"white\",\"gridwidth\":2,\"linecolor\":\"white\",\"showbackground\":true,\"ticks\":\"\",\"zerolinecolor\":\"white\"}},\"shapedefaults\":{\"line\":{\"color\":\"#2a3f5f\"}},\"ternary\":{\"aaxis\":{\"gridcolor\":\"white\",\"linecolor\":\"white\",\"ticks\":\"\"},\"baxis\":{\"gridcolor\":\"white\",\"linecolor\":\"white\",\"ticks\":\"\"},\"bgcolor\":\"#E5ECF6\",\"caxis\":{\"gridcolor\":\"white\",\"linecolor\":\"white\",\"ticks\":\"\"}},\"title\":{\"x\":0.05},\"xaxis\":{\"automargin\":true,\"gridcolor\":\"white\",\"linecolor\":\"white\",\"ticks\":\"\",\"title\":{\"standoff\":15},\"zerolinecolor\":\"white\",\"zerolinewidth\":2},\"yaxis\":{\"automargin\":true,\"gridcolor\":\"white\",\"linecolor\":\"white\",\"ticks\":\"\",\"title\":{\"standoff\":15},\"zerolinecolor\":\"white\",\"zerolinewidth\":2}}},\"xaxis\":{\"anchor\":\"y\",\"domain\":[0.0,1.0],\"title\":{\"text\":\"PC 1\"}},\"yaxis\":{\"anchor\":\"x\",\"domain\":[0.0,1.0],\"title\":{\"text\":\"PC 2\"}},\"legend\":{\"title\":{\"text\":\"color\"},\"tracegroupgap\":0},\"title\":{\"text\":\"k-Means clustering of t-SNE components\"}},                        {\"responsive\": true}                    ).then(function(){\n",
              "                            \n",
              "var gd = document.getElementById('3ce540d3-7eaf-48cd-a5b8-8fcf6d3caa31');\n",
              "var x = new MutationObserver(function (mutations, observer) {{\n",
              "        var display = window.getComputedStyle(gd).display;\n",
              "        if (!display || display === 'none') {{\n",
              "            console.log([gd, 'removed!']);\n",
              "            Plotly.purge(gd);\n",
              "            observer.disconnect();\n",
              "        }}\n",
              "}});\n",
              "\n",
              "// Listen for the removal of the full notebook cells\n",
              "var notebookContainer = gd.closest('#notebook-container');\n",
              "if (notebookContainer) {{\n",
              "    x.observe(notebookContainer, {childList: true});\n",
              "}}\n",
              "\n",
              "// Listen for the clearing of the current output cell\n",
              "var outputEl = gd.closest('.output');\n",
              "if (outputEl) {{\n",
              "    x.observe(outputEl, {childList: true});\n",
              "}}\n",
              "\n",
              "                        })                };                            </script>        </div>\n",
              "</body>\n",
              "</html>"
            ]
          },
          "metadata": {}
        }
      ],
      "source": [
        "fig = px.scatter(sne_components, x=0, y=1, \n",
        "                 color=kmeans_labels_str, \n",
        "                 hover_name=[pp + \" \" + qq for pp, qq in zip(feature_compound_name, class_label_name)],\n",
        "                            title=f'k-Means clustering of t-SNE components', labels={'0': 'PC 1', '1': 'PC 2'})\n",
        "fig.show()"
      ]
    },
    {
      "cell_type": "code",
      "execution_count": 28,
      "id": "b70fbbea",
      "metadata": {
        "colab": {
          "base_uri": "https://localhost:8080/",
          "height": 339
        },
        "id": "b70fbbea",
        "outputId": "d92c852c-a4b5-4013-e8bd-a69bbabbca88"
      },
      "outputs": [
        {
          "output_type": "execute_result",
          "data": {
            "text/plain": [
              "[]"
            ]
          },
          "metadata": {},
          "execution_count": 28
        },
        {
          "output_type": "display_data",
          "data": {
            "image/png": "[encoded data removed]",
            "text/plain": [
              "<Figure size 576x360 with 1 Axes>"
            ]
          },
          "metadata": {}
        }
      ],
      "source": [
        "# plot the clusters\n",
        "fig, ax = plt.subplots(nrows=1, ncols=1, figsize=(8, 5))\n",
        "colors = [\"#4EACC5\", \"#FF9C34\", \"#d2c596\", \"#a254a2\", \"#289ec1\", \"#18e4ac\", \"#072f8b\", \"#b46c9a\", \"#9f0c05\", \n",
        "         \"#5974d1\", \"#0dccb9\", \"#f264d1\", \"#b0b071\", \"#da4634\", \"#704e31\", \"#ee8b6a\", \"#eae883\", \"#116549\", \n",
        "         \"#f8a82a\", \"#6c776f\"]\n",
        "\n",
        "\n",
        "for k, col in zip(range(n_clusters), colors):\n",
        "    my_members = kmeans_labels == k\n",
        "    cluster_center = kmeans_cluster_center[k]\n",
        "    ax.plot(sne_components[my_members, 0], sne_components[my_members, 1], \"w\", markerfacecolor=col, marker=\".\", markersize=10)\n",
        "    ax.plot(\n",
        "        cluster_center[0],\n",
        "        cluster_center[1],\n",
        "        \"o\",\n",
        "        markerfacecolor=col,\n",
        "        markeredgecolor=\"k\",\n",
        "        markersize=6,\n",
        "    )\n",
        "ax.set_title(\"KMeans Clustering of t-SNE components\")\n",
        "ax.set_xticks(())\n",
        "ax.set_yticks(())"
      ]
    },
    {
      "cell_type": "markdown",
      "id": "bc29763f",
      "metadata": {
        "id": "bc29763f"
      },
      "source": [
        "Now, take the clusters and study what features the molecules in the clusters have in common. "
      ]
    },
    {
      "cell_type": "code",
      "execution_count": 28,
      "id": "2ad45686",
      "metadata": {
        "id": "2ad45686"
      },
      "outputs": [],
      "source": [
        ""
      ]
    },
    {
      "cell_type": "markdown",
      "id": "653effb1",
      "metadata": {
        "id": "653effb1"
      },
      "source": [
        "### What defines the size of the molecules?\n",
        "Ototoxicity is caused by blocking of the MET-channel. Is there any correlation between the size of the molecules and the class labels. \n",
        "\n",
        "We will use the following features as proxy for molecular volume (or size) to do some analysis. \n",
        "1. Molecular weight (Weight)\n",
        "2. Number of all atoms (nta)\n",
        "3. Number of O atoms (noxy)\n",
        "4. Number of C atoms (ncarb)\n",
        "5. Number of single bonds (nsb)\n",
        "\n",
        "We also have counts of various atoms such as\n",
        "1. Hydrogen\n",
        "2. Halogens\n",
        "3. Heavy atoms\n",
        "4. F atoms\n",
        "5. Cl atoms\n",
        "6. Br atoms\n",
        "7. I atoms\n",
        "8. C atoms\n",
        "9. P atoms\n",
        "10. S atoms\n",
        "11. O atoms\n",
        "12. N atoms\n",
        "\n",
        "\n",
        "Other measures for molecular size are bond length, position of atoms, volume which can be computed from Molar mass and density. "
      ]
    },
    {
      "cell_type": "code",
      "execution_count": 29,
      "id": "7a006a04",
      "metadata": {
        "id": "7a006a04"
      },
      "outputs": [],
      "source": [
        "molecular_size_features = ['Weight', 'nta', 'noxy', 'ncarb', 'nsb']"
      ]
    },
    {
      "cell_type": "code",
      "execution_count": 30,
      "id": "331df013",
      "metadata": {
        "colab": {
          "base_uri": "https://localhost:8080/",
          "height": 1000
        },
        "id": "331df013",
        "outputId": "c63660e3-2168-4a79-e57e-c09c277d1882"
      },
      "outputs": [
        {
          "output_type": "display_data",
          "data": {
            "text/html": [
              "<html>\n",
              "<head><meta charset=\"utf-8\" /></head>\n",
              "<body>\n",
              "    <div>            <script src=\"https://cdnjs.cloudflare.com/ajax/libs/mathjax/2.7.5/MathJax.js?config=TeX-AMS-MML_SVG\"></script><script type=\"text/javascript\">if (window.MathJax) {MathJax.Hub.Config({SVG: {font: \"STIX-Web\"}});}</script>                <script type=\"text/javascript\">window.PlotlyConfig = {MathJaxConfig: 'local'};</script>\n",
              "        <script src=\"https://cdn.plot.ly/plotly-2.8.3.min.js\"></script>                <div id=\"8414a07e-71c3-45ab-8c2e-aba5958c34b4\" class=\"plotly-graph-div\" style=\"height:500px; width:700px;\"></div>            <script type=\"text/javascript\">                                    window.PLOTLYENV=window.PLOTLYENV || {};                                    if (document.getElementById(\"8414a07e-71c3-45ab-8c2e-aba5958c34b4\")) {                    Plotly.newPlot(                        \"8414a07e-71c3-45ab-8c2e-aba5958c34b4\",                        [{\"hovertemplate\":\"<b>%{hovertext}</b><br><br>color=Non-toxic<br>x=%{x}<br>Weight=%{y}<extra></extra>\",\"hovertext\":[\"Saxagliptin\",\"Dutasteride\",\"Cefixime\",\"S-adenosylmethionine\",\"Ceftibuten\",\"Oxitriptan\",\"Niacin\",\"Acetohydroxamic acid\",\"Cetrorelix\",\"Tymazoline\",\"Chenodeoxycholic acid\",\"Ergocalciferol\",\"Liotrix\",\"Doxacurium chloride\",\"Pipotiazine\",\"Aminocaproic acid\",\"Decamethonium\",\"Isopropamide\",\"Sodium tetradecyl sulfate\",\"Dobutamine\",\"Ethionamide\",\"Phenacemide\",\"Aminolevulinic acid\",\"Vapreotide\",\"Vecuronium\",\"Dihydrotachysterol\",\"Fosaprepitant\",\"Degarelix\",\"Dalfopristin\",\"Heptabarbital\",\"Marimastat\",\"Voglibose\",\"Anidulafungin\",\"Pyrazinamide\",\"Daunorubicin\",\"Menadione\",\"Cefamandole\",\"Succinic acid\",\"Isothipendyl\",\"Micafungin\",\"Fosamprenavir\",\"Epirubicin\",\"Aminosalicylic acid\",\"Naphazoline\",\"Gadofosveset trisodium\",\"Cloxacillin\",\"Isometheptene\",\"Arformoterol\",\"Anisindione\",\"Methotrimeprazine\",\"Idarubicin\",\"Prednicarbate\",\"Azelaic acid\",\"Riboflavin\",\"Flucloxacillin\",\"Rimonabant\",\"Ceforanide\",\"Difluprednate\",\"Novobiocin\",\"Piperacillin\",\"Clobetasol\",\"Iodixanol\",\"Deslanoside\",\"Flumethasone pivalate\",\"Cefmenoxime\",\"Hydroxyurea\",\"L-cysteine\",\"Gonadorelin\",\"Levosimendan\",\"Pipecuronium\",\"Metaraminol\",\"Desmopressin\",\"Cycrimine\",\"Biperiden\",\"Alfacalcidol\",\"Lucanthone\",\"Leucovorin\",\"Meropenem\",\"Pargyline\",\"Pentolinium\",\"Hexafluronium\",\"Cefmetazole\",\"Miglitol\",\"Hydrocortamate\",\"Sulfacetamide\",\"Salicylamide\",\"Fluticasone propionate\",\"Acetophenazine\",\"Formoterol\",\"Cromoglicic acid\",\"Ixabepilone\",\"Pivampicillin\",\"Ethanolamine oleate\",\"Cefepime\",\"Antipyrine\",\"Saprisartan\",\"Promazine\",\"Levothyroxine\",\"Erythrityl tetranitrate\",\"Acepromazine\",\"Azidocillin\",\"Alpha-linolenic acid\",\"Bethanechol\",\"Halobetasol propionate\",\"Ciclopirox\",\"Ivacaftor\",\"Norgestimate\",\"Oxymetazoline\",\"Procaterol\",\"Sitaxentan\",\"Cefditoren\",\"Econazole\",\"Spectinomycin\",\"Fluphenazine\",\"Methyl aminolevulinate\",\"Isoflurophate\",\"Ethambutol\",\"Trabectedin\",\"Xanthophyll\",\"L-methionine\",\"Carbidopa\",\"Milrinone\",\"Beclometasone dipropionate\",\"Antrafenine\",\"Cefotetan\",\"Dactinomycin\",\"Azlocillin\",\"Tipranavir\",\"Cefonicid\",\"Carphenazine\",\"Amifostine\",\"Ethopropazine\",\"Docosanol\",\"Tolnaftate\",\"Benzonatate\",\"Colistimethate\",\"Betazole\",\"Gamma-homolinolenic acid\",\"Carglumic acid\",\"Enoxaparin\",\"Levonordefrin\",\"Clocortolone\",\"Mifepristone\",\"Succinylcholine\",\"Cholecalciferol\",\"Quinupristin\",\"Dexamethasone\",\"Diphemanil methylsulfate\",\"Cisatracurium besylate\",\"L-ornithine\",\"Pivmecillinam\",\"Triflupromazine\",\"Rocuronium\",\"Nafcillin\",\"Methoxyflurane\",\"Picrotoxin\",\"Hydralazine\",\"Creatine\",\"Halothane\",\"Plerixafor\",\"Gallamine triethiodide\",\"Propylhexedrine\",\"Methantheline\",\"Propiomazine\",\"Glucosamine\",\"L-asparagine\",\"Bimatoprost\",\"Selegiline\",\"Pyridoxal\",\"Thioproperazine\",\"Carmustine\",\"Phenindamine\",\"Meticillin\",\"Ceruletide\",\"Metixene\",\"Dicloxacillin\",\"Pentosan polysulfate\",\"Ticagrelor\",\"Tolazoline\",\"Fusidic acid\",\"Valrubicin\",\"Cefotiam\",\"Cefazolin\",\"Miconazole\",\"Diatrizoate\",\"Procyclidine\",\"Cefoperazone\",\"Hetacillin\",\"Tyloxapol\",\"Mivacurium\",\"Dimethyl sulfoxide\",\"Amrinone\",\"Butoconazole\",\"Terlipressin\",\"Pentagastrin\",\"Ceftazidime\",\"Tetrahydrofolic acid\",\"Suprofen\",\"Masoprocol\",\"Propericiazine\",\"Natamycin\",\"gadoteridol\",\"Demecarium\",\"Icatibant\",\"Hexobarbital\",\"Amdinocillin\",\"Antazoline\",\"Retapamulin\"],\"legendgroup\":\"Non-toxic\",\"marker\":{\"color\":\"#636efa\",\"symbol\":\"circle\"},\"mode\":\"markers\",\"name\":\"Non-toxic\",\"orientation\":\"v\",\"showlegend\":true,\"x\":[0,1,2,3,4,5,6,7,8,9,10,12,13,14,15,16,17,18,20,21,22,23,27,28,29,30,31,32,34,37,38,39,40,42,44,45,46,47,48,50,51,52,53,56,57,58,60,61,62,63,64,65,68,69,70,72,73,74,75,76,77,78,79,80,81,82,83,84,85,86,87,88,91,92,93,94,95,96,97,98,99,100,101,102,103,105,106,107,109,110,113,114,115,116,118,119,121,123,124,125,126,127,128,129,131,132,133,135,137,138,140,141,145,146,147,148,149,151,152,154,155,157,158,159,160,161,162,163,164,165,166,167,169,170,171,172,173,174,176,177,179,180,182,183,184,188,190,191,192,193,194,196,199,200,202,203,205,207,208,209,211,213,214,215,217,219,220,221,223,224,225,226,228,230,232,233,234,235,236,237,238,239,242,243,244,246,247,248,249,251,252,253,255,256,257,259,260,261,262,263,264,265,266,268,269,270,272,273],\"xaxis\":\"x\",\"y\":[290.217,498.297,438.338,376.269,396.321,208.132,118.071,70.027,1338.328,212.167,352.26,352.307,1450.644,1027.52,442.416,118.071,220.19,320.266,287.207,278.202,156.169,168.111,122.059,1060.836,500.384,352.307,592.235,1528.465,640.46,232.154,302.181,246.11,1066.67,118.075,498.294,164.119,444.369,112.04,266.264,1198.723,549.328,514.293,146.081,196.168,873.584,417.745,122.106,320.219,240.173,304.289,470.284,452.289,172.095,356.209,436.743,442.628,498.397,474.286,576.344,490.348,382.689,1505.836,868.498,458.287,494.435,72.023,114.105,1106.711,268.195,540.409,154.104,1004.726,258.215,282.237,356.295,316.3,450.262,358.27,146.128,208.179,460.41,454.41,190.09,434.298,204.166,130.082,469.331,382.339,320.219,452.242,464.373,434.324,302.224,456.38,176.134,589.264,264.268,765.784,296.06,304.289,358.274,248.196,144.089,453.719,190.137,364.275,338.257,236.189,268.187,439.793,488.447,366.57,308.161,411.323,134.07,170.035,180.122,718.506,512.438,138.127,212.12,202.152,483.754,562.344,558.496,1168.75,438.316,569.411,524.433,394.35,199.107,288.29,280.241,290.282,550.326,1644.007,102.076,272.218,180.075,1092.598,170.103,382.689,394.324,260.164,340.296,954.703,363.235,362.301,1160.845,120.067,406.314,333.273,476.362,392.307,160.934,568.317,152.116,122.063,196.373,448.364,831.06,134.117,314.235,316.3,166.068,124.055,378.278,170.15,158.092,416.402,204.98,242.216,360.262,1278.842,286.294,453.198,584.357,494.354,148.124,468.335,687.362,502.458,440.407,402.023,604.843,258.215,618.464,366.293,252.184,948.638,72.088,178.13,394.649,1152.803,718.514,524.411,422.252,248.218,280.194,342.318,618.357,529.458,504.376,1214.836,220.143,302.25,246.208,470.4],\"yaxis\":\"y\",\"type\":\"scatter\"},{\"hovertemplate\":\"<b>%{hovertext}</b><br><br>color=Ototoxic<br>x=%{x}<br>Weight=%{y}<extra></extra>\",\"hovertext\":[\"mefloquine\",\"deferoxamine\",\"Isradipine\",\"quercetin\",\"Pomiferin\",\"Rosolic acid\",\"Copper sulfate\",\"Hydrocodone\",\"Cyclosporine\",\"benzylpenicillin\",\"Neomycin\",\"2-Hyroxypropyl-beta-cyclodextrin\",\"Wedelolactone\",\"Dihydrostreptomycin\",\"Erythromycin\",\"Lopinavir\",\"chlorhexidine\",\"exjade\",\"vindesine\",\"Taxifolin\",\"Oxaliplatin\",\"Guaiazulene\",\"Gentamicin\",\"Quinine Sulfate\",\"Heroin\",\"Nimodipine\",\"Simvastatin\",\"Carboplatin\",\"Poly-L-lysine\",\"Staurosporine\",\"Chlorothiazide\",\"Dibekacin\",\"Homobutein\",\"toluene\",\"Lapatinib\",\"Imatinib\",\"Morin\",\"Capreomycin\",\"Remdesivir\",\"Propantheline bromide\",\"Ethacrynic acid\",\"Tobramycin\",\"Candesartan\",\"Chloroquine\",\"3,3'-iminodipropionitrile\",\"Deferoxamine\",\"vinblastine sulfate\",\"Vancomycin\",\"Vincamine\",\"salicylate\",\"Chloramphenicol\",\"amikacin\",\"nitrogen mustard\",\"Acetaminophen\",\"Kanamycin\",\"Chlortetracycline\",\"furosemide\",\"Sclerotiorin\",\"Clioquinol \",\"Pentamidine isethionate\",\"spermine\",\"bumetanide\",\"Ticarcillin\",\"Styrene\",\"trichloroethylene\",\"isorhamnetin\"],\"legendgroup\":\"Ototoxic\",\"marker\":{\"color\":\"#EF553B\",\"symbol\":\"circle\"},\"mode\":\"markers\",\"name\":\"Ototoxic\",\"orientation\":\"v\",\"showlegend\":true,\"x\":[11,19,24,25,26,33,35,36,41,43,49,54,55,59,66,67,71,89,90,104,108,111,112,117,120,122,130,134,136,139,142,143,144,150,153,156,168,175,178,181,185,186,187,189,195,197,198,201,204,206,210,212,216,218,222,227,229,231,240,241,245,250,254,258,267,271],\"xaxis\":\"x\",\"y\":[362.188,512.309,350.225,292.158,396.269,276.206,159.609,278.202,1090.747,316.253,568.282,912.366,304.169,542.268,666.401,580.43,475.218,358.248,698.501,292.158,383.176,180.165,434.259,396.295,346.233,392.238,380.27,359.154,132.078,440.333,289.681,414.225,272.171,84.077,554.861,462.367,292.158,1232.731,567.305,418.161,291.045,430.224,420.303,293.672,114.087,512.309,848.588,1373.671,328.242,132.074,311.036,542.264,144.968,142.093,448.215,455.701,319.661,367.679,300.462,556.405,176.138,344.263,368.307,96.088,130.381,304.169],\"yaxis\":\"y\",\"type\":\"scatter\"}],                        {\"template\":{\"data\":{\"bar\":[{\"error_x\":{\"color\":\"#2a3f5f\"},\"error_y\":{\"color\":\"#2a3f5f\"},\"marker\":{\"line\":{\"color\":\"#E5ECF6\",\"width\":0.5},\"pattern\":{\"fillmode\":\"overlay\",\"size\":10,\"solidity\":0.2}},\"type\":\"bar\"}],\"barpolar\":[{\"marker\":{\"line\":{\"color\":\"#E5ECF6\",\"width\":0.5},\"pattern\":{\"fillmode\":\"overlay\",\"size\":10,\"solidity\":0.2}},\"type\":\"barpolar\"}],\"carpet\":[{\"aaxis\":{\"endlinecolor\":\"#2a3f5f\",\"gridcolor\":\"white\",\"linecolor\":\"white\",\"minorgridcolor\":\"white\",\"startlinecolor\":\"#2a3f5f\"},\"baxis\":{\"endlinecolor\":\"#2a3f5f\",\"gridcolor\":\"white\",\"linecolor\":\"white\",\"minorgridcolor\":\"white\",\"startlinecolor\":\"#2a3f5f\"},\"type\":\"carpet\"}],\"choropleth\":[{\"colorbar\":{\"outlinewidth\":0,\"ticks\":\"\"},\"type\":\"choropleth\"}],\"contour\":[{\"colorbar\":{\"outlinewidth\":0,\"ticks\":\"\"},\"colorscale\":[[0.0,\"#0d0887\"],[0.1111111111111111,\"#46039f\"],[0.2222222222222222,\"#7201a8\"],[0.3333333333333333,\"#9c179e\"],[0.4444444444444444,\"#bd3786\"],[0.5555555555555556,\"#d8576b\"],[0.6666666666666666,\"#ed7953\"],[0.7777777777777778,\"#fb9f3a\"],[0.8888888888888888,\"#fdca26\"],[1.0,\"#f0f921\"]],\"type\":\"contour\"}],\"contourcarpet\":[{\"colorbar\":{\"outlinewidth\":0,\"ticks\":\"\"},\"type\":\"contourcarpet\"}],\"heatmap\":[{\"colorbar\":{\"outlinewidth\":0,\"ticks\":\"\"},\"colorscale\":[[0.0,\"#0d0887\"],[0.1111111111111111,\"#46039f\"],[0.2222222222222222,\"#7201a8\"],[0.3333333333333333,\"#9c179e\"],[0.4444444444444444,\"#bd3786\"],[0.5555555555555556,\"#d8576b\"],[0.6666666666666666,\"#ed7953\"],[0.7777777777777778,\"#fb9f3a\"],[0.8888888888888888,\"#fdca26\"],[1.0,\"#f0f921\"]],\"type\":\"heatmap\"}],\"heatmapgl\":[{\"colorbar\":{\"outlinewidth\":0,\"ticks\":\"\"},\"colorscale\":[[0.0,\"#0d0887\"],[0.1111111111111111,\"#46039f\"],[0.2222222222222222,\"#7201a8\"],[0.3333333333333333,\"#9c179e\"],[0.4444444444444444,\"#bd3786\"],[0.5555555555555556,\"#d8576b\"],[0.6666666666666666,\"#ed7953\"],[0.7777777777777778,\"#fb9f3a\"],[0.8888888888888888,\"#fdca26\"],[1.0,\"#f0f921\"]],\"type\":\"heatmapgl\"}],\"histogram\":[{\"marker\":{\"pattern\":{\"fillmode\":\"overlay\",\"size\":10,\"solidity\":0.2}},\"type\":\"histogram\"}],\"histogram2d\":[{\"colorbar\":{\"outlinewidth\":0,\"ticks\":\"\"},\"colorscale\":[[0.0,\"#0d0887\"],[0.1111111111111111,\"#46039f\"],[0.2222222222222222,\"#7201a8\"],[0.3333333333333333,\"#9c179e\"],[0.4444444444444444,\"#bd3786\"],[0.5555555555555556,\"#d8576b\"],[0.6666666666666666,\"#ed7953\"],[0.7777777777777778,\"#fb9f3a\"],[0.8888888888888888,\"#fdca26\"],[1.0,\"#f0f921\"]],\"type\":\"histogram2d\"}],\"histogram2dcontour\":[{\"colorbar\":{\"outlinewidth\":0,\"ticks\":\"\"},\"colorscale\":[[0.0,\"#0d0887\"],[0.1111111111111111,\"#46039f\"],[0.2222222222222222,\"#7201a8\"],[0.3333333333333333,\"#9c179e\"],[0.4444444444444444,\"#bd3786\"],[0.5555555555555556,\"#d8576b\"],[0.6666666666666666,\"#ed7953\"],[0.7777777777777778,\"#fb9f3a\"],[0.8888888888888888,\"#fdca26\"],[1.0,\"#f0f921\"]],\"type\":\"histogram2dcontour\"}],\"mesh3d\":[{\"colorbar\":{\"outlinewidth\":0,\"ticks\":\"\"},\"type\":\"mesh3d\"}],\"parcoords\":[{\"line\":{\"colorbar\":{\"outlinewidth\":0,\"ticks\":\"\"}},\"type\":\"parcoords\"}],\"pie\":[{\"automargin\":true,\"type\":\"pie\"}],\"scatter\":[{\"marker\":{\"colorbar\":{\"outlinewidth\":0,\"ticks\":\"\"}},\"type\":\"scatter\"}],\"scatter3d\":[{\"line\":{\"colorbar\":{\"outlinewidth\":0,\"ticks\":\"\"}},\"marker\":{\"colorbar\":{\"outlinewidth\":0,\"ticks\":\"\"}},\"type\":\"scatter3d\"}],\"scattercarpet\":[{\"marker\":{\"colorbar\":{\"outlinewidth\":0,\"ticks\":\"\"}},\"type\":\"scattercarpet\"}],\"scattergeo\":[{\"marker\":{\"colorbar\":{\"outlinewidth\":0,\"ticks\":\"\"}},\"type\":\"scattergeo\"}],\"scattergl\":[{\"marker\":{\"colorbar\":{\"outlinewidth\":0,\"ticks\":\"\"}},\"type\":\"scattergl\"}],\"scattermapbox\":[{\"marker\":{\"colorbar\":{\"outlinewidth\":0,\"ticks\":\"\"}},\"type\":\"scattermapbox\"}],\"scatterpolar\":[{\"marker\":{\"colorbar\":{\"outlinewidth\":0,\"ticks\":\"\"}},\"type\":\"scatterpolar\"}],\"scatterpolargl\":[{\"marker\":{\"colorbar\":{\"outlinewidth\":0,\"ticks\":\"\"}},\"type\":\"scatterpolargl\"}],\"scatterternary\":[{\"marker\":{\"colorbar\":{\"outlinewidth\":0,\"ticks\":\"\"}},\"type\":\"scatterternary\"}],\"surface\":[{\"colorbar\":{\"outlinewidth\":0,\"ticks\":\"\"},\"colorscale\":[[0.0,\"#0d0887\"],[0.1111111111111111,\"#46039f\"],[0.2222222222222222,\"#7201a8\"],[0.3333333333333333,\"#9c179e\"],[0.4444444444444444,\"#bd3786\"],[0.5555555555555556,\"#d8576b\"],[0.6666666666666666,\"#ed7953\"],[0.7777777777777778,\"#fb9f3a\"],[0.8888888888888888,\"#fdca26\"],[1.0,\"#f0f921\"]],\"type\":\"surface\"}],\"table\":[{\"cells\":{\"fill\":{\"color\":\"#EBF0F8\"},\"line\":{\"color\":\"white\"}},\"header\":{\"fill\":{\"color\":\"#C8D4E3\"},\"line\":{\"color\":\"white\"}},\"type\":\"table\"}]},\"layout\":{\"annotationdefaults\":{\"arrowcolor\":\"#2a3f5f\",\"arrowhead\":0,\"arrowwidth\":1},\"autotypenumbers\":\"strict\",\"coloraxis\":{\"colorbar\":{\"outlinewidth\":0,\"ticks\":\"\"}},\"colorscale\":{\"diverging\":[[0,\"#8e0152\"],[0.1,\"#c51b7d\"],[0.2,\"#de77ae\"],[0.3,\"#f1b6da\"],[0.4,\"#fde0ef\"],[0.5,\"#f7f7f7\"],[0.6,\"#e6f5d0\"],[0.7,\"#b8e186\"],[0.8,\"#7fbc41\"],[0.9,\"#4d9221\"],[1,\"#276419\"]],\"sequential\":[[0.0,\"#0d0887\"],[0.1111111111111111,\"#46039f\"],[0.2222222222222222,\"#7201a8\"],[0.3333333333333333,\"#9c179e\"],[0.4444444444444444,\"#bd3786\"],[0.5555555555555556,\"#d8576b\"],[0.6666666666666666,\"#ed7953\"],[0.7777777777777778,\"#fb9f3a\"],[0.8888888888888888,\"#fdca26\"],[1.0,\"#f0f921\"]],\"sequentialminus\":[[0.0,\"#0d0887\"],[0.1111111111111111,\"#46039f\"],[0.2222222222222222,\"#7201a8\"],[0.3333333333333333,\"#9c179e\"],[0.4444444444444444,\"#bd3786\"],[0.5555555555555556,\"#d8576b\"],[0.6666666666666666,\"#ed7953\"],[0.7777777777777778,\"#fb9f3a\"],[0.8888888888888888,\"#fdca26\"],[1.0,\"#f0f921\"]]},\"colorway\":[\"#636efa\",\"#EF553B\",\"#00cc96\",\"#ab63fa\",\"#FFA15A\",\"#19d3f3\",\"#FF6692\",\"#B6E880\",\"#FF97FF\",\"#FECB52\"],\"font\":{\"color\":\"#2a3f5f\"},\"geo\":{\"bgcolor\":\"white\",\"lakecolor\":\"white\",\"landcolor\":\"#E5ECF6\",\"showlakes\":true,\"showland\":true,\"subunitcolor\":\"white\"},\"hoverlabel\":{\"align\":\"left\"},\"hovermode\":\"closest\",\"mapbox\":{\"style\":\"light\"},\"paper_bgcolor\":\"white\",\"plot_bgcolor\":\"#E5ECF6\",\"polar\":{\"angularaxis\":{\"gridcolor\":\"white\",\"linecolor\":\"white\",\"ticks\":\"\"},\"bgcolor\":\"#E5ECF6\",\"radialaxis\":{\"gridcolor\":\"white\",\"linecolor\":\"white\",\"ticks\":\"\"}},\"scene\":{\"xaxis\":{\"backgroundcolor\":\"#E5ECF6\",\"gridcolor\":\"white\",\"gridwidth\":2,\"linecolor\":\"white\",\"showbackground\":true,\"ticks\":\"\",\"zerolinecolor\":\"white\"},\"yaxis\":{\"backgroundcolor\":\"#E5ECF6\",\"gridcolor\":\"white\",\"gridwidth\":2,\"linecolor\":\"white\",\"showbackground\":true,\"ticks\":\"\",\"zerolinecolor\":\"white\"},\"zaxis\":{\"backgroundcolor\":\"#E5ECF6\",\"gridcolor\":\"white\",\"gridwidth\":2,\"linecolor\":\"white\",\"showbackground\":true,\"ticks\":\"\",\"zerolinecolor\":\"white\"}},\"shapedefaults\":{\"line\":{\"color\":\"#2a3f5f\"}},\"ternary\":{\"aaxis\":{\"gridcolor\":\"white\",\"linecolor\":\"white\",\"ticks\":\"\"},\"baxis\":{\"gridcolor\":\"white\",\"linecolor\":\"white\",\"ticks\":\"\"},\"bgcolor\":\"#E5ECF6\",\"caxis\":{\"gridcolor\":\"white\",\"linecolor\":\"white\",\"ticks\":\"\"}},\"title\":{\"x\":0.05},\"xaxis\":{\"automargin\":true,\"gridcolor\":\"white\",\"linecolor\":\"white\",\"ticks\":\"\",\"title\":{\"standoff\":15},\"zerolinecolor\":\"white\",\"zerolinewidth\":2},\"yaxis\":{\"automargin\":true,\"gridcolor\":\"white\",\"linecolor\":\"white\",\"ticks\":\"\",\"title\":{\"standoff\":15},\"zerolinecolor\":\"white\",\"zerolinewidth\":2}}},\"xaxis\":{\"anchor\":\"y\",\"domain\":[0.0,1.0],\"title\":{\"text\":\"x\"}},\"yaxis\":{\"anchor\":\"x\",\"domain\":[0.0,1.0],\"title\":{\"text\":\"Weight\"}},\"legend\":{\"title\":{\"text\":\"color\"},\"tracegroupgap\":0},\"title\":{\"text\":\"Scatter plot of Weight feature as proxy for molecular size\"},\"height\":500,\"width\":700},                        {\"responsive\": true}                    ).then(function(){\n",
              "                            \n",
              "var gd = document.getElementById('8414a07e-71c3-45ab-8c2e-aba5958c34b4');\n",
              "var x = new MutationObserver(function (mutations, observer) {{\n",
              "        var display = window.getComputedStyle(gd).display;\n",
              "        if (!display || display === 'none') {{\n",
              "            console.log([gd, 'removed!']);\n",
              "            Plotly.purge(gd);\n",
              "            observer.disconnect();\n",
              "        }}\n",
              "}});\n",
              "\n",
              "// Listen for the removal of the full notebook cells\n",
              "var notebookContainer = gd.closest('#notebook-container');\n",
              "if (notebookContainer) {{\n",
              "    x.observe(notebookContainer, {childList: true});\n",
              "}}\n",
              "\n",
              "// Listen for the clearing of the current output cell\n",
              "var outputEl = gd.closest('.output');\n",
              "if (outputEl) {{\n",
              "    x.observe(outputEl, {childList: true});\n",
              "}}\n",
              "\n",
              "                        })                };                            </script>        </div>\n",
              "</body>\n",
              "</html>"
            ]
          },
          "metadata": {}
        },
        {
          "output_type": "display_data",
          "data": {
            "text/html": [
              "<html>\n",
              "<head><meta charset=\"utf-8\" /></head>\n",
              "<body>\n",
              "    <div>            <script src=\"https://cdnjs.cloudflare.com/ajax/libs/mathjax/2.7.5/MathJax.js?config=TeX-AMS-MML_SVG\"></script><script type=\"text/javascript\">if (window.MathJax) {MathJax.Hub.Config({SVG: {font: \"STIX-Web\"}});}</script>                <script type=\"text/javascript\">window.PlotlyConfig = {MathJaxConfig: 'local'};</script>\n",
              "        <script src=\"https://cdn.plot.ly/plotly-2.8.3.min.js\"></script>                <div id=\"f64e4a0e-ff9b-4b7d-8acd-57c466eb637d\" class=\"plotly-graph-div\" style=\"height:500px; width:700px;\"></div>            <script type=\"text/javascript\">                                    window.PLOTLYENV=window.PLOTLYENV || {};                                    if (document.getElementById(\"f64e4a0e-ff9b-4b7d-8acd-57c466eb637d\")) {                    Plotly.newPlot(                        \"f64e4a0e-ff9b-4b7d-8acd-57c466eb637d\",                        [{\"hovertemplate\":\"<b>%{hovertext}</b><br><br>color=Non-toxic<br>x=%{x}<br>nta=%{y}<extra></extra>\",\"hovertext\":[\"Saxagliptin\",\"Dutasteride\",\"Cefixime\",\"S-adenosylmethionine\",\"Ceftibuten\",\"Oxitriptan\",\"Niacin\",\"Acetohydroxamic acid\",\"Cetrorelix\",\"Tymazoline\",\"Chenodeoxycholic acid\",\"Ergocalciferol\",\"Liotrix\",\"Doxacurium chloride\",\"Pipotiazine\",\"Aminocaproic acid\",\"Decamethonium\",\"Isopropamide\",\"Sodium tetradecyl sulfate\",\"Dobutamine\",\"Ethionamide\",\"Phenacemide\",\"Aminolevulinic acid\",\"Vapreotide\",\"Vecuronium\",\"Dihydrotachysterol\",\"Fosaprepitant\",\"Degarelix\",\"Dalfopristin\",\"Heptabarbital\",\"Marimastat\",\"Voglibose\",\"Anidulafungin\",\"Pyrazinamide\",\"Daunorubicin\",\"Menadione\",\"Cefamandole\",\"Succinic acid\",\"Isothipendyl\",\"Micafungin\",\"Fosamprenavir\",\"Epirubicin\",\"Aminosalicylic acid\",\"Naphazoline\",\"Gadofosveset trisodium\",\"Cloxacillin\",\"Isometheptene\",\"Arformoterol\",\"Anisindione\",\"Methotrimeprazine\",\"Idarubicin\",\"Prednicarbate\",\"Azelaic acid\",\"Riboflavin\",\"Flucloxacillin\",\"Rimonabant\",\"Ceforanide\",\"Difluprednate\",\"Novobiocin\",\"Piperacillin\",\"Clobetasol\",\"Iodixanol\",\"Deslanoside\",\"Flumethasone pivalate\",\"Cefmenoxime\",\"Hydroxyurea\",\"L-cysteine\",\"Gonadorelin\",\"Levosimendan\",\"Pipecuronium\",\"Metaraminol\",\"Desmopressin\",\"Cycrimine\",\"Biperiden\",\"Alfacalcidol\",\"Lucanthone\",\"Leucovorin\",\"Meropenem\",\"Pargyline\",\"Pentolinium\",\"Hexafluronium\",\"Cefmetazole\",\"Miglitol\",\"Hydrocortamate\",\"Sulfacetamide\",\"Salicylamide\",\"Fluticasone propionate\",\"Acetophenazine\",\"Formoterol\",\"Cromoglicic acid\",\"Ixabepilone\",\"Pivampicillin\",\"Ethanolamine oleate\",\"Cefepime\",\"Antipyrine\",\"Saprisartan\",\"Promazine\",\"Levothyroxine\",\"Erythrityl tetranitrate\",\"Acepromazine\",\"Azidocillin\",\"Alpha-linolenic acid\",\"Bethanechol\",\"Halobetasol propionate\",\"Ciclopirox\",\"Ivacaftor\",\"Norgestimate\",\"Oxymetazoline\",\"Procaterol\",\"Sitaxentan\",\"Cefditoren\",\"Econazole\",\"Spectinomycin\",\"Fluphenazine\",\"Methyl aminolevulinate\",\"Isoflurophate\",\"Ethambutol\",\"Trabectedin\",\"Xanthophyll\",\"L-methionine\",\"Carbidopa\",\"Milrinone\",\"Beclometasone dipropionate\",\"Antrafenine\",\"Cefotetan\",\"Dactinomycin\",\"Azlocillin\",\"Tipranavir\",\"Cefonicid\",\"Carphenazine\",\"Amifostine\",\"Ethopropazine\",\"Docosanol\",\"Tolnaftate\",\"Benzonatate\",\"Colistimethate\",\"Betazole\",\"Gamma-homolinolenic acid\",\"Carglumic acid\",\"Enoxaparin\",\"Levonordefrin\",\"Clocortolone\",\"Mifepristone\",\"Succinylcholine\",\"Cholecalciferol\",\"Quinupristin\",\"Dexamethasone\",\"Diphemanil methylsulfate\",\"Cisatracurium besylate\",\"L-ornithine\",\"Pivmecillinam\",\"Triflupromazine\",\"Rocuronium\",\"Nafcillin\",\"Methoxyflurane\",\"Picrotoxin\",\"Hydralazine\",\"Creatine\",\"Halothane\",\"Plerixafor\",\"Gallamine triethiodide\",\"Propylhexedrine\",\"Methantheline\",\"Propiomazine\",\"Glucosamine\",\"L-asparagine\",\"Bimatoprost\",\"Selegiline\",\"Pyridoxal\",\"Thioproperazine\",\"Carmustine\",\"Phenindamine\",\"Meticillin\",\"Ceruletide\",\"Metixene\",\"Dicloxacillin\",\"Pentosan polysulfate\",\"Ticagrelor\",\"Tolazoline\",\"Fusidic acid\",\"Valrubicin\",\"Cefotiam\",\"Cefazolin\",\"Miconazole\",\"Diatrizoate\",\"Procyclidine\",\"Cefoperazone\",\"Hetacillin\",\"Tyloxapol\",\"Mivacurium\",\"Dimethyl sulfoxide\",\"Amrinone\",\"Butoconazole\",\"Terlipressin\",\"Pentagastrin\",\"Ceftazidime\",\"Tetrahydrofolic acid\",\"Suprofen\",\"Masoprocol\",\"Propericiazine\",\"Natamycin\",\"gadoteridol\",\"Demecarium\",\"Icatibant\",\"Hexobarbital\",\"Amdinocillin\",\"Antazoline\",\"Retapamulin\"],\"legendgroup\":\"Non-toxic\",\"marker\":{\"color\":\"#636efa\",\"symbol\":\"circle\"},\"mode\":\"markers\",\"name\":\"Non-toxic\",\"orientation\":\"v\",\"showlegend\":true,\"x\":[0,1,2,3,4,5,6,7,8,9,10,12,13,14,15,16,17,18,20,21,22,23,27,28,29,30,31,32,34,37,38,39,40,42,44,45,46,47,48,50,51,52,53,56,57,58,60,61,62,63,64,65,68,69,70,72,73,74,75,76,77,78,79,80,81,82,83,84,85,86,87,88,91,92,93,94,95,96,97,98,99,100,101,102,103,105,106,107,109,110,113,114,115,116,118,119,121,123,124,125,126,127,128,129,131,132,133,135,137,138,140,141,145,146,147,148,149,151,152,154,155,157,158,159,160,161,162,163,164,165,166,167,169,170,171,172,173,174,176,177,179,180,182,183,184,188,190,191,192,193,194,196,199,200,202,203,205,207,208,209,211,213,214,215,217,219,220,221,223,224,225,226,228,230,232,233,234,235,236,237,238,239,242,243,244,246,247,248,249,251,252,253,255,256,257,259,260,261,262,263,264,265,266,268,269,270,272,273],\"xaxis\":\"x\",\"y\":[48,67,45,49,41,28,14,10,194,37,68,73,70,154,65,22,56,59,49,45,21,23,18,150,97,75,63,220,98,36,52,39,155,14,67,21,49,14,39,160,75,68,18,30,91,47,29,49,31,47,63,71,29,47,47,51,56,70,80,63,56,106,140,71,50,9,14,160,33,105,25,138,50,52,73,48,57,51,25,49,80,47,31,75,24,17,65,58,49,50,77,61,65,56,26,60,40,35,26,45,43,50,28,64,32,57,58,43,43,44,51,39,47,56,21,25,38,97,98,20,30,25,73,68,53,176,55,75,53,61,27,46,69,39,95,217,17,56,23,112,26,56,67,50,72,140,57,54,169,21,63,43,91,51,12,77,20,18,8,90,99,32,51,48,25,17,67,31,21,60,21,39,46,167,45,47,53,64,24,85,87,57,43,39,29,50,71,50,48,154,10,23,42,159,103,59,55,30,44,49,94,58,92,181,33,45,39,83],\"yaxis\":\"y\",\"type\":\"scatter\"},{\"hovertemplate\":\"<b>%{hovertext}</b><br><br>color=Ototoxic<br>x=%{x}<br>nta=%{y}<extra></extra>\",\"hovertext\":[\"mefloquine\",\"deferoxamine\",\"Isradipine\",\"quercetin\",\"Pomiferin\",\"Rosolic acid\",\"Copper sulfate\",\"Hydrocodone\",\"Cyclosporine\",\"benzylpenicillin\",\"Neomycin\",\"2-Hyroxypropyl-beta-cyclodextrin\",\"Wedelolactone\",\"Dihydrostreptomycin\",\"Erythromycin\",\"Lopinavir\",\"chlorhexidine\",\"exjade\",\"vindesine\",\"Taxifolin\",\"Oxaliplatin\",\"Guaiazulene\",\"Gentamicin\",\"Quinine Sulfate\",\"Heroin\",\"Nimodipine\",\"Simvastatin\",\"Carboplatin\",\"Poly-L-lysine\",\"Staurosporine\",\"Chlorothiazide\",\"Dibekacin\",\"Homobutein\",\"toluene\",\"Lapatinib\",\"Imatinib\",\"Morin\",\"Capreomycin\",\"Remdesivir\",\"Propantheline bromide\",\"Ethacrynic acid\",\"Tobramycin\",\"Candesartan\",\"Chloroquine\",\"3,3'-iminodipropionitrile\",\"Deferoxamine\",\"vinblastine sulfate\",\"Vancomycin\",\"Vincamine\",\"salicylate\",\"Chloramphenicol\",\"amikacin\",\"nitrogen mustard\",\"Acetaminophen\",\"Kanamycin\",\"Chlortetracycline\",\"furosemide\",\"Sclerotiorin\",\"Clioquinol \",\"Pentamidine isethionate\",\"spermine\",\"bumetanide\",\"Ticarcillin\",\"Styrene\",\"trichloroethylene\",\"isorhamnetin\"],\"legendgroup\":\"Ototoxic\",\"marker\":{\"color\":\"#EF553B\",\"symbol\":\"circle\"},\"mode\":\"markers\",\"name\":\"Ototoxic\",\"orientation\":\"v\",\"showlegend\":true,\"x\":[11,19,24,25,26,33,35,36,41,43,49,54,55,59,66,67,71,89,90,104,108,111,112,117,120,122,130,134,136,139,142,143,144,150,153,156,168,175,178,181,185,186,187,189,195,197,198,201,204,206,210,212,216,218,222,227,229,231,240,241,245,250,254,258,267,271],\"xaxis\":\"x\",\"y\":[42,87,48,32,55,36,6,43,196,41,88,126,33,81,118,94,64,43,110,34,27,33,76,55,50,56,68,25,24,61,23,68,35,15,66,68,32,181,77,58,31,69,53,48,18,87,124,176,52,15,32,83,19,20,69,56,32,50,18,75,40,45,41,16,6,35],\"yaxis\":\"y\",\"type\":\"scatter\"}],                        {\"template\":{\"data\":{\"bar\":[{\"error_x\":{\"color\":\"#2a3f5f\"},\"error_y\":{\"color\":\"#2a3f5f\"},\"marker\":{\"line\":{\"color\":\"#E5ECF6\",\"width\":0.5},\"pattern\":{\"fillmode\":\"overlay\",\"size\":10,\"solidity\":0.2}},\"type\":\"bar\"}],\"barpolar\":[{\"marker\":{\"line\":{\"color\":\"#E5ECF6\",\"width\":0.5},\"pattern\":{\"fillmode\":\"overlay\",\"size\":10,\"solidity\":0.2}},\"type\":\"barpolar\"}],\"carpet\":[{\"aaxis\":{\"endlinecolor\":\"#2a3f5f\",\"gridcolor\":\"white\",\"linecolor\":\"white\",\"minorgridcolor\":\"white\",\"startlinecolor\":\"#2a3f5f\"},\"baxis\":{\"endlinecolor\":\"#2a3f5f\",\"gridcolor\":\"white\",\"linecolor\":\"white\",\"minorgridcolor\":\"white\",\"startlinecolor\":\"#2a3f5f\"},\"type\":\"carpet\"}],\"choropleth\":[{\"colorbar\":{\"outlinewidth\":0,\"ticks\":\"\"},\"type\":\"choropleth\"}],\"contour\":[{\"colorbar\":{\"outlinewidth\":0,\"ticks\":\"\"},\"colorscale\":[[0.0,\"#0d0887\"],[0.1111111111111111,\"#46039f\"],[0.2222222222222222,\"#7201a8\"],[0.3333333333333333,\"#9c179e\"],[0.4444444444444444,\"#bd3786\"],[0.5555555555555556,\"#d8576b\"],[0.6666666666666666,\"#ed7953\"],[0.7777777777777778,\"#fb9f3a\"],[0.8888888888888888,\"#fdca26\"],[1.0,\"#f0f921\"]],\"type\":\"contour\"}],\"contourcarpet\":[{\"colorbar\":{\"outlinewidth\":0,\"ticks\":\"\"},\"type\":\"contourcarpet\"}],\"heatmap\":[{\"colorbar\":{\"outlinewidth\":0,\"ticks\":\"\"},\"colorscale\":[[0.0,\"#0d0887\"],[0.1111111111111111,\"#46039f\"],[0.2222222222222222,\"#7201a8\"],[0.3333333333333333,\"#9c179e\"],[0.4444444444444444,\"#bd3786\"],[0.5555555555555556,\"#d8576b\"],[0.6666666666666666,\"#ed7953\"],[0.7777777777777778,\"#fb9f3a\"],[0.8888888888888888,\"#fdca26\"],[1.0,\"#f0f921\"]],\"type\":\"heatmap\"}],\"heatmapgl\":[{\"colorbar\":{\"outlinewidth\":0,\"ticks\":\"\"},\"colorscale\":[[0.0,\"#0d0887\"],[0.1111111111111111,\"#46039f\"],[0.2222222222222222,\"#7201a8\"],[0.3333333333333333,\"#9c179e\"],[0.4444444444444444,\"#bd3786\"],[0.5555555555555556,\"#d8576b\"],[0.6666666666666666,\"#ed7953\"],[0.7777777777777778,\"#fb9f3a\"],[0.8888888888888888,\"#fdca26\"],[1.0,\"#f0f921\"]],\"type\":\"heatmapgl\"}],\"histogram\":[{\"marker\":{\"pattern\":{\"fillmode\":\"overlay\",\"size\":10,\"solidity\":0.2}},\"type\":\"histogram\"}],\"histogram2d\":[{\"colorbar\":{\"outlinewidth\":0,\"ticks\":\"\"},\"colorscale\":[[0.0,\"#0d0887\"],[0.1111111111111111,\"#46039f\"],[0.2222222222222222,\"#7201a8\"],[0.3333333333333333,\"#9c179e\"],[0.4444444444444444,\"#bd3786\"],[0.5555555555555556,\"#d8576b\"],[0.6666666666666666,\"#ed7953\"],[0.7777777777777778,\"#fb9f3a\"],[0.8888888888888888,\"#fdca26\"],[1.0,\"#f0f921\"]],\"type\":\"histogram2d\"}],\"histogram2dcontour\":[{\"colorbar\":{\"outlinewidth\":0,\"ticks\":\"\"},\"colorscale\":[[0.0,\"#0d0887\"],[0.1111111111111111,\"#46039f\"],[0.2222222222222222,\"#7201a8\"],[0.3333333333333333,\"#9c179e\"],[0.4444444444444444,\"#bd3786\"],[0.5555555555555556,\"#d8576b\"],[0.6666666666666666,\"#ed7953\"],[0.7777777777777778,\"#fb9f3a\"],[0.8888888888888888,\"#fdca26\"],[1.0,\"#f0f921\"]],\"type\":\"histogram2dcontour\"}],\"mesh3d\":[{\"colorbar\":{\"outlinewidth\":0,\"ticks\":\"\"},\"type\":\"mesh3d\"}],\"parcoords\":[{\"line\":{\"colorbar\":{\"outlinewidth\":0,\"ticks\":\"\"}},\"type\":\"parcoords\"}],\"pie\":[{\"automargin\":true,\"type\":\"pie\"}],\"scatter\":[{\"marker\":{\"colorbar\":{\"outlinewidth\":0,\"ticks\":\"\"}},\"type\":\"scatter\"}],\"scatter3d\":[{\"line\":{\"colorbar\":{\"outlinewidth\":0,\"ticks\":\"\"}},\"marker\":{\"colorbar\":{\"outlinewidth\":0,\"ticks\":\"\"}},\"type\":\"scatter3d\"}],\"scattercarpet\":[{\"marker\":{\"colorbar\":{\"outlinewidth\":0,\"ticks\":\"\"}},\"type\":\"scattercarpet\"}],\"scattergeo\":[{\"marker\":{\"colorbar\":{\"outlinewidth\":0,\"ticks\":\"\"}},\"type\":\"scattergeo\"}],\"scattergl\":[{\"marker\":{\"colorbar\":{\"outlinewidth\":0,\"ticks\":\"\"}},\"type\":\"scattergl\"}],\"scattermapbox\":[{\"marker\":{\"colorbar\":{\"outlinewidth\":0,\"ticks\":\"\"}},\"type\":\"scattermapbox\"}],\"scatterpolar\":[{\"marker\":{\"colorbar\":{\"outlinewidth\":0,\"ticks\":\"\"}},\"type\":\"scatterpolar\"}],\"scatterpolargl\":[{\"marker\":{\"colorbar\":{\"outlinewidth\":0,\"ticks\":\"\"}},\"type\":\"scatterpolargl\"}],\"scatterternary\":[{\"marker\":{\"colorbar\":{\"outlinewidth\":0,\"ticks\":\"\"}},\"type\":\"scatterternary\"}],\"surface\":[{\"colorbar\":{\"outlinewidth\":0,\"ticks\":\"\"},\"colorscale\":[[0.0,\"#0d0887\"],[0.1111111111111111,\"#46039f\"],[0.2222222222222222,\"#7201a8\"],[0.3333333333333333,\"#9c179e\"],[0.4444444444444444,\"#bd3786\"],[0.5555555555555556,\"#d8576b\"],[0.6666666666666666,\"#ed7953\"],[0.7777777777777778,\"#fb9f3a\"],[0.8888888888888888,\"#fdca26\"],[1.0,\"#f0f921\"]],\"type\":\"surface\"}],\"table\":[{\"cells\":{\"fill\":{\"color\":\"#EBF0F8\"},\"line\":{\"color\":\"white\"}},\"header\":{\"fill\":{\"color\":\"#C8D4E3\"},\"line\":{\"color\":\"white\"}},\"type\":\"table\"}]},\"layout\":{\"annotationdefaults\":{\"arrowcolor\":\"#2a3f5f\",\"arrowhead\":0,\"arrowwidth\":1},\"autotypenumbers\":\"strict\",\"coloraxis\":{\"colorbar\":{\"outlinewidth\":0,\"ticks\":\"\"}},\"colorscale\":{\"diverging\":[[0,\"#8e0152\"],[0.1,\"#c51b7d\"],[0.2,\"#de77ae\"],[0.3,\"#f1b6da\"],[0.4,\"#fde0ef\"],[0.5,\"#f7f7f7\"],[0.6,\"#e6f5d0\"],[0.7,\"#b8e186\"],[0.8,\"#7fbc41\"],[0.9,\"#4d9221\"],[1,\"#276419\"]],\"sequential\":[[0.0,\"#0d0887\"],[0.1111111111111111,\"#46039f\"],[0.2222222222222222,\"#7201a8\"],[0.3333333333333333,\"#9c179e\"],[0.4444444444444444,\"#bd3786\"],[0.5555555555555556,\"#d8576b\"],[0.6666666666666666,\"#ed7953\"],[0.7777777777777778,\"#fb9f3a\"],[0.8888888888888888,\"#fdca26\"],[1.0,\"#f0f921\"]],\"sequentialminus\":[[0.0,\"#0d0887\"],[0.1111111111111111,\"#46039f\"],[0.2222222222222222,\"#7201a8\"],[0.3333333333333333,\"#9c179e\"],[0.4444444444444444,\"#bd3786\"],[0.5555555555555556,\"#d8576b\"],[0.6666666666666666,\"#ed7953\"],[0.7777777777777778,\"#fb9f3a\"],[0.8888888888888888,\"#fdca26\"],[1.0,\"#f0f921\"]]},\"colorway\":[\"#636efa\",\"#EF553B\",\"#00cc96\",\"#ab63fa\",\"#FFA15A\",\"#19d3f3\",\"#FF6692\",\"#B6E880\",\"#FF97FF\",\"#FECB52\"],\"font\":{\"color\":\"#2a3f5f\"},\"geo\":{\"bgcolor\":\"white\",\"lakecolor\":\"white\",\"landcolor\":\"#E5ECF6\",\"showlakes\":true,\"showland\":true,\"subunitcolor\":\"white\"},\"hoverlabel\":{\"align\":\"left\"},\"hovermode\":\"closest\",\"mapbox\":{\"style\":\"light\"},\"paper_bgcolor\":\"white\",\"plot_bgcolor\":\"#E5ECF6\",\"polar\":{\"angularaxis\":{\"gridcolor\":\"white\",\"linecolor\":\"white\",\"ticks\":\"\"},\"bgcolor\":\"#E5ECF6\",\"radialaxis\":{\"gridcolor\":\"white\",\"linecolor\":\"white\",\"ticks\":\"\"}},\"scene\":{\"xaxis\":{\"backgroundcolor\":\"#E5ECF6\",\"gridcolor\":\"white\",\"gridwidth\":2,\"linecolor\":\"white\",\"showbackground\":true,\"ticks\":\"\",\"zerolinecolor\":\"white\"},\"yaxis\":{\"backgroundcolor\":\"#E5ECF6\",\"gridcolor\":\"white\",\"gridwidth\":2,\"linecolor\":\"white\",\"showbackground\":true,\"ticks\":\"\",\"zerolinecolor\":\"white\"},\"zaxis\":{\"backgroundcolor\":\"#E5ECF6\",\"gridcolor\":\"white\",\"gridwidth\":2,\"linecolor\":\"white\",\"showbackground\":true,\"ticks\":\"\",\"zerolinecolor\":\"white\"}},\"shapedefaults\":{\"line\":{\"color\":\"#2a3f5f\"}},\"ternary\":{\"aaxis\":{\"gridcolor\":\"white\",\"linecolor\":\"white\",\"ticks\":\"\"},\"baxis\":{\"gridcolor\":\"white\",\"linecolor\":\"white\",\"ticks\":\"\"},\"bgcolor\":\"#E5ECF6\",\"caxis\":{\"gridcolor\":\"white\",\"linecolor\":\"white\",\"ticks\":\"\"}},\"title\":{\"x\":0.05},\"xaxis\":{\"automargin\":true,\"gridcolor\":\"white\",\"linecolor\":\"white\",\"ticks\":\"\",\"title\":{\"standoff\":15},\"zerolinecolor\":\"white\",\"zerolinewidth\":2},\"yaxis\":{\"automargin\":true,\"gridcolor\":\"white\",\"linecolor\":\"white\",\"ticks\":\"\",\"title\":{\"standoff\":15},\"zerolinecolor\":\"white\",\"zerolinewidth\":2}}},\"xaxis\":{\"anchor\":\"y\",\"domain\":[0.0,1.0],\"title\":{\"text\":\"x\"}},\"yaxis\":{\"anchor\":\"x\",\"domain\":[0.0,1.0],\"title\":{\"text\":\"nta\"}},\"legend\":{\"title\":{\"text\":\"color\"},\"tracegroupgap\":0},\"title\":{\"text\":\"Scatter plot of nta feature as proxy for molecular size\"},\"height\":500,\"width\":700},                        {\"responsive\": true}                    ).then(function(){\n",
              "                            \n",
              "var gd = document.getElementById('f64e4a0e-ff9b-4b7d-8acd-57c466eb637d');\n",
              "var x = new MutationObserver(function (mutations, observer) {{\n",
              "        var display = window.getComputedStyle(gd).display;\n",
              "        if (!display || display === 'none') {{\n",
              "            console.log([gd, 'removed!']);\n",
              "            Plotly.purge(gd);\n",
              "            observer.disconnect();\n",
              "        }}\n",
              "}});\n",
              "\n",
              "// Listen for the removal of the full notebook cells\n",
              "var notebookContainer = gd.closest('#notebook-container');\n",
              "if (notebookContainer) {{\n",
              "    x.observe(notebookContainer, {childList: true});\n",
              "}}\n",
              "\n",
              "// Listen for the clearing of the current output cell\n",
              "var outputEl = gd.closest('.output');\n",
              "if (outputEl) {{\n",
              "    x.observe(outputEl, {childList: true});\n",
              "}}\n",
              "\n",
              "                        })                };                            </script>        </div>\n",
              "</body>\n",
              "</html>"
            ]
          },
          "metadata": {}
        },
        {
          "output_type": "display_data",
          "data": {
            "text/html": [
              "<html>\n",
              "<head><meta charset=\"utf-8\" /></head>\n",
              "<body>\n",
              "    <div>            <script src=\"https://cdnjs.cloudflare.com/ajax/libs/mathjax/2.7.5/MathJax.js?config=TeX-AMS-MML_SVG\"></script><script type=\"text/javascript\">if (window.MathJax) {MathJax.Hub.Config({SVG: {font: \"STIX-Web\"}});}</script>                <script type=\"text/javascript\">window.PlotlyConfig = {MathJaxConfig: 'local'};</script>\n",
              "        <script src=\"https://cdn.plot.ly/plotly-2.8.3.min.js\"></script>                <div id=\"41466789-d1b7-42f8-8867-07d38f430aaa\" class=\"plotly-graph-div\" style=\"height:500px; width:700px;\"></div>            <script type=\"text/javascript\">                                    window.PLOTLYENV=window.PLOTLYENV || {};                                    if (document.getElementById(\"41466789-d1b7-42f8-8867-07d38f430aaa\")) {                    Plotly.newPlot(                        \"41466789-d1b7-42f8-8867-07d38f430aaa\",                        [{\"hovertemplate\":\"<b>%{hovertext}</b><br><br>color=Non-toxic<br>x=%{x}<br>noxy=%{y}<extra></extra>\",\"hovertext\":[\"Saxagliptin\",\"Dutasteride\",\"Cefixime\",\"S-adenosylmethionine\",\"Ceftibuten\",\"Oxitriptan\",\"Niacin\",\"Acetohydroxamic acid\",\"Cetrorelix\",\"Tymazoline\",\"Chenodeoxycholic acid\",\"Ergocalciferol\",\"Liotrix\",\"Doxacurium chloride\",\"Pipotiazine\",\"Aminocaproic acid\",\"Decamethonium\",\"Isopropamide\",\"Sodium tetradecyl sulfate\",\"Dobutamine\",\"Ethionamide\",\"Phenacemide\",\"Aminolevulinic acid\",\"Vapreotide\",\"Vecuronium\",\"Dihydrotachysterol\",\"Fosaprepitant\",\"Degarelix\",\"Dalfopristin\",\"Heptabarbital\",\"Marimastat\",\"Voglibose\",\"Anidulafungin\",\"Pyrazinamide\",\"Daunorubicin\",\"Menadione\",\"Cefamandole\",\"Succinic acid\",\"Isothipendyl\",\"Micafungin\",\"Fosamprenavir\",\"Epirubicin\",\"Aminosalicylic acid\",\"Naphazoline\",\"Gadofosveset trisodium\",\"Cloxacillin\",\"Isometheptene\",\"Arformoterol\",\"Anisindione\",\"Methotrimeprazine\",\"Idarubicin\",\"Prednicarbate\",\"Azelaic acid\",\"Riboflavin\",\"Flucloxacillin\",\"Rimonabant\",\"Ceforanide\",\"Difluprednate\",\"Novobiocin\",\"Piperacillin\",\"Clobetasol\",\"Iodixanol\",\"Deslanoside\",\"Flumethasone pivalate\",\"Cefmenoxime\",\"Hydroxyurea\",\"L-cysteine\",\"Gonadorelin\",\"Levosimendan\",\"Pipecuronium\",\"Metaraminol\",\"Desmopressin\",\"Cycrimine\",\"Biperiden\",\"Alfacalcidol\",\"Lucanthone\",\"Leucovorin\",\"Meropenem\",\"Pargyline\",\"Pentolinium\",\"Hexafluronium\",\"Cefmetazole\",\"Miglitol\",\"Hydrocortamate\",\"Sulfacetamide\",\"Salicylamide\",\"Fluticasone propionate\",\"Acetophenazine\",\"Formoterol\",\"Cromoglicic acid\",\"Ixabepilone\",\"Pivampicillin\",\"Ethanolamine oleate\",\"Cefepime\",\"Antipyrine\",\"Saprisartan\",\"Promazine\",\"Levothyroxine\",\"Erythrityl tetranitrate\",\"Acepromazine\",\"Azidocillin\",\"Alpha-linolenic acid\",\"Bethanechol\",\"Halobetasol propionate\",\"Ciclopirox\",\"Ivacaftor\",\"Norgestimate\",\"Oxymetazoline\",\"Procaterol\",\"Sitaxentan\",\"Cefditoren\",\"Econazole\",\"Spectinomycin\",\"Fluphenazine\",\"Methyl aminolevulinate\",\"Isoflurophate\",\"Ethambutol\",\"Trabectedin\",\"Xanthophyll\",\"L-methionine\",\"Carbidopa\",\"Milrinone\",\"Beclometasone dipropionate\",\"Antrafenine\",\"Cefotetan\",\"Dactinomycin\",\"Azlocillin\",\"Tipranavir\",\"Cefonicid\",\"Carphenazine\",\"Amifostine\",\"Ethopropazine\",\"Docosanol\",\"Tolnaftate\",\"Benzonatate\",\"Colistimethate\",\"Betazole\",\"Gamma-homolinolenic acid\",\"Carglumic acid\",\"Enoxaparin\",\"Levonordefrin\",\"Clocortolone\",\"Mifepristone\",\"Succinylcholine\",\"Cholecalciferol\",\"Quinupristin\",\"Dexamethasone\",\"Diphemanil methylsulfate\",\"Cisatracurium besylate\",\"L-ornithine\",\"Pivmecillinam\",\"Triflupromazine\",\"Rocuronium\",\"Nafcillin\",\"Methoxyflurane\",\"Picrotoxin\",\"Hydralazine\",\"Creatine\",\"Halothane\",\"Plerixafor\",\"Gallamine triethiodide\",\"Propylhexedrine\",\"Methantheline\",\"Propiomazine\",\"Glucosamine\",\"L-asparagine\",\"Bimatoprost\",\"Selegiline\",\"Pyridoxal\",\"Thioproperazine\",\"Carmustine\",\"Phenindamine\",\"Meticillin\",\"Ceruletide\",\"Metixene\",\"Dicloxacillin\",\"Pentosan polysulfate\",\"Ticagrelor\",\"Tolazoline\",\"Fusidic acid\",\"Valrubicin\",\"Cefotiam\",\"Cefazolin\",\"Miconazole\",\"Diatrizoate\",\"Procyclidine\",\"Cefoperazone\",\"Hetacillin\",\"Tyloxapol\",\"Mivacurium\",\"Dimethyl sulfoxide\",\"Amrinone\",\"Butoconazole\",\"Terlipressin\",\"Pentagastrin\",\"Ceftazidime\",\"Tetrahydrofolic acid\",\"Suprofen\",\"Masoprocol\",\"Propericiazine\",\"Natamycin\",\"gadoteridol\",\"Demecarium\",\"Icatibant\",\"Hexobarbital\",\"Amdinocillin\",\"Antazoline\",\"Retapamulin\"],\"legendgroup\":\"Non-toxic\",\"marker\":{\"color\":\"#636efa\",\"symbol\":\"circle\"},\"mode\":\"markers\",\"name\":\"Non-toxic\",\"orientation\":\"v\",\"showlegend\":true,\"x\":[0,1,2,3,4,5,6,7,8,9,10,12,13,14,15,16,17,18,20,21,22,23,27,28,29,30,31,32,34,37,38,39,40,42,44,45,46,47,48,50,51,52,53,56,57,58,60,61,62,63,64,65,68,69,70,72,73,74,75,76,77,78,79,80,81,82,83,84,85,86,87,88,91,92,93,94,95,96,97,98,99,100,101,102,103,105,106,107,109,110,113,114,115,116,118,119,121,123,124,125,126,127,128,129,131,132,133,135,137,138,140,141,145,146,147,148,149,151,152,154,155,157,158,159,160,161,162,163,164,165,166,167,169,170,171,172,173,174,176,177,179,180,182,183,184,188,190,191,192,193,194,196,199,200,202,203,205,207,208,209,211,213,214,215,217,219,220,221,223,224,225,226,228,230,232,233,234,235,236,237,238,239,242,243,244,246,247,248,249,251,252,253,255,256,257,259,260,261,262,263,264,265,266,268,269,270,272,273],\"xaxis\":\"x\",\"y\":[2,2,7,5,6,3,2,2,14,1,4,1,8,16,3,2,0,1,4,3,0,2,3,9,4,1,6,16,9,3,5,7,17,1,10,2,5,4,0,23,9,11,3,0,14,5,0,4,3,1,9,8,4,6,5,1,6,7,11,7,4,15,19,6,5,2,2,13,1,4,2,12,1,1,2,1,7,5,0,0,0,5,5,6,3,2,5,2,4,11,5,6,3,5,1,4,0,4,12,1,4,2,2,5,2,3,3,1,3,6,5,1,7,1,3,3,2,11,2,2,4,1,7,2,8,16,6,5,8,2,3,0,1,1,11,28,0,2,5,37,3,4,2,4,1,10,5,4,18,2,5,0,4,5,1,13,0,2,0,0,3,0,3,1,5,3,4,0,3,2,2,0,6,21,0,5,21,4,0,6,13,4,4,1,4,1,8,4,3,14,1,1,0,15,9,7,6,3,4,1,13,7,4,13,3,3,0,4],\"yaxis\":\"y\",\"type\":\"scatter\"},{\"hovertemplate\":\"<b>%{hovertext}</b><br><br>color=Ototoxic<br>x=%{x}<br>noxy=%{y}<extra></extra>\",\"hovertext\":[\"mefloquine\",\"deferoxamine\",\"Isradipine\",\"quercetin\",\"Pomiferin\",\"Rosolic acid\",\"Copper sulfate\",\"Hydrocodone\",\"Cyclosporine\",\"benzylpenicillin\",\"Neomycin\",\"2-Hyroxypropyl-beta-cyclodextrin\",\"Wedelolactone\",\"Dihydrostreptomycin\",\"Erythromycin\",\"Lopinavir\",\"chlorhexidine\",\"exjade\",\"vindesine\",\"Taxifolin\",\"Oxaliplatin\",\"Guaiazulene\",\"Gentamicin\",\"Quinine Sulfate\",\"Heroin\",\"Nimodipine\",\"Simvastatin\",\"Carboplatin\",\"Poly-L-lysine\",\"Staurosporine\",\"Chlorothiazide\",\"Dibekacin\",\"Homobutein\",\"toluene\",\"Lapatinib\",\"Imatinib\",\"Morin\",\"Capreomycin\",\"Remdesivir\",\"Propantheline bromide\",\"Ethacrynic acid\",\"Tobramycin\",\"Candesartan\",\"Chloroquine\",\"3,3'-iminodipropionitrile\",\"Deferoxamine\",\"vinblastine sulfate\",\"Vancomycin\",\"Vincamine\",\"salicylate\",\"Chloramphenicol\",\"amikacin\",\"nitrogen mustard\",\"Acetaminophen\",\"Kanamycin\",\"Chlortetracycline\",\"furosemide\",\"Sclerotiorin\",\"Clioquinol \",\"Pentamidine isethionate\",\"spermine\",\"bumetanide\",\"Ticarcillin\",\"Styrene\",\"trichloroethylene\",\"isorhamnetin\"],\"legendgroup\":\"Ototoxic\",\"marker\":{\"color\":\"#EF553B\",\"symbol\":\"circle\"},\"mode\":\"markers\",\"name\":\"Ototoxic\",\"orientation\":\"v\",\"showlegend\":true,\"x\":[11,19,24,25,26,33,35,36,41,43,49,54,55,59,66,67,71,89,90,104,108,111,112,117,120,122,130,134,136,139,142,143,144,150,153,156,168,175,178,181,185,186,187,189,195,197,198,201,204,206,210,212,216,218,222,227,229,231,240,241,245,250,254,258,267,271],\"xaxis\":\"x\",\"y\":[1,8,5,7,6,3,4,3,12,4,13,30,7,12,13,5,0,4,7,7,4,0,7,6,5,7,5,4,2,3,4,8,5,0,4,1,7,15,8,3,4,9,3,0,0,8,13,24,3,3,5,13,0,2,11,8,5,5,1,10,0,5,6,0,0,7],\"yaxis\":\"y\",\"type\":\"scatter\"}],                        {\"template\":{\"data\":{\"bar\":[{\"error_x\":{\"color\":\"#2a3f5f\"},\"error_y\":{\"color\":\"#2a3f5f\"},\"marker\":{\"line\":{\"color\":\"#E5ECF6\",\"width\":0.5},\"pattern\":{\"fillmode\":\"overlay\",\"size\":10,\"solidity\":0.2}},\"type\":\"bar\"}],\"barpolar\":[{\"marker\":{\"line\":{\"color\":\"#E5ECF6\",\"width\":0.5},\"pattern\":{\"fillmode\":\"overlay\",\"size\":10,\"solidity\":0.2}},\"type\":\"barpolar\"}],\"carpet\":[{\"aaxis\":{\"endlinecolor\":\"#2a3f5f\",\"gridcolor\":\"white\",\"linecolor\":\"white\",\"minorgridcolor\":\"white\",\"startlinecolor\":\"#2a3f5f\"},\"baxis\":{\"endlinecolor\":\"#2a3f5f\",\"gridcolor\":\"white\",\"linecolor\":\"white\",\"minorgridcolor\":\"white\",\"startlinecolor\":\"#2a3f5f\"},\"type\":\"carpet\"}],\"choropleth\":[{\"colorbar\":{\"outlinewidth\":0,\"ticks\":\"\"},\"type\":\"choropleth\"}],\"contour\":[{\"colorbar\":{\"outlinewidth\":0,\"ticks\":\"\"},\"colorscale\":[[0.0,\"#0d0887\"],[0.1111111111111111,\"#46039f\"],[0.2222222222222222,\"#7201a8\"],[0.3333333333333333,\"#9c179e\"],[0.4444444444444444,\"#bd3786\"],[0.5555555555555556,\"#d8576b\"],[0.6666666666666666,\"#ed7953\"],[0.7777777777777778,\"#fb9f3a\"],[0.8888888888888888,\"#fdca26\"],[1.0,\"#f0f921\"]],\"type\":\"contour\"}],\"contourcarpet\":[{\"colorbar\":{\"outlinewidth\":0,\"ticks\":\"\"},\"type\":\"contourcarpet\"}],\"heatmap\":[{\"colorbar\":{\"outlinewidth\":0,\"ticks\":\"\"},\"colorscale\":[[0.0,\"#0d0887\"],[0.1111111111111111,\"#46039f\"],[0.2222222222222222,\"#7201a8\"],[0.3333333333333333,\"#9c179e\"],[0.4444444444444444,\"#bd3786\"],[0.5555555555555556,\"#d8576b\"],[0.6666666666666666,\"#ed7953\"],[0.7777777777777778,\"#fb9f3a\"],[0.8888888888888888,\"#fdca26\"],[1.0,\"#f0f921\"]],\"type\":\"heatmap\"}],\"heatmapgl\":[{\"colorbar\":{\"outlinewidth\":0,\"ticks\":\"\"},\"colorscale\":[[0.0,\"#0d0887\"],[0.1111111111111111,\"#46039f\"],[0.2222222222222222,\"#7201a8\"],[0.3333333333333333,\"#9c179e\"],[0.4444444444444444,\"#bd3786\"],[0.5555555555555556,\"#d8576b\"],[0.6666666666666666,\"#ed7953\"],[0.7777777777777778,\"#fb9f3a\"],[0.8888888888888888,\"#fdca26\"],[1.0,\"#f0f921\"]],\"type\":\"heatmapgl\"}],\"histogram\":[{\"marker\":{\"pattern\":{\"fillmode\":\"overlay\",\"size\":10,\"solidity\":0.2}},\"type\":\"histogram\"}],\"histogram2d\":[{\"colorbar\":{\"outlinewidth\":0,\"ticks\":\"\"},\"colorscale\":[[0.0,\"#0d0887\"],[0.1111111111111111,\"#46039f\"],[0.2222222222222222,\"#7201a8\"],[0.3333333333333333,\"#9c179e\"],[0.4444444444444444,\"#bd3786\"],[0.5555555555555556,\"#d8576b\"],[0.6666666666666666,\"#ed7953\"],[0.7777777777777778,\"#fb9f3a\"],[0.8888888888888888,\"#fdca26\"],[1.0,\"#f0f921\"]],\"type\":\"histogram2d\"}],\"histogram2dcontour\":[{\"colorbar\":{\"outlinewidth\":0,\"ticks\":\"\"},\"colorscale\":[[0.0,\"#0d0887\"],[0.1111111111111111,\"#46039f\"],[0.2222222222222222,\"#7201a8\"],[0.3333333333333333,\"#9c179e\"],[0.4444444444444444,\"#bd3786\"],[0.5555555555555556,\"#d8576b\"],[0.6666666666666666,\"#ed7953\"],[0.7777777777777778,\"#fb9f3a\"],[0.8888888888888888,\"#fdca26\"],[1.0,\"#f0f921\"]],\"type\":\"histogram2dcontour\"}],\"mesh3d\":[{\"colorbar\":{\"outlinewidth\":0,\"ticks\":\"\"},\"type\":\"mesh3d\"}],\"parcoords\":[{\"line\":{\"colorbar\":{\"outlinewidth\":0,\"ticks\":\"\"}},\"type\":\"parcoords\"}],\"pie\":[{\"automargin\":true,\"type\":\"pie\"}],\"scatter\":[{\"marker\":{\"colorbar\":{\"outlinewidth\":0,\"ticks\":\"\"}},\"type\":\"scatter\"}],\"scatter3d\":[{\"line\":{\"colorbar\":{\"outlinewidth\":0,\"ticks\":\"\"}},\"marker\":{\"colorbar\":{\"outlinewidth\":0,\"ticks\":\"\"}},\"type\":\"scatter3d\"}],\"scattercarpet\":[{\"marker\":{\"colorbar\":{\"outlinewidth\":0,\"ticks\":\"\"}},\"type\":\"scattercarpet\"}],\"scattergeo\":[{\"marker\":{\"colorbar\":{\"outlinewidth\":0,\"ticks\":\"\"}},\"type\":\"scattergeo\"}],\"scattergl\":[{\"marker\":{\"colorbar\":{\"outlinewidth\":0,\"ticks\":\"\"}},\"type\":\"scattergl\"}],\"scattermapbox\":[{\"marker\":{\"colorbar\":{\"outlinewidth\":0,\"ticks\":\"\"}},\"type\":\"scattermapbox\"}],\"scatterpolar\":[{\"marker\":{\"colorbar\":{\"outlinewidth\":0,\"ticks\":\"\"}},\"type\":\"scatterpolar\"}],\"scatterpolargl\":[{\"marker\":{\"colorbar\":{\"outlinewidth\":0,\"ticks\":\"\"}},\"type\":\"scatterpolargl\"}],\"scatterternary\":[{\"marker\":{\"colorbar\":{\"outlinewidth\":0,\"ticks\":\"\"}},\"type\":\"scatterternary\"}],\"surface\":[{\"colorbar\":{\"outlinewidth\":0,\"ticks\":\"\"},\"colorscale\":[[0.0,\"#0d0887\"],[0.1111111111111111,\"#46039f\"],[0.2222222222222222,\"#7201a8\"],[0.3333333333333333,\"#9c179e\"],[0.4444444444444444,\"#bd3786\"],[0.5555555555555556,\"#d8576b\"],[0.6666666666666666,\"#ed7953\"],[0.7777777777777778,\"#fb9f3a\"],[0.8888888888888888,\"#fdca26\"],[1.0,\"#f0f921\"]],\"type\":\"surface\"}],\"table\":[{\"cells\":{\"fill\":{\"color\":\"#EBF0F8\"},\"line\":{\"color\":\"white\"}},\"header\":{\"fill\":{\"color\":\"#C8D4E3\"},\"line\":{\"color\":\"white\"}},\"type\":\"table\"}]},\"layout\":{\"annotationdefaults\":{\"arrowcolor\":\"#2a3f5f\",\"arrowhead\":0,\"arrowwidth\":1},\"autotypenumbers\":\"strict\",\"coloraxis\":{\"colorbar\":{\"outlinewidth\":0,\"ticks\":\"\"}},\"colorscale\":{\"diverging\":[[0,\"#8e0152\"],[0.1,\"#c51b7d\"],[0.2,\"#de77ae\"],[0.3,\"#f1b6da\"],[0.4,\"#fde0ef\"],[0.5,\"#f7f7f7\"],[0.6,\"#e6f5d0\"],[0.7,\"#b8e186\"],[0.8,\"#7fbc41\"],[0.9,\"#4d9221\"],[1,\"#276419\"]],\"sequential\":[[0.0,\"#0d0887\"],[0.1111111111111111,\"#46039f\"],[0.2222222222222222,\"#7201a8\"],[0.3333333333333333,\"#9c179e\"],[0.4444444444444444,\"#bd3786\"],[0.5555555555555556,\"#d8576b\"],[0.6666666666666666,\"#ed7953\"],[0.7777777777777778,\"#fb9f3a\"],[0.8888888888888888,\"#fdca26\"],[1.0,\"#f0f921\"]],\"sequentialminus\":[[0.0,\"#0d0887\"],[0.1111111111111111,\"#46039f\"],[0.2222222222222222,\"#7201a8\"],[0.3333333333333333,\"#9c179e\"],[0.4444444444444444,\"#bd3786\"],[0.5555555555555556,\"#d8576b\"],[0.6666666666666666,\"#ed7953\"],[0.7777777777777778,\"#fb9f3a\"],[0.8888888888888888,\"#fdca26\"],[1.0,\"#f0f921\"]]},\"colorway\":[\"#636efa\",\"#EF553B\",\"#00cc96\",\"#ab63fa\",\"#FFA15A\",\"#19d3f3\",\"#FF6692\",\"#B6E880\",\"#FF97FF\",\"#FECB52\"],\"font\":{\"color\":\"#2a3f5f\"},\"geo\":{\"bgcolor\":\"white\",\"lakecolor\":\"white\",\"landcolor\":\"#E5ECF6\",\"showlakes\":true,\"showland\":true,\"subunitcolor\":\"white\"},\"hoverlabel\":{\"align\":\"left\"},\"hovermode\":\"closest\",\"mapbox\":{\"style\":\"light\"},\"paper_bgcolor\":\"white\",\"plot_bgcolor\":\"#E5ECF6\",\"polar\":{\"angularaxis\":{\"gridcolor\":\"white\",\"linecolor\":\"white\",\"ticks\":\"\"},\"bgcolor\":\"#E5ECF6\",\"radialaxis\":{\"gridcolor\":\"white\",\"linecolor\":\"white\",\"ticks\":\"\"}},\"scene\":{\"xaxis\":{\"backgroundcolor\":\"#E5ECF6\",\"gridcolor\":\"white\",\"gridwidth\":2,\"linecolor\":\"white\",\"showbackground\":true,\"ticks\":\"\",\"zerolinecolor\":\"white\"},\"yaxis\":{\"backgroundcolor\":\"#E5ECF6\",\"gridcolor\":\"white\",\"gridwidth\":2,\"linecolor\":\"white\",\"showbackground\":true,\"ticks\":\"\",\"zerolinecolor\":\"white\"},\"zaxis\":{\"backgroundcolor\":\"#E5ECF6\",\"gridcolor\":\"white\",\"gridwidth\":2,\"linecolor\":\"white\",\"showbackground\":true,\"ticks\":\"\",\"zerolinecolor\":\"white\"}},\"shapedefaults\":{\"line\":{\"color\":\"#2a3f5f\"}},\"ternary\":{\"aaxis\":{\"gridcolor\":\"white\",\"linecolor\":\"white\",\"ticks\":\"\"},\"baxis\":{\"gridcolor\":\"white\",\"linecolor\":\"white\",\"ticks\":\"\"},\"bgcolor\":\"#E5ECF6\",\"caxis\":{\"gridcolor\":\"white\",\"linecolor\":\"white\",\"ticks\":\"\"}},\"title\":{\"x\":0.05},\"xaxis\":{\"automargin\":true,\"gridcolor\":\"white\",\"linecolor\":\"white\",\"ticks\":\"\",\"title\":{\"standoff\":15},\"zerolinecolor\":\"white\",\"zerolinewidth\":2},\"yaxis\":{\"automargin\":true,\"gridcolor\":\"white\",\"linecolor\":\"white\",\"ticks\":\"\",\"title\":{\"standoff\":15},\"zerolinecolor\":\"white\",\"zerolinewidth\":2}}},\"xaxis\":{\"anchor\":\"y\",\"domain\":[0.0,1.0],\"title\":{\"text\":\"x\"}},\"yaxis\":{\"anchor\":\"x\",\"domain\":[0.0,1.0],\"title\":{\"text\":\"noxy\"}},\"legend\":{\"title\":{\"text\":\"color\"},\"tracegroupgap\":0},\"title\":{\"text\":\"Scatter plot of noxy feature as proxy for molecular size\"},\"height\":500,\"width\":700},                        {\"responsive\": true}                    ).then(function(){\n",
              "                            \n",
              "var gd = document.getElementById('41466789-d1b7-42f8-8867-07d38f430aaa');\n",
              "var x = new MutationObserver(function (mutations, observer) {{\n",
              "        var display = window.getComputedStyle(gd).display;\n",
              "        if (!display || display === 'none') {{\n",
              "            console.log([gd, 'removed!']);\n",
              "            Plotly.purge(gd);\n",
              "            observer.disconnect();\n",
              "        }}\n",
              "}});\n",
              "\n",
              "// Listen for the removal of the full notebook cells\n",
              "var notebookContainer = gd.closest('#notebook-container');\n",
              "if (notebookContainer) {{\n",
              "    x.observe(notebookContainer, {childList: true});\n",
              "}}\n",
              "\n",
              "// Listen for the clearing of the current output cell\n",
              "var outputEl = gd.closest('.output');\n",
              "if (outputEl) {{\n",
              "    x.observe(outputEl, {childList: true});\n",
              "}}\n",
              "\n",
              "                        })                };                            </script>        </div>\n",
              "</body>\n",
              "</html>"
            ]
          },
          "metadata": {}
        },
        {
          "output_type": "display_data",
          "data": {
            "text/html": [
              "<html>\n",
              "<head><meta charset=\"utf-8\" /></head>\n",
              "<body>\n",
              "    <div>            <script src=\"https://cdnjs.cloudflare.com/ajax/libs/mathjax/2.7.5/MathJax.js?config=TeX-AMS-MML_SVG\"></script><script type=\"text/javascript\">if (window.MathJax) {MathJax.Hub.Config({SVG: {font: \"STIX-Web\"}});}</script>                <script type=\"text/javascript\">window.PlotlyConfig = {MathJaxConfig: 'local'};</script>\n",
              "        <script src=\"https://cdn.plot.ly/plotly-2.8.3.min.js\"></script>                <div id=\"dd7e6009-c54c-4e1f-8d20-ae9e6044a570\" class=\"plotly-graph-div\" style=\"height:500px; width:700px;\"></div>            <script type=\"text/javascript\">                                    window.PLOTLYENV=window.PLOTLYENV || {};                                    if (document.getElementById(\"dd7e6009-c54c-4e1f-8d20-ae9e6044a570\")) {                    Plotly.newPlot(                        \"dd7e6009-c54c-4e1f-8d20-ae9e6044a570\",                        [{\"hovertemplate\":\"<b>%{hovertext}</b><br><br>color=Non-toxic<br>x=%{x}<br>ncarb=%{y}<extra></extra>\",\"hovertext\":[\"Saxagliptin\",\"Dutasteride\",\"Cefixime\",\"S-adenosylmethionine\",\"Ceftibuten\",\"Oxitriptan\",\"Niacin\",\"Acetohydroxamic acid\",\"Cetrorelix\",\"Tymazoline\",\"Chenodeoxycholic acid\",\"Ergocalciferol\",\"Liotrix\",\"Doxacurium chloride\",\"Pipotiazine\",\"Aminocaproic acid\",\"Decamethonium\",\"Isopropamide\",\"Sodium tetradecyl sulfate\",\"Dobutamine\",\"Ethionamide\",\"Phenacemide\",\"Aminolevulinic acid\",\"Vapreotide\",\"Vecuronium\",\"Dihydrotachysterol\",\"Fosaprepitant\",\"Degarelix\",\"Dalfopristin\",\"Heptabarbital\",\"Marimastat\",\"Voglibose\",\"Anidulafungin\",\"Pyrazinamide\",\"Daunorubicin\",\"Menadione\",\"Cefamandole\",\"Succinic acid\",\"Isothipendyl\",\"Micafungin\",\"Fosamprenavir\",\"Epirubicin\",\"Aminosalicylic acid\",\"Naphazoline\",\"Gadofosveset trisodium\",\"Cloxacillin\",\"Isometheptene\",\"Arformoterol\",\"Anisindione\",\"Methotrimeprazine\",\"Idarubicin\",\"Prednicarbate\",\"Azelaic acid\",\"Riboflavin\",\"Flucloxacillin\",\"Rimonabant\",\"Ceforanide\",\"Difluprednate\",\"Novobiocin\",\"Piperacillin\",\"Clobetasol\",\"Iodixanol\",\"Deslanoside\",\"Flumethasone pivalate\",\"Cefmenoxime\",\"Hydroxyurea\",\"L-cysteine\",\"Gonadorelin\",\"Levosimendan\",\"Pipecuronium\",\"Metaraminol\",\"Desmopressin\",\"Cycrimine\",\"Biperiden\",\"Alfacalcidol\",\"Lucanthone\",\"Leucovorin\",\"Meropenem\",\"Pargyline\",\"Pentolinium\",\"Hexafluronium\",\"Cefmetazole\",\"Miglitol\",\"Hydrocortamate\",\"Sulfacetamide\",\"Salicylamide\",\"Fluticasone propionate\",\"Acetophenazine\",\"Formoterol\",\"Cromoglicic acid\",\"Ixabepilone\",\"Pivampicillin\",\"Ethanolamine oleate\",\"Cefepime\",\"Antipyrine\",\"Saprisartan\",\"Promazine\",\"Levothyroxine\",\"Erythrityl tetranitrate\",\"Acepromazine\",\"Azidocillin\",\"Alpha-linolenic acid\",\"Bethanechol\",\"Halobetasol propionate\",\"Ciclopirox\",\"Ivacaftor\",\"Norgestimate\",\"Oxymetazoline\",\"Procaterol\",\"Sitaxentan\",\"Cefditoren\",\"Econazole\",\"Spectinomycin\",\"Fluphenazine\",\"Methyl aminolevulinate\",\"Isoflurophate\",\"Ethambutol\",\"Trabectedin\",\"Xanthophyll\",\"L-methionine\",\"Carbidopa\",\"Milrinone\",\"Beclometasone dipropionate\",\"Antrafenine\",\"Cefotetan\",\"Dactinomycin\",\"Azlocillin\",\"Tipranavir\",\"Cefonicid\",\"Carphenazine\",\"Amifostine\",\"Ethopropazine\",\"Docosanol\",\"Tolnaftate\",\"Benzonatate\",\"Colistimethate\",\"Betazole\",\"Gamma-homolinolenic acid\",\"Carglumic acid\",\"Enoxaparin\",\"Levonordefrin\",\"Clocortolone\",\"Mifepristone\",\"Succinylcholine\",\"Cholecalciferol\",\"Quinupristin\",\"Dexamethasone\",\"Diphemanil methylsulfate\",\"Cisatracurium besylate\",\"L-ornithine\",\"Pivmecillinam\",\"Triflupromazine\",\"Rocuronium\",\"Nafcillin\",\"Methoxyflurane\",\"Picrotoxin\",\"Hydralazine\",\"Creatine\",\"Halothane\",\"Plerixafor\",\"Gallamine triethiodide\",\"Propylhexedrine\",\"Methantheline\",\"Propiomazine\",\"Glucosamine\",\"L-asparagine\",\"Bimatoprost\",\"Selegiline\",\"Pyridoxal\",\"Thioproperazine\",\"Carmustine\",\"Phenindamine\",\"Meticillin\",\"Ceruletide\",\"Metixene\",\"Dicloxacillin\",\"Pentosan polysulfate\",\"Ticagrelor\",\"Tolazoline\",\"Fusidic acid\",\"Valrubicin\",\"Cefotiam\",\"Cefazolin\",\"Miconazole\",\"Diatrizoate\",\"Procyclidine\",\"Cefoperazone\",\"Hetacillin\",\"Tyloxapol\",\"Mivacurium\",\"Dimethyl sulfoxide\",\"Amrinone\",\"Butoconazole\",\"Terlipressin\",\"Pentagastrin\",\"Ceftazidime\",\"Tetrahydrofolic acid\",\"Suprofen\",\"Masoprocol\",\"Propericiazine\",\"Natamycin\",\"gadoteridol\",\"Demecarium\",\"Icatibant\",\"Hexobarbital\",\"Amdinocillin\",\"Antazoline\",\"Retapamulin\"],\"legendgroup\":\"Non-toxic\",\"marker\":{\"color\":\"#636efa\",\"symbol\":\"circle\"},\"mode\":\"markers\",\"name\":\"Non-toxic\",\"orientation\":\"v\",\"showlegend\":true,\"x\":[0,1,2,3,4,5,6,7,8,9,10,12,13,14,15,16,17,18,20,21,22,23,27,28,29,30,31,32,34,37,38,39,40,42,44,45,46,47,48,50,51,52,53,56,57,58,60,61,62,63,64,65,68,69,70,72,73,74,75,76,77,78,79,80,81,82,83,84,85,86,87,88,91,92,93,94,95,96,97,98,99,100,101,102,103,105,106,107,109,110,113,114,115,116,118,119,121,123,124,125,126,127,128,129,131,132,133,135,137,138,140,141,145,146,147,148,149,151,152,154,155,157,158,159,160,161,162,163,164,165,166,167,169,170,171,172,173,174,176,177,179,180,182,183,184,188,190,191,192,193,194,196,199,200,202,203,205,207,208,209,211,213,214,215,217,219,220,221,223,224,225,226,228,230,232,233,234,235,236,237,238,239,242,243,244,246,247,248,249,251,252,253,255,256,257,259,260,261,262,263,264,265,266,268,269,270,272,273],\"xaxis\":\"x\",\"y\":[18,27,16,15,15,11,6,2,70,14,24,28,30,56,24,6,16,23,14,18,8,9,5,57,34,28,23,82,34,13,15,10,58,5,27,11,18,4,16,56,25,27,7,14,33,19,9,19,16,19,26,27,9,17,19,22,20,27,31,23,22,35,47,27,16,1,3,55,14,35,9,46,19,21,27,20,20,17,11,15,36,15,8,27,8,7,25,23,19,23,27,22,20,19,11,25,17,15,4,19,16,18,7,25,12,24,23,16,16,18,19,18,14,22,6,6,10,39,40,5,10,12,28,30,17,62,20,31,18,24,5,19,22,19,30,58,5,20,6,26,9,22,29,14,27,53,22,21,65,5,21,18,32,21,3,30,8,4,2,28,30,10,21,20,6,4,25,13,8,22,5,19,17,58,20,19,10,23,10,31,34,18,14,18,11,19,25,19,17,58,2,10,19,52,37,22,19,14,18,21,33,17,32,59,12,15,17,30],\"yaxis\":\"y\",\"type\":\"scatter\"},{\"hovertemplate\":\"<b>%{hovertext}</b><br><br>color=Ototoxic<br>x=%{x}<br>ncarb=%{y}<extra></extra>\",\"hovertext\":[\"mefloquine\",\"deferoxamine\",\"Isradipine\",\"quercetin\",\"Pomiferin\",\"Rosolic acid\",\"Copper sulfate\",\"Hydrocodone\",\"Cyclosporine\",\"benzylpenicillin\",\"Neomycin\",\"2-Hyroxypropyl-beta-cyclodextrin\",\"Wedelolactone\",\"Dihydrostreptomycin\",\"Erythromycin\",\"Lopinavir\",\"chlorhexidine\",\"exjade\",\"vindesine\",\"Taxifolin\",\"Oxaliplatin\",\"Guaiazulene\",\"Gentamicin\",\"Quinine Sulfate\",\"Heroin\",\"Nimodipine\",\"Simvastatin\",\"Carboplatin\",\"Poly-L-lysine\",\"Staurosporine\",\"Chlorothiazide\",\"Dibekacin\",\"Homobutein\",\"toluene\",\"Lapatinib\",\"Imatinib\",\"Morin\",\"Capreomycin\",\"Remdesivir\",\"Propantheline bromide\",\"Ethacrynic acid\",\"Tobramycin\",\"Candesartan\",\"Chloroquine\",\"3,3'-iminodipropionitrile\",\"Deferoxamine\",\"vinblastine sulfate\",\"Vancomycin\",\"Vincamine\",\"salicylate\",\"Chloramphenicol\",\"amikacin\",\"nitrogen mustard\",\"Acetaminophen\",\"Kanamycin\",\"Chlortetracycline\",\"furosemide\",\"Sclerotiorin\",\"Clioquinol \",\"Pentamidine isethionate\",\"spermine\",\"bumetanide\",\"Ticarcillin\",\"Styrene\",\"trichloroethylene\",\"isorhamnetin\"],\"legendgroup\":\"Ototoxic\",\"marker\":{\"color\":\"#EF553B\",\"symbol\":\"circle\"},\"mode\":\"markers\",\"name\":\"Ototoxic\",\"orientation\":\"v\",\"showlegend\":true,\"x\":[11,19,24,25,26,33,35,36,41,43,49,54,55,59,66,67,71,89,90,104,108,111,112,117,120,122,130,134,136,139,142,143,144,150,153,156,168,175,178,181,185,186,187,189,195,197,198,201,204,206,210,212,216,218,222,227,229,231,240,241,245,250,254,258,267,271],\"xaxis\":\"x\",\"y\":[17,25,19,15,25,19,0,18,62,16,23,36,16,21,37,37,22,21,43,15,8,15,21,20,21,21,25,6,6,28,7,18,16,7,29,29,15,50,27,23,13,18,24,18,6,25,46,66,21,7,11,22,5,8,18,22,12,21,9,23,10,17,15,8,2,16],\"yaxis\":\"y\",\"type\":\"scatter\"}],                        {\"template\":{\"data\":{\"bar\":[{\"error_x\":{\"color\":\"#2a3f5f\"},\"error_y\":{\"color\":\"#2a3f5f\"},\"marker\":{\"line\":{\"color\":\"#E5ECF6\",\"width\":0.5},\"pattern\":{\"fillmode\":\"overlay\",\"size\":10,\"solidity\":0.2}},\"type\":\"bar\"}],\"barpolar\":[{\"marker\":{\"line\":{\"color\":\"#E5ECF6\",\"width\":0.5},\"pattern\":{\"fillmode\":\"overlay\",\"size\":10,\"solidity\":0.2}},\"type\":\"barpolar\"}],\"carpet\":[{\"aaxis\":{\"endlinecolor\":\"#2a3f5f\",\"gridcolor\":\"white\",\"linecolor\":\"white\",\"minorgridcolor\":\"white\",\"startlinecolor\":\"#2a3f5f\"},\"baxis\":{\"endlinecolor\":\"#2a3f5f\",\"gridcolor\":\"white\",\"linecolor\":\"white\",\"minorgridcolor\":\"white\",\"startlinecolor\":\"#2a3f5f\"},\"type\":\"carpet\"}],\"choropleth\":[{\"colorbar\":{\"outlinewidth\":0,\"ticks\":\"\"},\"type\":\"choropleth\"}],\"contour\":[{\"colorbar\":{\"outlinewidth\":0,\"ticks\":\"\"},\"colorscale\":[[0.0,\"#0d0887\"],[0.1111111111111111,\"#46039f\"],[0.2222222222222222,\"#7201a8\"],[0.3333333333333333,\"#9c179e\"],[0.4444444444444444,\"#bd3786\"],[0.5555555555555556,\"#d8576b\"],[0.6666666666666666,\"#ed7953\"],[0.7777777777777778,\"#fb9f3a\"],[0.8888888888888888,\"#fdca26\"],[1.0,\"#f0f921\"]],\"type\":\"contour\"}],\"contourcarpet\":[{\"colorbar\":{\"outlinewidth\":0,\"ticks\":\"\"},\"type\":\"contourcarpet\"}],\"heatmap\":[{\"colorbar\":{\"outlinewidth\":0,\"ticks\":\"\"},\"colorscale\":[[0.0,\"#0d0887\"],[0.1111111111111111,\"#46039f\"],[0.2222222222222222,\"#7201a8\"],[0.3333333333333333,\"#9c179e\"],[0.4444444444444444,\"#bd3786\"],[0.5555555555555556,\"#d8576b\"],[0.6666666666666666,\"#ed7953\"],[0.7777777777777778,\"#fb9f3a\"],[0.8888888888888888,\"#fdca26\"],[1.0,\"#f0f921\"]],\"type\":\"heatmap\"}],\"heatmapgl\":[{\"colorbar\":{\"outlinewidth\":0,\"ticks\":\"\"},\"colorscale\":[[0.0,\"#0d0887\"],[0.1111111111111111,\"#46039f\"],[0.2222222222222222,\"#7201a8\"],[0.3333333333333333,\"#9c179e\"],[0.4444444444444444,\"#bd3786\"],[0.5555555555555556,\"#d8576b\"],[0.6666666666666666,\"#ed7953\"],[0.7777777777777778,\"#fb9f3a\"],[0.8888888888888888,\"#fdca26\"],[1.0,\"#f0f921\"]],\"type\":\"heatmapgl\"}],\"histogram\":[{\"marker\":{\"pattern\":{\"fillmode\":\"overlay\",\"size\":10,\"solidity\":0.2}},\"type\":\"histogram\"}],\"histogram2d\":[{\"colorbar\":{\"outlinewidth\":0,\"ticks\":\"\"},\"colorscale\":[[0.0,\"#0d0887\"],[0.1111111111111111,\"#46039f\"],[0.2222222222222222,\"#7201a8\"],[0.3333333333333333,\"#9c179e\"],[0.4444444444444444,\"#bd3786\"],[0.5555555555555556,\"#d8576b\"],[0.6666666666666666,\"#ed7953\"],[0.7777777777777778,\"#fb9f3a\"],[0.8888888888888888,\"#fdca26\"],[1.0,\"#f0f921\"]],\"type\":\"histogram2d\"}],\"histogram2dcontour\":[{\"colorbar\":{\"outlinewidth\":0,\"ticks\":\"\"},\"colorscale\":[[0.0,\"#0d0887\"],[0.1111111111111111,\"#46039f\"],[0.2222222222222222,\"#7201a8\"],[0.3333333333333333,\"#9c179e\"],[0.4444444444444444,\"#bd3786\"],[0.5555555555555556,\"#d8576b\"],[0.6666666666666666,\"#ed7953\"],[0.7777777777777778,\"#fb9f3a\"],[0.8888888888888888,\"#fdca26\"],[1.0,\"#f0f921\"]],\"type\":\"histogram2dcontour\"}],\"mesh3d\":[{\"colorbar\":{\"outlinewidth\":0,\"ticks\":\"\"},\"type\":\"mesh3d\"}],\"parcoords\":[{\"line\":{\"colorbar\":{\"outlinewidth\":0,\"ticks\":\"\"}},\"type\":\"parcoords\"}],\"pie\":[{\"automargin\":true,\"type\":\"pie\"}],\"scatter\":[{\"marker\":{\"colorbar\":{\"outlinewidth\":0,\"ticks\":\"\"}},\"type\":\"scatter\"}],\"scatter3d\":[{\"line\":{\"colorbar\":{\"outlinewidth\":0,\"ticks\":\"\"}},\"marker\":{\"colorbar\":{\"outlinewidth\":0,\"ticks\":\"\"}},\"type\":\"scatter3d\"}],\"scattercarpet\":[{\"marker\":{\"colorbar\":{\"outlinewidth\":0,\"ticks\":\"\"}},\"type\":\"scattercarpet\"}],\"scattergeo\":[{\"marker\":{\"colorbar\":{\"outlinewidth\":0,\"ticks\":\"\"}},\"type\":\"scattergeo\"}],\"scattergl\":[{\"marker\":{\"colorbar\":{\"outlinewidth\":0,\"ticks\":\"\"}},\"type\":\"scattergl\"}],\"scattermapbox\":[{\"marker\":{\"colorbar\":{\"outlinewidth\":0,\"ticks\":\"\"}},\"type\":\"scattermapbox\"}],\"scatterpolar\":[{\"marker\":{\"colorbar\":{\"outlinewidth\":0,\"ticks\":\"\"}},\"type\":\"scatterpolar\"}],\"scatterpolargl\":[{\"marker\":{\"colorbar\":{\"outlinewidth\":0,\"ticks\":\"\"}},\"type\":\"scatterpolargl\"}],\"scatterternary\":[{\"marker\":{\"colorbar\":{\"outlinewidth\":0,\"ticks\":\"\"}},\"type\":\"scatterternary\"}],\"surface\":[{\"colorbar\":{\"outlinewidth\":0,\"ticks\":\"\"},\"colorscale\":[[0.0,\"#0d0887\"],[0.1111111111111111,\"#46039f\"],[0.2222222222222222,\"#7201a8\"],[0.3333333333333333,\"#9c179e\"],[0.4444444444444444,\"#bd3786\"],[0.5555555555555556,\"#d8576b\"],[0.6666666666666666,\"#ed7953\"],[0.7777777777777778,\"#fb9f3a\"],[0.8888888888888888,\"#fdca26\"],[1.0,\"#f0f921\"]],\"type\":\"surface\"}],\"table\":[{\"cells\":{\"fill\":{\"color\":\"#EBF0F8\"},\"line\":{\"color\":\"white\"}},\"header\":{\"fill\":{\"color\":\"#C8D4E3\"},\"line\":{\"color\":\"white\"}},\"type\":\"table\"}]},\"layout\":{\"annotationdefaults\":{\"arrowcolor\":\"#2a3f5f\",\"arrowhead\":0,\"arrowwidth\":1},\"autotypenumbers\":\"strict\",\"coloraxis\":{\"colorbar\":{\"outlinewidth\":0,\"ticks\":\"\"}},\"colorscale\":{\"diverging\":[[0,\"#8e0152\"],[0.1,\"#c51b7d\"],[0.2,\"#de77ae\"],[0.3,\"#f1b6da\"],[0.4,\"#fde0ef\"],[0.5,\"#f7f7f7\"],[0.6,\"#e6f5d0\"],[0.7,\"#b8e186\"],[0.8,\"#7fbc41\"],[0.9,\"#4d9221\"],[1,\"#276419\"]],\"sequential\":[[0.0,\"#0d0887\"],[0.1111111111111111,\"#46039f\"],[0.2222222222222222,\"#7201a8\"],[0.3333333333333333,\"#9c179e\"],[0.4444444444444444,\"#bd3786\"],[0.5555555555555556,\"#d8576b\"],[0.6666666666666666,\"#ed7953\"],[0.7777777777777778,\"#fb9f3a\"],[0.8888888888888888,\"#fdca26\"],[1.0,\"#f0f921\"]],\"sequentialminus\":[[0.0,\"#0d0887\"],[0.1111111111111111,\"#46039f\"],[0.2222222222222222,\"#7201a8\"],[0.3333333333333333,\"#9c179e\"],[0.4444444444444444,\"#bd3786\"],[0.5555555555555556,\"#d8576b\"],[0.6666666666666666,\"#ed7953\"],[0.7777777777777778,\"#fb9f3a\"],[0.8888888888888888,\"#fdca26\"],[1.0,\"#f0f921\"]]},\"colorway\":[\"#636efa\",\"#EF553B\",\"#00cc96\",\"#ab63fa\",\"#FFA15A\",\"#19d3f3\",\"#FF6692\",\"#B6E880\",\"#FF97FF\",\"#FECB52\"],\"font\":{\"color\":\"#2a3f5f\"},\"geo\":{\"bgcolor\":\"white\",\"lakecolor\":\"white\",\"landcolor\":\"#E5ECF6\",\"showlakes\":true,\"showland\":true,\"subunitcolor\":\"white\"},\"hoverlabel\":{\"align\":\"left\"},\"hovermode\":\"closest\",\"mapbox\":{\"style\":\"light\"},\"paper_bgcolor\":\"white\",\"plot_bgcolor\":\"#E5ECF6\",\"polar\":{\"angularaxis\":{\"gridcolor\":\"white\",\"linecolor\":\"white\",\"ticks\":\"\"},\"bgcolor\":\"#E5ECF6\",\"radialaxis\":{\"gridcolor\":\"white\",\"linecolor\":\"white\",\"ticks\":\"\"}},\"scene\":{\"xaxis\":{\"backgroundcolor\":\"#E5ECF6\",\"gridcolor\":\"white\",\"gridwidth\":2,\"linecolor\":\"white\",\"showbackground\":true,\"ticks\":\"\",\"zerolinecolor\":\"white\"},\"yaxis\":{\"backgroundcolor\":\"#E5ECF6\",\"gridcolor\":\"white\",\"gridwidth\":2,\"linecolor\":\"white\",\"showbackground\":true,\"ticks\":\"\",\"zerolinecolor\":\"white\"},\"zaxis\":{\"backgroundcolor\":\"#E5ECF6\",\"gridcolor\":\"white\",\"gridwidth\":2,\"linecolor\":\"white\",\"showbackground\":true,\"ticks\":\"\",\"zerolinecolor\":\"white\"}},\"shapedefaults\":{\"line\":{\"color\":\"#2a3f5f\"}},\"ternary\":{\"aaxis\":{\"gridcolor\":\"white\",\"linecolor\":\"white\",\"ticks\":\"\"},\"baxis\":{\"gridcolor\":\"white\",\"linecolor\":\"white\",\"ticks\":\"\"},\"bgcolor\":\"#E5ECF6\",\"caxis\":{\"gridcolor\":\"white\",\"linecolor\":\"white\",\"ticks\":\"\"}},\"title\":{\"x\":0.05},\"xaxis\":{\"automargin\":true,\"gridcolor\":\"white\",\"linecolor\":\"white\",\"ticks\":\"\",\"title\":{\"standoff\":15},\"zerolinecolor\":\"white\",\"zerolinewidth\":2},\"yaxis\":{\"automargin\":true,\"gridcolor\":\"white\",\"linecolor\":\"white\",\"ticks\":\"\",\"title\":{\"standoff\":15},\"zerolinecolor\":\"white\",\"zerolinewidth\":2}}},\"xaxis\":{\"anchor\":\"y\",\"domain\":[0.0,1.0],\"title\":{\"text\":\"x\"}},\"yaxis\":{\"anchor\":\"x\",\"domain\":[0.0,1.0],\"title\":{\"text\":\"ncarb\"}},\"legend\":{\"title\":{\"text\":\"color\"},\"tracegroupgap\":0},\"title\":{\"text\":\"Scatter plot of ncarb feature as proxy for molecular size\"},\"height\":500,\"width\":700},                        {\"responsive\": true}                    ).then(function(){\n",
              "                            \n",
              "var gd = document.getElementById('dd7e6009-c54c-4e1f-8d20-ae9e6044a570');\n",
              "var x = new MutationObserver(function (mutations, observer) {{\n",
              "        var display = window.getComputedStyle(gd).display;\n",
              "        if (!display || display === 'none') {{\n",
              "            console.log([gd, 'removed!']);\n",
              "            Plotly.purge(gd);\n",
              "            observer.disconnect();\n",
              "        }}\n",
              "}});\n",
              "\n",
              "// Listen for the removal of the full notebook cells\n",
              "var notebookContainer = gd.closest('#notebook-container');\n",
              "if (notebookContainer) {{\n",
              "    x.observe(notebookContainer, {childList: true});\n",
              "}}\n",
              "\n",
              "// Listen for the clearing of the current output cell\n",
              "var outputEl = gd.closest('.output');\n",
              "if (outputEl) {{\n",
              "    x.observe(outputEl, {childList: true});\n",
              "}}\n",
              "\n",
              "                        })                };                            </script>        </div>\n",
              "</body>\n",
              "</html>"
            ]
          },
          "metadata": {}
        },
        {
          "output_type": "display_data",
          "data": {
            "text/html": [
              "<html>\n",
              "<head><meta charset=\"utf-8\" /></head>\n",
              "<body>\n",
              "    <div>            <script src=\"https://cdnjs.cloudflare.com/ajax/libs/mathjax/2.7.5/MathJax.js?config=TeX-AMS-MML_SVG\"></script><script type=\"text/javascript\">if (window.MathJax) {MathJax.Hub.Config({SVG: {font: \"STIX-Web\"}});}</script>                <script type=\"text/javascript\">window.PlotlyConfig = {MathJaxConfig: 'local'};</script>\n",
              "        <script src=\"https://cdn.plot.ly/plotly-2.8.3.min.js\"></script>                <div id=\"dd82e624-d0f5-453a-a031-65d2d6686b7e\" class=\"plotly-graph-div\" style=\"height:500px; width:700px;\"></div>            <script type=\"text/javascript\">                                    window.PLOTLYENV=window.PLOTLYENV || {};                                    if (document.getElementById(\"dd82e624-d0f5-453a-a031-65d2d6686b7e\")) {                    Plotly.newPlot(                        \"dd82e624-d0f5-453a-a031-65d2d6686b7e\",                        [{\"hovertemplate\":\"<b>%{hovertext}</b><br><br>color=Non-toxic<br>x=%{x}<br>nsb=%{y}<extra></extra>\",\"hovertext\":[\"Saxagliptin\",\"Dutasteride\",\"Cefixime\",\"S-adenosylmethionine\",\"Ceftibuten\",\"Oxitriptan\",\"Niacin\",\"Acetohydroxamic acid\",\"Cetrorelix\",\"Tymazoline\",\"Chenodeoxycholic acid\",\"Ergocalciferol\",\"Liotrix\",\"Doxacurium chloride\",\"Pipotiazine\",\"Aminocaproic acid\",\"Decamethonium\",\"Isopropamide\",\"Sodium tetradecyl sulfate\",\"Dobutamine\",\"Ethionamide\",\"Phenacemide\",\"Aminolevulinic acid\",\"Vapreotide\",\"Vecuronium\",\"Dihydrotachysterol\",\"Fosaprepitant\",\"Degarelix\",\"Dalfopristin\",\"Heptabarbital\",\"Marimastat\",\"Voglibose\",\"Anidulafungin\",\"Pyrazinamide\",\"Daunorubicin\",\"Menadione\",\"Cefamandole\",\"Succinic acid\",\"Isothipendyl\",\"Micafungin\",\"Fosamprenavir\",\"Epirubicin\",\"Aminosalicylic acid\",\"Naphazoline\",\"Gadofosveset trisodium\",\"Cloxacillin\",\"Isometheptene\",\"Arformoterol\",\"Anisindione\",\"Methotrimeprazine\",\"Idarubicin\",\"Prednicarbate\",\"Azelaic acid\",\"Riboflavin\",\"Flucloxacillin\",\"Rimonabant\",\"Ceforanide\",\"Difluprednate\",\"Novobiocin\",\"Piperacillin\",\"Clobetasol\",\"Iodixanol\",\"Deslanoside\",\"Flumethasone pivalate\",\"Cefmenoxime\",\"Hydroxyurea\",\"L-cysteine\",\"Gonadorelin\",\"Levosimendan\",\"Pipecuronium\",\"Metaraminol\",\"Desmopressin\",\"Cycrimine\",\"Biperiden\",\"Alfacalcidol\",\"Lucanthone\",\"Leucovorin\",\"Meropenem\",\"Pargyline\",\"Pentolinium\",\"Hexafluronium\",\"Cefmetazole\",\"Miglitol\",\"Hydrocortamate\",\"Sulfacetamide\",\"Salicylamide\",\"Fluticasone propionate\",\"Acetophenazine\",\"Formoterol\",\"Cromoglicic acid\",\"Ixabepilone\",\"Pivampicillin\",\"Ethanolamine oleate\",\"Cefepime\",\"Antipyrine\",\"Saprisartan\",\"Promazine\",\"Levothyroxine\",\"Erythrityl tetranitrate\",\"Acepromazine\",\"Azidocillin\",\"Alpha-linolenic acid\",\"Bethanechol\",\"Halobetasol propionate\",\"Ciclopirox\",\"Ivacaftor\",\"Norgestimate\",\"Oxymetazoline\",\"Procaterol\",\"Sitaxentan\",\"Cefditoren\",\"Econazole\",\"Spectinomycin\",\"Fluphenazine\",\"Methyl aminolevulinate\",\"Isoflurophate\",\"Ethambutol\",\"Trabectedin\",\"Xanthophyll\",\"L-methionine\",\"Carbidopa\",\"Milrinone\",\"Beclometasone dipropionate\",\"Antrafenine\",\"Cefotetan\",\"Dactinomycin\",\"Azlocillin\",\"Tipranavir\",\"Cefonicid\",\"Carphenazine\",\"Amifostine\",\"Ethopropazine\",\"Docosanol\",\"Tolnaftate\",\"Benzonatate\",\"Colistimethate\",\"Betazole\",\"Gamma-homolinolenic acid\",\"Carglumic acid\",\"Enoxaparin\",\"Levonordefrin\",\"Clocortolone\",\"Mifepristone\",\"Succinylcholine\",\"Cholecalciferol\",\"Quinupristin\",\"Dexamethasone\",\"Diphemanil methylsulfate\",\"Cisatracurium besylate\",\"L-ornithine\",\"Pivmecillinam\",\"Triflupromazine\",\"Rocuronium\",\"Nafcillin\",\"Methoxyflurane\",\"Picrotoxin\",\"Hydralazine\",\"Creatine\",\"Halothane\",\"Plerixafor\",\"Gallamine triethiodide\",\"Propylhexedrine\",\"Methantheline\",\"Propiomazine\",\"Glucosamine\",\"L-asparagine\",\"Bimatoprost\",\"Selegiline\",\"Pyridoxal\",\"Thioproperazine\",\"Carmustine\",\"Phenindamine\",\"Meticillin\",\"Ceruletide\",\"Metixene\",\"Dicloxacillin\",\"Pentosan polysulfate\",\"Ticagrelor\",\"Tolazoline\",\"Fusidic acid\",\"Valrubicin\",\"Cefotiam\",\"Cefazolin\",\"Miconazole\",\"Diatrizoate\",\"Procyclidine\",\"Cefoperazone\",\"Hetacillin\",\"Tyloxapol\",\"Mivacurium\",\"Dimethyl sulfoxide\",\"Amrinone\",\"Butoconazole\",\"Terlipressin\",\"Pentagastrin\",\"Ceftazidime\",\"Tetrahydrofolic acid\",\"Suprofen\",\"Masoprocol\",\"Propericiazine\",\"Natamycin\",\"gadoteridol\",\"Demecarium\",\"Icatibant\",\"Hexobarbital\",\"Amdinocillin\",\"Antazoline\",\"Retapamulin\"],\"legendgroup\":\"Non-toxic\",\"marker\":{\"color\":\"#636efa\",\"symbol\":\"circle\"},\"mode\":\"markers\",\"name\":\"Non-toxic\",\"orientation\":\"v\",\"showlegend\":true,\"x\":[0,1,2,3,4,5,6,7,8,9,10,12,13,14,15,16,17,18,20,21,22,23,27,28,29,30,31,32,34,37,38,39,40,42,44,45,46,47,48,50,51,52,53,56,57,58,60,61,62,63,64,65,68,69,70,72,73,74,75,76,77,78,79,80,81,82,83,84,85,86,87,88,91,92,93,94,95,96,97,98,99,100,101,102,103,105,106,107,109,110,113,114,115,116,118,119,121,123,124,125,126,127,128,129,131,132,133,135,137,138,140,141,145,146,147,148,149,151,152,154,155,157,158,159,160,161,162,163,164,165,166,167,169,170,171,172,173,174,176,177,179,180,182,183,184,188,190,191,192,193,194,196,199,200,202,203,205,207,208,209,211,213,214,215,217,219,220,221,223,224,225,226,228,230,232,233,234,235,236,237,238,239,242,243,244,246,247,248,249,251,252,253,255,256,257,259,260,261,262,263,264,265,266,268,269,270,272,273],\"xaxis\":\"x\",\"y\":[25,32,20,18,18,6,2,3,65,11,30,27,23,53,21,7,17,14,16,11,4,5,6,46,43,28,25,74,36,15,19,18,57,2,27,5,19,5,10,62,25,28,4,6,35,18,8,13,7,13,25,32,10,12,19,15,22,33,26,27,27,45,72,33,21,3,5,57,11,46,6,53,17,19,28,9,19,24,5,18,19,22,14,33,5,3,32,19,13,11,29,24,20,25,3,18,10,12,15,12,17,15,9,31,9,12,26,13,10,13,20,9,24,21,7,9,13,42,32,7,9,3,33,22,27,68,24,23,21,20,10,12,22,6,35,86,3,17,9,60,7,27,26,17,27,54,27,13,50,7,28,14,41,18,7,46,2,6,6,32,30,11,14,13,12,6,22,7,5,19,9,10,19,60,13,19,28,24,6,36,38,23,18,10,11,17,30,21,12,52,2,2,10,62,33,23,18,6,11,16,43,25,27,74,14,21,9,37],\"yaxis\":\"y\",\"type\":\"scatter\"},{\"hovertemplate\":\"<b>%{hovertext}</b><br><br>color=Ototoxic<br>x=%{x}<br>nsb=%{y}<extra></extra>\",\"hovertext\":[\"mefloquine\",\"deferoxamine\",\"Isradipine\",\"quercetin\",\"Pomiferin\",\"Rosolic acid\",\"Copper sulfate\",\"Hydrocodone\",\"Cyclosporine\",\"benzylpenicillin\",\"Neomycin\",\"2-Hyroxypropyl-beta-cyclodextrin\",\"Wedelolactone\",\"Dihydrostreptomycin\",\"Erythromycin\",\"Lopinavir\",\"chlorhexidine\",\"exjade\",\"vindesine\",\"Taxifolin\",\"Oxaliplatin\",\"Guaiazulene\",\"Gentamicin\",\"Quinine Sulfate\",\"Heroin\",\"Nimodipine\",\"Simvastatin\",\"Carboplatin\",\"Poly-L-lysine\",\"Staurosporine\",\"Chlorothiazide\",\"Dibekacin\",\"Homobutein\",\"toluene\",\"Lapatinib\",\"Imatinib\",\"Morin\",\"Capreomycin\",\"Remdesivir\",\"Propantheline bromide\",\"Ethacrynic acid\",\"Tobramycin\",\"Candesartan\",\"Chloroquine\",\"3,3'-iminodipropionitrile\",\"Deferoxamine\",\"vinblastine sulfate\",\"Vancomycin\",\"Vincamine\",\"salicylate\",\"Chloramphenicol\",\"amikacin\",\"nitrogen mustard\",\"Acetaminophen\",\"Kanamycin\",\"Chlortetracycline\",\"furosemide\",\"Sclerotiorin\",\"Clioquinol \",\"Pentamidine isethionate\",\"spermine\",\"bumetanide\",\"Ticarcillin\",\"Styrene\",\"trichloroethylene\",\"isorhamnetin\"],\"legendgroup\":\"Ototoxic\",\"marker\":{\"color\":\"#EF553B\",\"symbol\":\"circle\"},\"mode\":\"markers\",\"name\":\"Ototoxic\",\"orientation\":\"v\",\"showlegend\":true,\"x\":[11,19,24,25,26,33,35,36,41,43,49,54,55,59,66,67,71,89,90,104,108,111,112,117,120,122,130,134,136,139,142,143,144,150,153,156,168,175,178,181,185,186,187,189,195,197,198,201,204,206,210,212,216,218,222,227,229,231,240,241,245,250,254,258,267,271],\"xaxis\":\"x\",\"y\":[17,33,15,6,14,8,2,19,73,16,45,72,5,40,51,28,19,7,44,11,11,6,35,17,22,20,28,8,8,17,7,33,8,1,14,16,6,77,26,16,10,34,9,12,6,33,49,72,19,3,12,41,7,4,35,25,8,20,3,20,13,11,18,1,3,7],\"yaxis\":\"y\",\"type\":\"scatter\"}],                        {\"template\":{\"data\":{\"bar\":[{\"error_x\":{\"color\":\"#2a3f5f\"},\"error_y\":{\"color\":\"#2a3f5f\"},\"marker\":{\"line\":{\"color\":\"#E5ECF6\",\"width\":0.5},\"pattern\":{\"fillmode\":\"overlay\",\"size\":10,\"solidity\":0.2}},\"type\":\"bar\"}],\"barpolar\":[{\"marker\":{\"line\":{\"color\":\"#E5ECF6\",\"width\":0.5},\"pattern\":{\"fillmode\":\"overlay\",\"size\":10,\"solidity\":0.2}},\"type\":\"barpolar\"}],\"carpet\":[{\"aaxis\":{\"endlinecolor\":\"#2a3f5f\",\"gridcolor\":\"white\",\"linecolor\":\"white\",\"minorgridcolor\":\"white\",\"startlinecolor\":\"#2a3f5f\"},\"baxis\":{\"endlinecolor\":\"#2a3f5f\",\"gridcolor\":\"white\",\"linecolor\":\"white\",\"minorgridcolor\":\"white\",\"startlinecolor\":\"#2a3f5f\"},\"type\":\"carpet\"}],\"choropleth\":[{\"colorbar\":{\"outlinewidth\":0,\"ticks\":\"\"},\"type\":\"choropleth\"}],\"contour\":[{\"colorbar\":{\"outlinewidth\":0,\"ticks\":\"\"},\"colorscale\":[[0.0,\"#0d0887\"],[0.1111111111111111,\"#46039f\"],[0.2222222222222222,\"#7201a8\"],[0.3333333333333333,\"#9c179e\"],[0.4444444444444444,\"#bd3786\"],[0.5555555555555556,\"#d8576b\"],[0.6666666666666666,\"#ed7953\"],[0.7777777777777778,\"#fb9f3a\"],[0.8888888888888888,\"#fdca26\"],[1.0,\"#f0f921\"]],\"type\":\"contour\"}],\"contourcarpet\":[{\"colorbar\":{\"outlinewidth\":0,\"ticks\":\"\"},\"type\":\"contourcarpet\"}],\"heatmap\":[{\"colorbar\":{\"outlinewidth\":0,\"ticks\":\"\"},\"colorscale\":[[0.0,\"#0d0887\"],[0.1111111111111111,\"#46039f\"],[0.2222222222222222,\"#7201a8\"],[0.3333333333333333,\"#9c179e\"],[0.4444444444444444,\"#bd3786\"],[0.5555555555555556,\"#d8576b\"],[0.6666666666666666,\"#ed7953\"],[0.7777777777777778,\"#fb9f3a\"],[0.8888888888888888,\"#fdca26\"],[1.0,\"#f0f921\"]],\"type\":\"heatmap\"}],\"heatmapgl\":[{\"colorbar\":{\"outlinewidth\":0,\"ticks\":\"\"},\"colorscale\":[[0.0,\"#0d0887\"],[0.1111111111111111,\"#46039f\"],[0.2222222222222222,\"#7201a8\"],[0.3333333333333333,\"#9c179e\"],[0.4444444444444444,\"#bd3786\"],[0.5555555555555556,\"#d8576b\"],[0.6666666666666666,\"#ed7953\"],[0.7777777777777778,\"#fb9f3a\"],[0.8888888888888888,\"#fdca26\"],[1.0,\"#f0f921\"]],\"type\":\"heatmapgl\"}],\"histogram\":[{\"marker\":{\"pattern\":{\"fillmode\":\"overlay\",\"size\":10,\"solidity\":0.2}},\"type\":\"histogram\"}],\"histogram2d\":[{\"colorbar\":{\"outlinewidth\":0,\"ticks\":\"\"},\"colorscale\":[[0.0,\"#0d0887\"],[0.1111111111111111,\"#46039f\"],[0.2222222222222222,\"#7201a8\"],[0.3333333333333333,\"#9c179e\"],[0.4444444444444444,\"#bd3786\"],[0.5555555555555556,\"#d8576b\"],[0.6666666666666666,\"#ed7953\"],[0.7777777777777778,\"#fb9f3a\"],[0.8888888888888888,\"#fdca26\"],[1.0,\"#f0f921\"]],\"type\":\"histogram2d\"}],\"histogram2dcontour\":[{\"colorbar\":{\"outlinewidth\":0,\"ticks\":\"\"},\"colorscale\":[[0.0,\"#0d0887\"],[0.1111111111111111,\"#46039f\"],[0.2222222222222222,\"#7201a8\"],[0.3333333333333333,\"#9c179e\"],[0.4444444444444444,\"#bd3786\"],[0.5555555555555556,\"#d8576b\"],[0.6666666666666666,\"#ed7953\"],[0.7777777777777778,\"#fb9f3a\"],[0.8888888888888888,\"#fdca26\"],[1.0,\"#f0f921\"]],\"type\":\"histogram2dcontour\"}],\"mesh3d\":[{\"colorbar\":{\"outlinewidth\":0,\"ticks\":\"\"},\"type\":\"mesh3d\"}],\"parcoords\":[{\"line\":{\"colorbar\":{\"outlinewidth\":0,\"ticks\":\"\"}},\"type\":\"parcoords\"}],\"pie\":[{\"automargin\":true,\"type\":\"pie\"}],\"scatter\":[{\"marker\":{\"colorbar\":{\"outlinewidth\":0,\"ticks\":\"\"}},\"type\":\"scatter\"}],\"scatter3d\":[{\"line\":{\"colorbar\":{\"outlinewidth\":0,\"ticks\":\"\"}},\"marker\":{\"colorbar\":{\"outlinewidth\":0,\"ticks\":\"\"}},\"type\":\"scatter3d\"}],\"scattercarpet\":[{\"marker\":{\"colorbar\":{\"outlinewidth\":0,\"ticks\":\"\"}},\"type\":\"scattercarpet\"}],\"scattergeo\":[{\"marker\":{\"colorbar\":{\"outlinewidth\":0,\"ticks\":\"\"}},\"type\":\"scattergeo\"}],\"scattergl\":[{\"marker\":{\"colorbar\":{\"outlinewidth\":0,\"ticks\":\"\"}},\"type\":\"scattergl\"}],\"scattermapbox\":[{\"marker\":{\"colorbar\":{\"outlinewidth\":0,\"ticks\":\"\"}},\"type\":\"scattermapbox\"}],\"scatterpolar\":[{\"marker\":{\"colorbar\":{\"outlinewidth\":0,\"ticks\":\"\"}},\"type\":\"scatterpolar\"}],\"scatterpolargl\":[{\"marker\":{\"colorbar\":{\"outlinewidth\":0,\"ticks\":\"\"}},\"type\":\"scatterpolargl\"}],\"scatterternary\":[{\"marker\":{\"colorbar\":{\"outlinewidth\":0,\"ticks\":\"\"}},\"type\":\"scatterternary\"}],\"surface\":[{\"colorbar\":{\"outlinewidth\":0,\"ticks\":\"\"},\"colorscale\":[[0.0,\"#0d0887\"],[0.1111111111111111,\"#46039f\"],[0.2222222222222222,\"#7201a8\"],[0.3333333333333333,\"#9c179e\"],[0.4444444444444444,\"#bd3786\"],[0.5555555555555556,\"#d8576b\"],[0.6666666666666666,\"#ed7953\"],[0.7777777777777778,\"#fb9f3a\"],[0.8888888888888888,\"#fdca26\"],[1.0,\"#f0f921\"]],\"type\":\"surface\"}],\"table\":[{\"cells\":{\"fill\":{\"color\":\"#EBF0F8\"},\"line\":{\"color\":\"white\"}},\"header\":{\"fill\":{\"color\":\"#C8D4E3\"},\"line\":{\"color\":\"white\"}},\"type\":\"table\"}]},\"layout\":{\"annotationdefaults\":{\"arrowcolor\":\"#2a3f5f\",\"arrowhead\":0,\"arrowwidth\":1},\"autotypenumbers\":\"strict\",\"coloraxis\":{\"colorbar\":{\"outlinewidth\":0,\"ticks\":\"\"}},\"colorscale\":{\"diverging\":[[0,\"#8e0152\"],[0.1,\"#c51b7d\"],[0.2,\"#de77ae\"],[0.3,\"#f1b6da\"],[0.4,\"#fde0ef\"],[0.5,\"#f7f7f7\"],[0.6,\"#e6f5d0\"],[0.7,\"#b8e186\"],[0.8,\"#7fbc41\"],[0.9,\"#4d9221\"],[1,\"#276419\"]],\"sequential\":[[0.0,\"#0d0887\"],[0.1111111111111111,\"#46039f\"],[0.2222222222222222,\"#7201a8\"],[0.3333333333333333,\"#9c179e\"],[0.4444444444444444,\"#bd3786\"],[0.5555555555555556,\"#d8576b\"],[0.6666666666666666,\"#ed7953\"],[0.7777777777777778,\"#fb9f3a\"],[0.8888888888888888,\"#fdca26\"],[1.0,\"#f0f921\"]],\"sequentialminus\":[[0.0,\"#0d0887\"],[0.1111111111111111,\"#46039f\"],[0.2222222222222222,\"#7201a8\"],[0.3333333333333333,\"#9c179e\"],[0.4444444444444444,\"#bd3786\"],[0.5555555555555556,\"#d8576b\"],[0.6666666666666666,\"#ed7953\"],[0.7777777777777778,\"#fb9f3a\"],[0.8888888888888888,\"#fdca26\"],[1.0,\"#f0f921\"]]},\"colorway\":[\"#636efa\",\"#EF553B\",\"#00cc96\",\"#ab63fa\",\"#FFA15A\",\"#19d3f3\",\"#FF6692\",\"#B6E880\",\"#FF97FF\",\"#FECB52\"],\"font\":{\"color\":\"#2a3f5f\"},\"geo\":{\"bgcolor\":\"white\",\"lakecolor\":\"white\",\"landcolor\":\"#E5ECF6\",\"showlakes\":true,\"showland\":true,\"subunitcolor\":\"white\"},\"hoverlabel\":{\"align\":\"left\"},\"hovermode\":\"closest\",\"mapbox\":{\"style\":\"light\"},\"paper_bgcolor\":\"white\",\"plot_bgcolor\":\"#E5ECF6\",\"polar\":{\"angularaxis\":{\"gridcolor\":\"white\",\"linecolor\":\"white\",\"ticks\":\"\"},\"bgcolor\":\"#E5ECF6\",\"radialaxis\":{\"gridcolor\":\"white\",\"linecolor\":\"white\",\"ticks\":\"\"}},\"scene\":{\"xaxis\":{\"backgroundcolor\":\"#E5ECF6\",\"gridcolor\":\"white\",\"gridwidth\":2,\"linecolor\":\"white\",\"showbackground\":true,\"ticks\":\"\",\"zerolinecolor\":\"white\"},\"yaxis\":{\"backgroundcolor\":\"#E5ECF6\",\"gridcolor\":\"white\",\"gridwidth\":2,\"linecolor\":\"white\",\"showbackground\":true,\"ticks\":\"\",\"zerolinecolor\":\"white\"},\"zaxis\":{\"backgroundcolor\":\"#E5ECF6\",\"gridcolor\":\"white\",\"gridwidth\":2,\"linecolor\":\"white\",\"showbackground\":true,\"ticks\":\"\",\"zerolinecolor\":\"white\"}},\"shapedefaults\":{\"line\":{\"color\":\"#2a3f5f\"}},\"ternary\":{\"aaxis\":{\"gridcolor\":\"white\",\"linecolor\":\"white\",\"ticks\":\"\"},\"baxis\":{\"gridcolor\":\"white\",\"linecolor\":\"white\",\"ticks\":\"\"},\"bgcolor\":\"#E5ECF6\",\"caxis\":{\"gridcolor\":\"white\",\"linecolor\":\"white\",\"ticks\":\"\"}},\"title\":{\"x\":0.05},\"xaxis\":{\"automargin\":true,\"gridcolor\":\"white\",\"linecolor\":\"white\",\"ticks\":\"\",\"title\":{\"standoff\":15},\"zerolinecolor\":\"white\",\"zerolinewidth\":2},\"yaxis\":{\"automargin\":true,\"gridcolor\":\"white\",\"linecolor\":\"white\",\"ticks\":\"\",\"title\":{\"standoff\":15},\"zerolinecolor\":\"white\",\"zerolinewidth\":2}}},\"xaxis\":{\"anchor\":\"y\",\"domain\":[0.0,1.0],\"title\":{\"text\":\"x\"}},\"yaxis\":{\"anchor\":\"x\",\"domain\":[0.0,1.0],\"title\":{\"text\":\"nsb\"}},\"legend\":{\"title\":{\"text\":\"color\"},\"tracegroupgap\":0},\"title\":{\"text\":\"Scatter plot of nsb feature as proxy for molecular size\"},\"height\":500,\"width\":700},                        {\"responsive\": true}                    ).then(function(){\n",
              "                            \n",
              "var gd = document.getElementById('dd82e624-d0f5-453a-a031-65d2d6686b7e');\n",
              "var x = new MutationObserver(function (mutations, observer) {{\n",
              "        var display = window.getComputedStyle(gd).display;\n",
              "        if (!display || display === 'none') {{\n",
              "            console.log([gd, 'removed!']);\n",
              "            Plotly.purge(gd);\n",
              "            observer.disconnect();\n",
              "        }}\n",
              "}});\n",
              "\n",
              "// Listen for the removal of the full notebook cells\n",
              "var notebookContainer = gd.closest('#notebook-container');\n",
              "if (notebookContainer) {{\n",
              "    x.observe(notebookContainer, {childList: true});\n",
              "}}\n",
              "\n",
              "// Listen for the clearing of the current output cell\n",
              "var outputEl = gd.closest('.output');\n",
              "if (outputEl) {{\n",
              "    x.observe(outputEl, {childList: true});\n",
              "}}\n",
              "\n",
              "                        })                };                            </script>        </div>\n",
              "</body>\n",
              "</html>"
            ]
          },
          "metadata": {}
        }
      ],
      "source": [
        "for indicator in molecular_size_features:\n",
        "    fig = px.scatter(\n",
        "        features_df,\n",
        "        y=indicator,\n",
        "        x=np.arange(0, features_df.shape[0]),\n",
        "        color = class_label_name,\n",
        "        hover_name=features_df['compound'],\n",
        "        title=f'Scatter plot of {indicator} feature as proxy for molecular size',\n",
        "        width=700, \n",
        "        height=500\n",
        "    )\n",
        "    fig.show()"
      ]
    },
    {
      "cell_type": "code",
      "execution_count": null,
      "id": "f900a6c2",
      "metadata": {
        "id": "f900a6c2"
      },
      "outputs": [],
      "source": [
        ""
      ]
    }
  ],
  "metadata": {
    "kernelspec": {
      "display_name": "Python 3",
      "name": "python3"
    },
    "language_info": {
      "name": "python"
    },
    "colab": {
      "name": "Interactive Manifold Learning.ipynb",
      "provenance": [],
      "collapsed_sections": [],
      "include_colab_link": true
    }
  },
  "nbformat": 4,
  "nbformat_minor": 5
}